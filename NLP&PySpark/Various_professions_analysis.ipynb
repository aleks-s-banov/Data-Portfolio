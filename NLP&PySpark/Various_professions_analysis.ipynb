{
 "cells": [
  {
   "cell_type": "markdown",
   "metadata": {},
   "source": [
    "# Qualifications analysis for data jobs - Differentiated according to profession\n",
    "#### TeamBanov\n",
    "#### Henriett Kapui, Aleksandar Banov, Matthias Humer\n",
    "\n",
    "\n",
    "\n",
    "Problem Overview:\n",
    "In this notebook we are guided by our work in _USA_jobs_analysis.ipynb_. But now we differentiate between the three professions \"data scientist\", \"data analyst\" and \"data engineer\", and research what the requirements are for each group.\n",
    "\n",
    "**This notebook**: In this notebook we are going to conduct an analysis on the data from kaggle: https://www.kaggle.com/code/inigoml/data-exploration/data?select=indeed_job_dataset.csv"
   ]
  },
  {
   "cell_type": "code",
   "execution_count": 73,
   "metadata": {},
   "outputs": [],
   "source": [
    "# imports\n",
    "import pandas as pd\n",
    "import numpy as np\n",
    "\n",
    "# imports for plots\n",
    "import matplotlib.pyplot as plt\n",
    "import seaborn as sns\n",
    "from matplotlib.patches import Rectangle,Circle\n",
    "from matplotlib.lines import Line2D\n",
    "\n",
    "# imports to do the wordcloud and for all the regular expressions\n",
    "from wordcloud import WordCloud\n",
    "import regex as re"
   ]
  },
  {
   "cell_type": "code",
   "execution_count": 74,
   "metadata": {},
   "outputs": [],
   "source": [
    "try:\n",
    "    df = pd.read_csv('DA_DE_DS.csv')\n",
    "# if the error occurs, handle it !!\n",
    "except ImportError:\n",
    "    print(\"An error occured while importing the file!!!\")\n",
    "    # if no error occurs\n",
    "else:\n",
    "    print(\"No Error occured!!\")"
   ]
  },
  {
   "cell_type": "code",
   "execution_count": 75,
   "metadata": {},
   "outputs": [
    {
     "data": {
      "text/plain": [
       "0        position summary    the business analyst role...\n",
       "1        what do we need    you to have an amazing per...\n",
       "2        validate analyze and conduct statistical anal...\n",
       "3        full time washington dc metro area starting s...\n",
       "4        assist in consultations with business partner...\n",
       "                              ...                        \n",
       "4797     as a data software engineer you will focus on...\n",
       "4798     want to change the world how about contribute...\n",
       "4799     identify and solve hybrid cloud data engineer...\n",
       "4800     at capital one we’re building a leading infor...\n",
       "4801     develops parallel data intensive systems usin...\n",
       "Name: clean_description, Length: 4802, dtype: object"
      ]
     },
     "execution_count": 75,
     "metadata": {},
     "output_type": "execute_result"
    }
   ],
   "source": [
    "# uses re library for regular expressions\n",
    "def row_clean(row):\n",
    "    row = str(row)                        # to string\n",
    "    row = row.replace(\"-\", \" \")           # get's rid of hyphens \n",
    "    row = re.sub(\"[\\n]\", \" \", row)        # get's rid of new lines\n",
    "    row = re.sub(\"[.!?\\()-,:]\", \"\", row)  # get's rid of nonempty sequence of characters from the set of given characters (some are escaped)\n",
    "    row = row.lower()                     # lowercases the data\n",
    "    return row\n",
    "\n",
    "#apply the function above ot the job_description data to make a new column\n",
    "df[\"clean_description\"] = df[\"job_description\"].apply(row_clean)\n",
    "\n",
    "df[\"clean_description\"]"
   ]
  },
  {
   "cell_type": "code",
   "execution_count": 76,
   "metadata": {},
   "outputs": [],
   "source": [
    "grouped = df.groupby(df.job_title)\n",
    "df_ds = grouped.get_group(\"data_scientist\")\n",
    "df_da = grouped.get_group(\"data_analyst\")\n",
    "df_de = grouped.get_group(\"data_engineer\")"
   ]
  },
  {
   "cell_type": "code",
   "execution_count": 77,
   "metadata": {},
   "outputs": [
    {
     "data": {
      "text/html": [
       "<div>\n",
       "<style scoped>\n",
       "    .dataframe tbody tr th:only-of-type {\n",
       "        vertical-align: middle;\n",
       "    }\n",
       "\n",
       "    .dataframe tbody tr th {\n",
       "        vertical-align: top;\n",
       "    }\n",
       "\n",
       "    .dataframe thead th {\n",
       "        text-align: right;\n",
       "    }\n",
       "</style>\n",
       "<table border=\"1\" class=\"dataframe\">\n",
       "  <thead>\n",
       "    <tr style=\"text-align: right;\">\n",
       "      <th></th>\n",
       "      <th>job_title</th>\n",
       "      <th>job_description</th>\n",
       "      <th>clean_description</th>\n",
       "    </tr>\n",
       "  </thead>\n",
       "  <tbody>\n",
       "    <tr>\n",
       "      <th>0</th>\n",
       "      <td>data_scientist</td>\n",
       "      <td>POSITION SUMMARY,    The Business Analyst rol...</td>\n",
       "      <td>position summary    the business analyst role...</td>\n",
       "    </tr>\n",
       "    <tr>\n",
       "      <th>1</th>\n",
       "      <td>data_scientist</td>\n",
       "      <td>What do we need?,    You to have an amazing p...</td>\n",
       "      <td>what do we need    you to have an amazing per...</td>\n",
       "    </tr>\n",
       "    <tr>\n",
       "      <th>2</th>\n",
       "      <td>data_scientist</td>\n",
       "      <td>Validate, analyze, and conduct statistical an...</td>\n",
       "      <td>validate analyze and conduct statistical anal...</td>\n",
       "    </tr>\n",
       "    <tr>\n",
       "      <th>3</th>\n",
       "      <td>data_scientist</td>\n",
       "      <td>Full time, Washington, DC metro area, Startin...</td>\n",
       "      <td>full time washington dc metro area starting s...</td>\n",
       "    </tr>\n",
       "    <tr>\n",
       "      <th>4</th>\n",
       "      <td>data_scientist</td>\n",
       "      <td>Assist in consultations with business partner...</td>\n",
       "      <td>assist in consultations with business partner...</td>\n",
       "    </tr>\n",
       "  </tbody>\n",
       "</table>\n",
       "</div>"
      ],
      "text/plain": [
       "        job_title                                    job_description  \\\n",
       "0  data_scientist   POSITION SUMMARY,    The Business Analyst rol...   \n",
       "1  data_scientist   What do we need?,    You to have an amazing p...   \n",
       "2  data_scientist   Validate, analyze, and conduct statistical an...   \n",
       "3  data_scientist   Full time, Washington, DC metro area, Startin...   \n",
       "4  data_scientist   Assist in consultations with business partner...   \n",
       "\n",
       "                                   clean_description  \n",
       "0   position summary    the business analyst role...  \n",
       "1   what do we need    you to have an amazing per...  \n",
       "2   validate analyze and conduct statistical anal...  \n",
       "3   full time washington dc metro area starting s...  \n",
       "4   assist in consultations with business partner...  "
      ]
     },
     "execution_count": 77,
     "metadata": {},
     "output_type": "execute_result"
    }
   ],
   "source": [
    "df_ds.head()"
   ]
  },
  {
   "cell_type": "code",
   "execution_count": 78,
   "metadata": {},
   "outputs": [
    {
     "name": "stderr",
     "output_type": "stream",
     "text": [
      "[nltk_data] Downloading package punkt to /home/jovyan/nltk_data...\n",
      "[nltk_data]   Package punkt is already up-to-date!\n"
     ]
    }
   ],
   "source": [
    "\n",
    "import nltk\n",
    "from gensim.models import Word2Vec\n",
    "from wordcloud import WordCloud,STOPWORDS\n",
    "import matplotlib.pyplot as plt\n",
    "from nltk.stem import WordNetLemmatizer\n",
    "\n",
    "# required download\n",
    "nltk.download('punkt')\n",
    "\n",
    "bachelor_list = ['bs','b.s','bsc','bs/ms','bachelor','ba/bs','b.s.','bs/ms/phd','bachelors','ba','bs/ba','undergraduate']\n",
    "master_list = ['masters','master','bs/ms','m.s.','m.s','msc','bs/ms/phd','ms','md/phd','ms/phd','postgraduate']\n",
    "phd_list = ['phd','ph.d.','ph.d','bs/ms/phd','md/phd','ms/phd','doctoral','postgraduate','doctorate']\n"
   ]
  },
  {
   "cell_type": "markdown",
   "metadata": {},
   "source": [
    "### Level of education\n",
    "\n",
    "#### Data Scientist"
   ]
  },
  {
   "cell_type": "code",
   "execution_count": 79,
   "metadata": {},
   "outputs": [
    {
     "name": "stderr",
     "output_type": "stream",
     "text": [
      "<ipython-input-79-54b96b308045>:37: SettingWithCopyWarning: \n",
      "A value is trying to be set on a copy of a slice from a DataFrame.\n",
      "Try using .loc[row_indexer,col_indexer] = value instead\n",
      "\n",
      "See the caveats in the documentation: https://pandas.pydata.org/pandas-docs/stable/user_guide/indexing.html#returning-a-view-versus-a-copy\n",
      "  df_ds[\"sent_word_sets\"] = sent_word_sets\n",
      "<ipython-input-79-54b96b308045>:44: SettingWithCopyWarning: \n",
      "A value is trying to be set on a copy of a slice from a DataFrame.\n",
      "Try using .loc[row_indexer,col_indexer] = value instead\n",
      "\n",
      "See the caveats in the documentation: https://pandas.pydata.org/pandas-docs/stable/user_guide/indexing.html#returning-a-view-versus-a-copy\n",
      "  df_ds[\"bachelors\"] = df_ds[\"sent_word_sets\"].apply(lambda x: has_qual(x,bachelor_list))\n",
      "<ipython-input-79-54b96b308045>:45: SettingWithCopyWarning: \n",
      "A value is trying to be set on a copy of a slice from a DataFrame.\n",
      "Try using .loc[row_indexer,col_indexer] = value instead\n",
      "\n",
      "See the caveats in the documentation: https://pandas.pydata.org/pandas-docs/stable/user_guide/indexing.html#returning-a-view-versus-a-copy\n",
      "  df_ds[\"masters\"] = df_ds[\"sent_word_sets\"].apply(lambda x: has_qual(x,master_list))\n",
      "<ipython-input-79-54b96b308045>:46: SettingWithCopyWarning: \n",
      "A value is trying to be set on a copy of a slice from a DataFrame.\n",
      "Try using .loc[row_indexer,col_indexer] = value instead\n",
      "\n",
      "See the caveats in the documentation: https://pandas.pydata.org/pandas-docs/stable/user_guide/indexing.html#returning-a-view-versus-a-copy\n",
      "  df_ds[\"phd\"] = df_ds[\"sent_word_sets\"].apply(lambda x: has_qual(x,phd_list))\n"
     ]
    },
    {
     "data": {
      "image/png": "[encoded data removed]",
      "text/plain": [
       "<Figure size 432x288 with 1 Axes>"
      ]
     },
     "metadata": {},
     "output_type": "display_data"
    }
   ],
   "source": [
    "# 2 containters\n",
    "sentences = []\n",
    "sent_word_sets = []\n",
    "for row in df_ds.iterrows():                   # itterate through the rows\n",
    "    desc = row[1].clean_description         # get second element of tuple which is the whole row and select the value of the clean_description column\n",
    "    word_tokens = nltk.word_tokenize(desc)  # Return a tokenized copy the text\n",
    "    sentences.append(word_tokens)           # saves the tokens into sentenses\n",
    "    sent_word_sets.append(set(word_tokens)) # make a set of the tokens (no duplicates)\n",
    "# initialize the model \n",
    "model = Word2Vec(sentences=sentences, vector_size=100, window=5, min_count= 1, workers=4)\n",
    "# container\n",
    "possible_words = set()\n",
    "\n",
    "# Finds the top-N most similar words. \n",
    "# Positive words contribute positively towards the similarity, negative words negatively.\n",
    "similar_words = model.wv.most_similar('bachelor', topn=30)\n",
    "\n",
    "# itterate over similar words and add them if they are not already present in the set\n",
    "for tup in similar_words:\n",
    "    possible_words.add(tup[0]) \n",
    "# Finds the top-N most similar words. \n",
    "# Positive words contribute positively towards the similarity, negative words negatively.\n",
    "similar_words = model.wv.most_similar('masters', topn=30)\n",
    "\n",
    "# itterate over similar words and add them if they are not already present in the set\n",
    "for tup in similar_words:\n",
    "    possible_words.add(tup[0])\n",
    "# Finds the top-N most similar words. \n",
    "# Positive words contribute positively towards the similarity, negative words negatively.\n",
    "similar_words = model.wv.most_similar('phd', topn=30)\n",
    "\n",
    "# itterate over similar words and add them if they are not already present in the set\n",
    "for tup in similar_words:\n",
    "    possible_words.add(tup[0])\n",
    "\n",
    "# make a column out of the set of the tokens\n",
    "df_ds[\"sent_word_sets\"] = sent_word_sets\n",
    "def has_qual(word_set,qual_list):\n",
    "    for word in qual_list:   # for each possible word that describes the academic title\n",
    "        if word in word_set: # check if it matches words from the description\n",
    "            return True\n",
    "    return False\n",
    "# apply to the new column to creat 3 new binary columns that describe the academic title of the job\n",
    "df_ds[\"bachelors\"] = df_ds[\"sent_word_sets\"].apply(lambda x: has_qual(x,bachelor_list))\n",
    "df_ds[\"masters\"] = df_ds[\"sent_word_sets\"].apply(lambda x: has_qual(x,master_list))\n",
    "df_ds[\"phd\"] = df_ds[\"sent_word_sets\"].apply(lambda x: has_qual(x,phd_list))\n",
    " \n",
    "# create data\n",
    "names = ['Bachelors', 'Masters', 'PhD']\n",
    "size = [df_ds['bachelors'].sum(),df_ds['masters'].sum(),df_ds['phd'].sum()]\n",
    " \n",
    "# Create a circle at the center of the plot\n",
    "my_circle = plt.Circle( (0,0), 0.7, color='white')\n",
    "\n",
    "# Give color names\n",
    "plt.pie(size, labels=names, colors=['#2b8cbe','#a6bddb','#ece7f2'], wedgeprops = { 'linewidth' : 3, 'edgecolor' : 'white' })\n",
    "p = plt.gcf()\n",
    "p.gca().add_artist(my_circle)\n",
    "\n",
    "# Show the graph\n",
    "plt.show()"
   ]
  },
  {
   "cell_type": "markdown",
   "metadata": {},
   "source": [
    "#### Data Analyst"
   ]
  },
  {
   "cell_type": "code",
   "execution_count": 80,
   "metadata": {},
   "outputs": [
    {
     "name": "stderr",
     "output_type": "stream",
     "text": [
      "<ipython-input-80-348844723d37>:37: SettingWithCopyWarning: \n",
      "A value is trying to be set on a copy of a slice from a DataFrame.\n",
      "Try using .loc[row_indexer,col_indexer] = value instead\n",
      "\n",
      "See the caveats in the documentation: https://pandas.pydata.org/pandas-docs/stable/user_guide/indexing.html#returning-a-view-versus-a-copy\n",
      "  df_da[\"sent_word_sets\"] = sent_word_sets\n",
      "<ipython-input-80-348844723d37>:44: SettingWithCopyWarning: \n",
      "A value is trying to be set on a copy of a slice from a DataFrame.\n",
      "Try using .loc[row_indexer,col_indexer] = value instead\n",
      "\n",
      "See the caveats in the documentation: https://pandas.pydata.org/pandas-docs/stable/user_guide/indexing.html#returning-a-view-versus-a-copy\n",
      "  df_da[\"bachelors\"] = df_da[\"sent_word_sets\"].apply(lambda x: has_qual(x,bachelor_list))\n",
      "<ipython-input-80-348844723d37>:45: SettingWithCopyWarning: \n",
      "A value is trying to be set on a copy of a slice from a DataFrame.\n",
      "Try using .loc[row_indexer,col_indexer] = value instead\n",
      "\n",
      "See the caveats in the documentation: https://pandas.pydata.org/pandas-docs/stable/user_guide/indexing.html#returning-a-view-versus-a-copy\n",
      "  df_da[\"masters\"] = df_da[\"sent_word_sets\"].apply(lambda x: has_qual(x,master_list))\n",
      "<ipython-input-80-348844723d37>:46: SettingWithCopyWarning: \n",
      "A value is trying to be set on a copy of a slice from a DataFrame.\n",
      "Try using .loc[row_indexer,col_indexer] = value instead\n",
      "\n",
      "See the caveats in the documentation: https://pandas.pydata.org/pandas-docs/stable/user_guide/indexing.html#returning-a-view-versus-a-copy\n",
      "  df_da[\"phd\"] = df_da[\"sent_word_sets\"].apply(lambda x: has_qual(x,phd_list))\n"
     ]
    },
    {
     "data": {
      "image/png": "[encoded data removed]",
      "text/plain": [
       "<Figure size 432x288 with 1 Axes>"
      ]
     },
     "metadata": {},
     "output_type": "display_data"
    }
   ],
   "source": [
    "# 2 containters\n",
    "sentences = []\n",
    "sent_word_sets = []\n",
    "for row in df_da.iterrows():                   # itterate through the rows\n",
    "    desc = row[1].clean_description         # get second element of tuple which is the whole row and select the value of the clean_description column\n",
    "    word_tokens = nltk.word_tokenize(desc)  # Return a tokenized copy the text\n",
    "    sentences.append(word_tokens)           # saves the tokens into sentenses\n",
    "    sent_word_sets.append(set(word_tokens)) # make a set of the tokens (no duplicates)\n",
    "# initialize the model \n",
    "model = Word2Vec(sentences=sentences, vector_size=100, window=5, min_count= 1, workers=4)\n",
    "# container\n",
    "possible_words = set()\n",
    "\n",
    "# Finds the top-N most similar words. \n",
    "# Positive words contribute positively towards the similarity, negative words negatively.\n",
    "similar_words = model.wv.most_similar('bachelor', topn=30)\n",
    "\n",
    "# itterate over similar words and add them if they are not already present in the set\n",
    "for tup in similar_words:\n",
    "    possible_words.add(tup[0]) \n",
    "# Finds the top-N most similar words. \n",
    "# Positive words contribute positively towards the similarity, negative words negatively.\n",
    "similar_words = model.wv.most_similar('masters', topn=30)\n",
    "\n",
    "# itterate over similar words and add them if they are not already present in the set\n",
    "for tup in similar_words:\n",
    "    possible_words.add(tup[0])\n",
    "# Finds the top-N most similar words. \n",
    "# Positive words contribute positively towards the similarity, negative words negatively.\n",
    "similar_words = model.wv.most_similar('phd', topn=30)\n",
    "\n",
    "# itterate over similar words and add them if they are not already present in the set\n",
    "for tup in similar_words:\n",
    "    possible_words.add(tup[0])\n",
    "\n",
    "# make a column out of the set of the tokens\n",
    "df_da[\"sent_word_sets\"] = sent_word_sets\n",
    "def has_qual(word_set,qual_list):\n",
    "    for word in qual_list:   # for each possible word that describes the academic title\n",
    "        if word in word_set: # check if it matches words from the description\n",
    "            return True\n",
    "    return False\n",
    "# apply to the new column to creat 3 new binary columns that describe the academic title of the job\n",
    "df_da[\"bachelors\"] = df_da[\"sent_word_sets\"].apply(lambda x: has_qual(x,bachelor_list))\n",
    "df_da[\"masters\"] = df_da[\"sent_word_sets\"].apply(lambda x: has_qual(x,master_list))\n",
    "df_da[\"phd\"] = df_da[\"sent_word_sets\"].apply(lambda x: has_qual(x,phd_list))\n",
    " \n",
    "# create data\n",
    "names = ['Bachelors', 'Masters', 'PhD']\n",
    "size = [df_da['bachelors'].sum(),df_da['masters'].sum(),df_da['phd'].sum()]\n",
    " \n",
    "# Create a circle at the center of the plot\n",
    "my_circle = plt.Circle( (0,0), 0.7, color='white')\n",
    "\n",
    "# Give color names\n",
    "plt.pie(size, labels=names, colors=['#2b8cbe','#a6bddb','#ece7f2'], wedgeprops = { 'linewidth' : 3, 'edgecolor' : 'white' })\n",
    "p = plt.gcf()\n",
    "p.gca().add_artist(my_circle)\n",
    "\n",
    "# Show the graph\n",
    "plt.show()"
   ]
  },
  {
   "cell_type": "markdown",
   "metadata": {},
   "source": [
    "#### Data Engineer"
   ]
  },
  {
   "cell_type": "code",
   "execution_count": 81,
   "metadata": {},
   "outputs": [
    {
     "name": "stderr",
     "output_type": "stream",
     "text": [
      "<ipython-input-81-7d9bdcb4855f>:37: SettingWithCopyWarning: \n",
      "A value is trying to be set on a copy of a slice from a DataFrame.\n",
      "Try using .loc[row_indexer,col_indexer] = value instead\n",
      "\n",
      "See the caveats in the documentation: https://pandas.pydata.org/pandas-docs/stable/user_guide/indexing.html#returning-a-view-versus-a-copy\n",
      "  df_de[\"sent_word_sets\"] = sent_word_sets\n",
      "<ipython-input-81-7d9bdcb4855f>:44: SettingWithCopyWarning: \n",
      "A value is trying to be set on a copy of a slice from a DataFrame.\n",
      "Try using .loc[row_indexer,col_indexer] = value instead\n",
      "\n",
      "See the caveats in the documentation: https://pandas.pydata.org/pandas-docs/stable/user_guide/indexing.html#returning-a-view-versus-a-copy\n",
      "  df_de[\"bachelors\"] = df_de[\"sent_word_sets\"].apply(lambda x: has_qual(x,bachelor_list))\n",
      "<ipython-input-81-7d9bdcb4855f>:45: SettingWithCopyWarning: \n",
      "A value is trying to be set on a copy of a slice from a DataFrame.\n",
      "Try using .loc[row_indexer,col_indexer] = value instead\n",
      "\n",
      "See the caveats in the documentation: https://pandas.pydata.org/pandas-docs/stable/user_guide/indexing.html#returning-a-view-versus-a-copy\n",
      "  df_de[\"masters\"] = df_de[\"sent_word_sets\"].apply(lambda x: has_qual(x,master_list))\n",
      "<ipython-input-81-7d9bdcb4855f>:46: SettingWithCopyWarning: \n",
      "A value is trying to be set on a copy of a slice from a DataFrame.\n",
      "Try using .loc[row_indexer,col_indexer] = value instead\n",
      "\n",
      "See the caveats in the documentation: https://pandas.pydata.org/pandas-docs/stable/user_guide/indexing.html#returning-a-view-versus-a-copy\n",
      "  df_de[\"phd\"] = df_de[\"sent_word_sets\"].apply(lambda x: has_qual(x,phd_list))\n"
     ]
    },
    {
     "data": {
      "image/png": "[encoded data removed]",
      "text/plain": [
       "<Figure size 432x288 with 1 Axes>"
      ]
     },
     "metadata": {},
     "output_type": "display_data"
    }
   ],
   "source": [
    "# 2 containters\n",
    "sentences = []\n",
    "sent_word_sets = []\n",
    "for row in df_de.iterrows():                   # itterate through the rows\n",
    "    desc = row[1].clean_description         # get second element of tuple which is the whole row and select the value of the clean_description column\n",
    "    word_tokens = nltk.word_tokenize(desc)  # Return a tokenized copy the text\n",
    "    sentences.append(word_tokens)           # saves the tokens into sentenses\n",
    "    sent_word_sets.append(set(word_tokens)) # make a set of the tokens (no duplicates)\n",
    "# initialize the model \n",
    "model = Word2Vec(sentences=sentences, vector_size=100, window=5, min_count= 1, workers=4)\n",
    "# container\n",
    "possible_words = set()\n",
    "\n",
    "# Finds the top-N most similar words. \n",
    "# Positive words contribute positively towards the similarity, negative words negatively.\n",
    "similar_words = model.wv.most_similar('bachelor', topn=30)\n",
    "\n",
    "# itterate over similar words and add them if they are not already present in the set\n",
    "for tup in similar_words:\n",
    "    possible_words.add(tup[0]) \n",
    "# Finds the top-N most similar words. \n",
    "# Positive words contribute positively towards the similarity, negative words negatively.\n",
    "similar_words = model.wv.most_similar('masters', topn=30)\n",
    "\n",
    "# itterate over similar words and add them if they are not already present in the set\n",
    "for tup in similar_words:\n",
    "    possible_words.add(tup[0])\n",
    "# Finds the top-N most similar words. \n",
    "# Positive words contribute positively towards the similarity, negative words negatively.\n",
    "similar_words = model.wv.most_similar('phd', topn=30)\n",
    "\n",
    "# itterate over similar words and add them if they are not already present in the set\n",
    "for tup in similar_words:\n",
    "    possible_words.add(tup[0])\n",
    "\n",
    "# make a column out of the set of the tokens\n",
    "df_de[\"sent_word_sets\"] = sent_word_sets\n",
    "def has_qual(word_set,qual_list):\n",
    "    for word in qual_list:   # for each possible word that describes the academic title\n",
    "        if word in word_set: # check if it matches words from the description\n",
    "            return True\n",
    "    return False\n",
    "# apply to the new column to creat 3 new binary columns that describe the academic title of the job\n",
    "df_de[\"bachelors\"] = df_de[\"sent_word_sets\"].apply(lambda x: has_qual(x,bachelor_list))\n",
    "df_de[\"masters\"] = df_de[\"sent_word_sets\"].apply(lambda x: has_qual(x,master_list))\n",
    "df_de[\"phd\"] = df_de[\"sent_word_sets\"].apply(lambda x: has_qual(x,phd_list))\n",
    " \n",
    "# create data\n",
    "names = ['Bachelors', 'Masters', 'PhD']\n",
    "size = [df_de['bachelors'].sum(),df_de['masters'].sum(),df_de['phd'].sum()]\n",
    " \n",
    "# Create a circle at the center of the plot\n",
    "my_circle = plt.Circle( (0,0), 0.7, color='white')\n",
    "\n",
    "# Give color names\n",
    "plt.pie(size, labels=names, colors=['#2b8cbe','#a6bddb','#ece7f2'], wedgeprops = { 'linewidth' : 3, 'edgecolor' : 'white' })\n",
    "p = plt.gcf()\n",
    "p.gca().add_artist(my_circle)\n",
    "\n",
    "# Show the graph\n",
    "plt.show()"
   ]
  },
  {
   "cell_type": "markdown",
   "metadata": {},
   "source": [
    "### Skill Analysis\n",
    "\n",
    "#### Data Scientist"
   ]
  },
  {
   "cell_type": "code",
   "execution_count": 82,
   "metadata": {},
   "outputs": [],
   "source": [
    "# convert the column to an array of stirngs\n",
    "text = df_ds.clean_description.values\n",
    "\n",
    "# Create a regex search function\n",
    "def count_text(patt,text):\n",
    "    pattern = re.compile(patt) # regex pattern to regex object used for matching\n",
    "    count = 0                  # counter\n",
    "    for t in text:             # itterate over the strings of all columns\n",
    "        if pattern.search(t):  # if we find a match for the regex pattern\n",
    "            count+=1           # we add to the counter\n",
    "    return count"
   ]
  },
  {
   "cell_type": "markdown",
   "metadata": {},
   "source": [
    "Programming skills"
   ]
  },
  {
   "cell_type": "code",
   "execution_count": 83,
   "metadata": {},
   "outputs": [
    {
     "name": "stderr",
     "output_type": "stream",
     "text": [
      "<ipython-input-83-a34f08c29a0a>:35: UserWarning: FixedFormatter should only be used together with FixedLocator\n",
      "  ax.set_xticklabels(['{:.0%}'.format(x) for x in ax.get_xticks()])\n"
     ]
    },
    {
     "data": {
      "image/png": "[encoded data removed]",
      "text/plain": [
       "<Figure size 1080x576 with 1 Axes>"
      ]
     },
     "metadata": {
      "needs_background": "light"
     },
     "output_type": "display_data"
    }
   ],
   "source": [
    "# Create a data frame with skills name and regex pattern to search with\n",
    "skills = ['Python','Hadoop','SQL','Tableau','TensorFlow','Agile','Power BI','SSaS','Algorithm','Java','Visualization']\n",
    "\n",
    "skill_patt = ['(?i)\\WPython\\W','(?i)\\WHadoop\\W?','(?i)SQL\\w*','(?i)\\WTableau\\W?',\n",
    "              \"(?i)\\WTensorFlow\\W?\",\"(?i)\\WAgile\\W?\",\"(?i)\\WPower\\s?BI\\W?\",\n",
    "             \"(?i)\\WSSAS\\W?\",\"(?i)\\WAlgorithms?\\W?\",'(?i)Java\\w*','(?i)\\WVisualization\\W?']\n",
    "\n",
    "skill_df_ds =pd.DataFrame(\n",
    "    {\"skill\": skills,\n",
    "     \"regex_pattern\":skill_patt})\n",
    "\n",
    "#container\n",
    "container = []\n",
    "\n",
    "# Iterate through the list of skill using the search function created\n",
    "for x in skill_df_ds['regex_pattern']:\n",
    "    # append the number of counts to the container\n",
    "    container.append(count_text(x,text))\n",
    "    \n",
    "# assign the container to a column    \n",
    "skill_df_ds['count'] = container\n",
    "\n",
    "#calculate the percentage\n",
    "skill_df_ds['percentage'] = round(skill_df_ds['count']/len(text),2)\n",
    "skill_df_ds\n",
    "\n",
    "x = skill_df_ds.sort_values(by = 'percentage')\n",
    "\n",
    "ax =x['percentage'].plot(kind = \"barh\",figsize = (15,8),\\\n",
    "                         color=['#9ecae1','#9ecae1','#9ecae1','#9ecae1',\\\n",
    "                                '#9ecae1','#9ecae1','#9ecae1','#9ecae1','#9ecae1','#9ecae1', '#2b8cbe'])\n",
    "\n",
    "ax.set_title('Programming skills as Percentage of Total Job Description', size = 15)\n",
    "ax.set_yticklabels(x['skill'], size = 12)\n",
    "ax.set_xticklabels(['{:.0%}'.format(x) for x in ax.get_xticks()])\n",
    "\n",
    "plt.show()"
   ]
  },
  {
   "cell_type": "markdown",
   "metadata": {},
   "source": [
    "Cloud Service Providers"
   ]
  },
  {
   "cell_type": "code",
   "execution_count": 84,
   "metadata": {},
   "outputs": [
    {
     "name": "stderr",
     "output_type": "stream",
     "text": [
      "<ipython-input-84-9d7c28e9c661>:29: UserWarning: FixedFormatter should only be used together with FixedLocator\n",
      "  ax.set_xticklabels(['{:.0%}'.format(x) for x in ax.get_xticks()])\n"
     ]
    },
    {
     "data": {
      "image/png": "[encoded data removed]",
      "text/plain": [
       "<Figure size 1080x576 with 1 Axes>"
      ]
     },
     "metadata": {
      "needs_background": "light"
     },
     "output_type": "display_data"
    }
   ],
   "source": [
    "# Create a data frame with skills name and regex pattern to search with\n",
    "skills = ['AWS','Azure','GCP']\n",
    "\n",
    "skill_patt = ['(?i)AWS\\w*','(?i)\\WAzure\\W?','(?i)GCP\\w*']\n",
    "\n",
    "skill_df_ds =pd.DataFrame(\n",
    "    {\"skill\": skills,\n",
    "     \"regex_pattern\":skill_patt})\n",
    "\n",
    "# container\n",
    "container = []\n",
    "\n",
    "# Iterate through the list of skill using the search function created\n",
    "for x in skill_df_ds['regex_pattern']:\n",
    "    container.append(count_text(x,text))\n",
    "\n",
    "# assign the container to a column\n",
    "skill_df_ds['count'] = container\n",
    "\n",
    "# calculate the percentage\n",
    "skill_df_ds['percentage'] = round(skill_df_ds['count']/len(text),2)\n",
    "\n",
    "x = skill_df_ds.sort_values(by = 'percentage')\n",
    "\n",
    "ax =x['percentage'].plot(kind = \"barh\",figsize = (15,8), color=['#9ecae1','#9ecae1','#2b8cbe'])\n",
    "\n",
    "ax.set_title('Cloud skills as Percentage of Total Job Description', size = 15)\n",
    "ax.set_yticklabels(x['skill'], size = 12)\n",
    "ax.set_xticklabels(['{:.0%}'.format(x) for x in ax.get_xticks()])\n",
    "plt.show()\n"
   ]
  },
  {
   "cell_type": "markdown",
   "metadata": {},
   "source": [
    "Technologies"
   ]
  },
  {
   "cell_type": "code",
   "execution_count": 85,
   "metadata": {},
   "outputs": [
    {
     "name": "stderr",
     "output_type": "stream",
     "text": [
      "<ipython-input-85-539b8a974eda>:32: UserWarning: FixedFormatter should only be used together with FixedLocator\n",
      "  ax.set_xticklabels(['{:.0%}'.format(x) for x in ax.get_xticks()])\n"
     ]
    },
    {
     "data": {
      "image/png": "[encoded data removed]",
      "text/plain": [
       "<Figure size 1080x576 with 1 Axes>"
      ]
     },
     "metadata": {
      "needs_background": "light"
     },
     "output_type": "display_data"
    }
   ],
   "source": [
    "# Create a data frame with skills name and regex pattern to search with\n",
    "skills = ['tensorflow','pytorch','spark','keras','opencv','cuda','pandas','matplotlib','tidyverse']\n",
    "\n",
    "skill_patt = [\"(?i)\\WTensorFlow\\W?\",\"(?i)\\WPyTorch\\W?\",\"(?i)\\WSpark\\W?\",\"(?i)\\Wkeras\\W?\",\"(?i)\\Wopencv\\W?\",\"(?i)\\WCuda\\W?\",'(?i)\\WPandas\\W?','(?i)\\Wmatplotlib\\W?','(?i)Wtidyverse\\W?']\n",
    "\n",
    "skill_df_ds =pd.DataFrame(\n",
    "    {\"skill\": skills,\n",
    "     \"regex_pattern\":skill_patt})\n",
    "\n",
    "# container\n",
    "container = []\n",
    "\n",
    "# Iterate through the list of skill using the search function created\n",
    "for x in skill_df_ds['regex_pattern']:\n",
    "    container.append(count_text(x,text))\n",
    "    \n",
    "# assign the container to a column\n",
    "skill_df_ds['count'] = container\n",
    "\n",
    "# calculate the percentage\n",
    "skill_df_ds['percentage'] = round(skill_df_ds['count']/len(text),2)\n",
    "\n",
    "x = skill_df_ds.sort_values(by = 'percentage')\n",
    "\n",
    "ax =x['percentage'].plot(kind = \"barh\",figsize = (15,8),\\\n",
    "                         color=['#9ecae1','#9ecae1','#9ecae1','#9ecae1',\\\n",
    "                                '#9ecae1','#9ecae1','#9ecae1','#9ecae1','#2b8cbe'])\n",
    "\n",
    "\n",
    "ax.set_title('Skills as Percentage of Total Job Description', size = 15)\n",
    "ax.set_yticklabels(x['skill'], size = 12)\n",
    "ax.set_xticklabels(['{:.0%}'.format(x) for x in ax.get_xticks()])\n",
    "\n",
    "plt.show()\n"
   ]
  },
  {
   "cell_type": "markdown",
   "metadata": {},
   "source": [
    "#### Data Analyst"
   ]
  },
  {
   "cell_type": "code",
   "execution_count": 86,
   "metadata": {},
   "outputs": [],
   "source": [
    "# convert the column to an array of stirngs\n",
    "text = df_da.clean_description.values\n",
    "\n",
    "# Create a regex search function\n",
    "def count_text(patt,text):\n",
    "    pattern = re.compile(patt) # regex pattern to regex object used for matching\n",
    "    count = 0                  # counter\n",
    "    for t in text:             # itterate over the strings of all columns\n",
    "        if pattern.search(t):  # if we find a match for the regex pattern\n",
    "            count+=1           # we add to the counter\n",
    "    return count"
   ]
  },
  {
   "cell_type": "markdown",
   "metadata": {},
   "source": [
    "Programming skills"
   ]
  },
  {
   "cell_type": "code",
   "execution_count": 87,
   "metadata": {},
   "outputs": [
    {
     "name": "stderr",
     "output_type": "stream",
     "text": [
      "<ipython-input-87-482fd6e42e23>:35: UserWarning: FixedFormatter should only be used together with FixedLocator\n",
      "  ax.set_xticklabels(['{:.0%}'.format(x) for x in ax.get_xticks()])\n"
     ]
    },
    {
     "data": {
      "image/png": "[encoded data removed]",
      "text/plain": [
       "<Figure size 1080x576 with 1 Axes>"
      ]
     },
     "metadata": {
      "needs_background": "light"
     },
     "output_type": "display_data"
    }
   ],
   "source": [
    "# Create a data frame with skills name and regex pattern to search with\n",
    "skills = ['Python','Hadoop','SQL','Tableau','TensorFlow','Agile','Power BI','SSaS','Algorithm','Java','Visualization']\n",
    "\n",
    "skill_patt = ['(?i)\\WPython\\W','(?i)\\WHadoop\\W?','(?i)SQL\\w*','(?i)\\WTableau\\W?',\n",
    "              \"(?i)\\WTensorFlow\\W?\",\"(?i)\\WAgile\\W?\",\"(?i)\\WPower\\s?BI\\W?\",\n",
    "             \"(?i)\\WSSAS\\W?\",\"(?i)\\WAlgorithms?\\W?\",'(?i)Java\\w*','(?i)\\WVisualization\\W?']\n",
    "\n",
    "skill_df_da =pd.DataFrame(\n",
    "    {\"skill\": skills,\n",
    "     \"regex_pattern\":skill_patt})\n",
    "\n",
    "#container\n",
    "container = []\n",
    "\n",
    "# Iterate through the list of skill using the search function created\n",
    "for x in skill_df_da['regex_pattern']:\n",
    "    # append the number of counts to the container\n",
    "    container.append(count_text(x,text))\n",
    "    \n",
    "# assign the container to a column    \n",
    "skill_df_da['count'] = container\n",
    "\n",
    "#calculate the percentage\n",
    "skill_df_da['percentage'] = round(skill_df_da['count']/len(text),2)\n",
    "skill_df_da\n",
    "\n",
    "x = skill_df_da.sort_values(by = 'percentage')\n",
    "\n",
    "ax =x['percentage'].plot(kind = \"barh\",figsize = (15,8),\\\n",
    "                         color=['#9ecae1','#9ecae1','#9ecae1','#9ecae1',\\\n",
    "                                '#9ecae1','#9ecae1','#9ecae1','#9ecae1','#9ecae1','#9ecae1', '#2b8cbe'])\n",
    "\n",
    "ax.set_title('Programming skills as Percentage of Total Job Description', size = 15)\n",
    "ax.set_yticklabels(x['skill'], size = 12)\n",
    "ax.set_xticklabels(['{:.0%}'.format(x) for x in ax.get_xticks()])\n",
    "\n",
    "plt.show()"
   ]
  },
  {
   "cell_type": "markdown",
   "metadata": {},
   "source": [
    "Cloud Service Providers"
   ]
  },
  {
   "cell_type": "code",
   "execution_count": 88,
   "metadata": {},
   "outputs": [
    {
     "name": "stderr",
     "output_type": "stream",
     "text": [
      "<ipython-input-88-a1f7373410a2>:29: UserWarning: FixedFormatter should only be used together with FixedLocator\n",
      "  ax.set_xticklabels(['{:.0%}'.format(x) for x in ax.get_xticks()])\n"
     ]
    },
    {
     "data": {
      "image/png": "[encoded data removed]",
      "text/plain": [
       "<Figure size 1080x576 with 1 Axes>"
      ]
     },
     "metadata": {
      "needs_background": "light"
     },
     "output_type": "display_data"
    }
   ],
   "source": [
    "# Create a data frame with skills name and regex pattern to search with\n",
    "skills = ['AWS','Azure','GCP']\n",
    "\n",
    "skill_patt = ['(?i)AWS\\w*','(?i)\\WAzure\\W?','(?i)GCP\\w*']\n",
    "\n",
    "skill_df_da =pd.DataFrame(\n",
    "    {\"skill\": skills,\n",
    "     \"regex_pattern\":skill_patt})\n",
    "\n",
    "# container\n",
    "container = []\n",
    "\n",
    "# Iterate through the list of skill using the search function created\n",
    "for x in skill_df_da['regex_pattern']:\n",
    "    container.append(count_text(x,text))\n",
    "\n",
    "# assign the container to a column\n",
    "skill_df_da['count'] = container\n",
    "\n",
    "# calculate the percentage\n",
    "skill_df_da['percentage'] = round(skill_df_da['count']/len(text),2)\n",
    "\n",
    "x = skill_df_da.sort_values(by = 'percentage')\n",
    "\n",
    "ax =x['percentage'].plot(kind = \"barh\",figsize = (15,8), color=['#9ecae1','#9ecae1','#2b8cbe'])\n",
    "\n",
    "ax.set_title('Cloud skills as Percentage of Total Job Description', size = 15)\n",
    "ax.set_yticklabels(x['skill'], size = 12)\n",
    "ax.set_xticklabels(['{:.0%}'.format(x) for x in ax.get_xticks()])\n",
    "plt.show()\n"
   ]
  },
  {
   "cell_type": "markdown",
   "metadata": {},
   "source": [
    "Technologies"
   ]
  },
  {
   "cell_type": "code",
   "execution_count": 89,
   "metadata": {},
   "outputs": [
    {
     "name": "stderr",
     "output_type": "stream",
     "text": [
      "<ipython-input-89-3878bc909b18>:32: UserWarning: FixedFormatter should only be used together with FixedLocator\n",
      "  ax.set_xticklabels(['{:.0%}'.format(x) for x in ax.get_xticks()])\n"
     ]
    },
    {
     "data": {
      "image/png": "[encoded data removed]",
      "text/plain": [
       "<Figure size 1080x576 with 1 Axes>"
      ]
     },
     "metadata": {
      "needs_background": "light"
     },
     "output_type": "display_data"
    }
   ],
   "source": [
    "# Create a data frame with skills name and regex pattern to search with\n",
    "skills = ['tensorflow','pytorch','spark','keras','opencv','cuda','pandas','matplotlib','tidyverse']\n",
    "\n",
    "skill_patt = [\"(?i)\\WTensorFlow\\W?\",\"(?i)\\WPyTorch\\W?\",\"(?i)\\WSpark\\W?\",\"(?i)\\Wkeras\\W?\",\"(?i)\\Wopencv\\W?\",\"(?i)\\WCuda\\W?\",'(?i)\\WPandas\\W?','(?i)\\Wmatplotlib\\W?','(?i)Wtidyverse\\W?']\n",
    "\n",
    "skill_df_da =pd.DataFrame(\n",
    "    {\"skill\": skills,\n",
    "     \"regex_pattern\":skill_patt})\n",
    "\n",
    "# container\n",
    "container = []\n",
    "\n",
    "# Iterate through the list of skill using the search function created\n",
    "for x in skill_df_da['regex_pattern']:\n",
    "    container.append(count_text(x,text))\n",
    "    \n",
    "# assign the container to a column\n",
    "skill_df_da['count'] = container\n",
    "\n",
    "# calculate the percentage\n",
    "skill_df_da['percentage'] = round(skill_df_da['count']/len(text),2)\n",
    "\n",
    "x = skill_df_da.sort_values(by = 'percentage')\n",
    "\n",
    "ax =x['percentage'].plot(kind = \"barh\",figsize = (15,8),\\\n",
    "                         color=['#9ecae1','#9ecae1','#9ecae1','#9ecae1',\\\n",
    "                                '#9ecae1','#9ecae1','#9ecae1','#9ecae1','#2b8cbe'])\n",
    "\n",
    "\n",
    "ax.set_title('Skills as Percentage of Total Job Description', size = 15)\n",
    "ax.set_yticklabels(x['skill'], size = 12)\n",
    "ax.set_xticklabels(['{:.0%}'.format(x) for x in ax.get_xticks()])\n",
    "\n",
    "plt.show()\n"
   ]
  },
  {
   "cell_type": "markdown",
   "metadata": {},
   "source": [
    "#### Data Engineer"
   ]
  },
  {
   "cell_type": "code",
   "execution_count": 90,
   "metadata": {},
   "outputs": [],
   "source": [
    "# convert the column to an array of stirngs\n",
    "text = df_de.clean_description.values\n",
    "\n",
    "# Create a regex search function\n",
    "def count_text(patt,text):\n",
    "    pattern = re.compile(patt) # regex pattern to regex object used for matching\n",
    "    count = 0                  # counter\n",
    "    for t in text:             # itterate over the strings of all columns\n",
    "        if pattern.search(t):  # if we find a match for the regex pattern\n",
    "            count+=1           # we add to the counter\n",
    "    return count"
   ]
  },
  {
   "cell_type": "markdown",
   "metadata": {},
   "source": [
    "Programming skills"
   ]
  },
  {
   "cell_type": "code",
   "execution_count": 91,
   "metadata": {},
   "outputs": [
    {
     "name": "stderr",
     "output_type": "stream",
     "text": [
      "<ipython-input-91-4ec7fc95a97e>:35: UserWarning: FixedFormatter should only be used together with FixedLocator\n",
      "  ax.set_xticklabels(['{:.0%}'.format(x) for x in ax.get_xticks()])\n"
     ]
    },
    {
     "data": {
      "image/png": "[encoded data removed]",
      "text/plain": [
       "<Figure size 1080x576 with 1 Axes>"
      ]
     },
     "metadata": {
      "needs_background": "light"
     },
     "output_type": "display_data"
    }
   ],
   "source": [
    "# Create a data frame with skills name and regex pattern to search with\n",
    "skills = ['Python','Hadoop','SQL','Tableau','TensorFlow','Agile','Power BI','SSaS','Algorithm','Java','Visualization']\n",
    "\n",
    "skill_patt = ['(?i)\\WPython\\W','(?i)\\WHadoop\\W?','(?i)SQL\\w*','(?i)\\WTableau\\W?',\n",
    "              \"(?i)\\WTensorFlow\\W?\",\"(?i)\\WAgile\\W?\",\"(?i)\\WPower\\s?BI\\W?\",\n",
    "             \"(?i)\\WSSAS\\W?\",\"(?i)\\WAlgorithms?\\W?\",'(?i)Java\\w*','(?i)\\WVisualization\\W?']\n",
    "\n",
    "skill_df_de =pd.DataFrame(\n",
    "    {\"skill\": skills,\n",
    "     \"regex_pattern\":skill_patt})\n",
    "\n",
    "#container\n",
    "container = []\n",
    "\n",
    "# Iterate through the list of skill using the search function created\n",
    "for x in skill_df_de['regex_pattern']:\n",
    "    # append the number of counts to the container\n",
    "    container.append(count_text(x,text))\n",
    "    \n",
    "# assign the container to a column    \n",
    "skill_df_de['count'] = container\n",
    "\n",
    "#calculate the percentage\n",
    "skill_df_de['percentage'] = round(skill_df_de['count']/len(text),2)\n",
    "skill_df_de\n",
    "\n",
    "x = skill_df_de.sort_values(by = 'percentage')\n",
    "\n",
    "ax =x['percentage'].plot(kind = \"barh\",figsize = (15,8),\\\n",
    "                         color=['#9ecae1','#9ecae1','#9ecae1','#9ecae1',\\\n",
    "                                '#9ecae1','#9ecae1','#9ecae1','#9ecae1','#9ecae1','#9ecae1', '#2b8cbe'])\n",
    "\n",
    "ax.set_title('Programming skills as Percentage of Total Job Description', size = 15)\n",
    "ax.set_yticklabels(x['skill'], size = 12)\n",
    "ax.set_xticklabels(['{:.0%}'.format(x) for x in ax.get_xticks()])\n",
    "\n",
    "plt.show()"
   ]
  },
  {
   "cell_type": "markdown",
   "metadata": {},
   "source": [
    "Cloud Service Providers"
   ]
  },
  {
   "cell_type": "code",
   "execution_count": 92,
   "metadata": {},
   "outputs": [
    {
     "name": "stderr",
     "output_type": "stream",
     "text": [
      "<ipython-input-92-fe3c228f92bc>:29: UserWarning: FixedFormatter should only be used together with FixedLocator\n",
      "  ax.set_xticklabels(['{:.0%}'.format(x) for x in ax.get_xticks()])\n"
     ]
    },
    {
     "data": {
      "image/png": "[encoded data removed]",
      "text/plain": [
       "<Figure size 1080x576 with 1 Axes>"
      ]
     },
     "metadata": {
      "needs_background": "light"
     },
     "output_type": "display_data"
    }
   ],
   "source": [
    "# Create a data frame with skills name and regex pattern to search with\n",
    "skills = ['AWS','Azure','GCP']\n",
    "\n",
    "skill_patt = ['(?i)AWS\\w*','(?i)\\WAzure\\W?','(?i)GCP\\w*']\n",
    "\n",
    "skill_df_de =pd.DataFrame(\n",
    "    {\"skill\": skills,\n",
    "     \"regex_pattern\":skill_patt})\n",
    "\n",
    "# container\n",
    "container = []\n",
    "\n",
    "# Iterate through the list of skill using the search function created\n",
    "for x in skill_df_de['regex_pattern']:\n",
    "    container.append(count_text(x,text))\n",
    "\n",
    "# assign the container to a column\n",
    "skill_df_de['count'] = container\n",
    "\n",
    "# calculate the percentage\n",
    "skill_df_de['percentage'] = round(skill_df_de['count']/len(text),2)\n",
    "\n",
    "x = skill_df_de.sort_values(by = 'percentage')\n",
    "\n",
    "ax =x['percentage'].plot(kind = \"barh\",figsize = (15,8), color=['#9ecae1','#9ecae1','#2b8cbe'])\n",
    "\n",
    "ax.set_title('Cloud skills as Percentage of Total Job Description', size = 15)\n",
    "ax.set_yticklabels(x['skill'], size = 12)\n",
    "ax.set_xticklabels(['{:.0%}'.format(x) for x in ax.get_xticks()])\n",
    "plt.show()\n"
   ]
  },
  {
   "cell_type": "markdown",
   "metadata": {},
   "source": [
    "Technologies"
   ]
  },
  {
   "cell_type": "code",
   "execution_count": 93,
   "metadata": {},
   "outputs": [
    {
     "name": "stderr",
     "output_type": "stream",
     "text": [
      "<ipython-input-93-493a2215ebf3>:32: UserWarning: FixedFormatter should only be used together with FixedLocator\n",
      "  ax.set_xticklabels(['{:.0%}'.format(x) for x in ax.get_xticks()])\n"
     ]
    },
    {
     "data": {
      "image/png": "[encoded data removed]",
      "text/plain": [
       "<Figure size 1080x576 with 1 Axes>"
      ]
     },
     "metadata": {
      "needs_background": "light"
     },
     "output_type": "display_data"
    }
   ],
   "source": [
    "# Create a data frame with skills name and regex pattern to search with\n",
    "skills = ['tensorflow','pytorch','spark','keras','opencv','cuda','pandas','matplotlib','tidyverse']\n",
    "\n",
    "skill_patt = [\"(?i)\\WTensorFlow\\W?\",\"(?i)\\WPyTorch\\W?\",\"(?i)\\WSpark\\W?\",\"(?i)\\Wkeras\\W?\",\"(?i)\\Wopencv\\W?\",\"(?i)\\WCuda\\W?\",'(?i)\\WPandas\\W?','(?i)\\Wmatplotlib\\W?','(?i)Wtidyverse\\W?']\n",
    "\n",
    "skill_df_de =pd.DataFrame(\n",
    "    {\"skill\": skills,\n",
    "     \"regex_pattern\":skill_patt})\n",
    "\n",
    "# container\n",
    "container = []\n",
    "\n",
    "# Iterate through the list of skill using the search function created\n",
    "for x in skill_df_de['regex_pattern']:\n",
    "    container.append(count_text(x,text))\n",
    "    \n",
    "# assign the container to a column\n",
    "skill_df_de['count'] = container\n",
    "\n",
    "# calculate the percentage\n",
    "skill_df_de['percentage'] = round(skill_df_de['count']/len(text),2)\n",
    "\n",
    "x = skill_df_de.sort_values(by = 'percentage')\n",
    "\n",
    "ax =x['percentage'].plot(kind = \"barh\",figsize = (15,8),\\\n",
    "                         color=['#9ecae1','#9ecae1','#9ecae1','#9ecae1',\\\n",
    "                                '#9ecae1','#9ecae1','#9ecae1','#9ecae1','#2b8cbe'])\n",
    "\n",
    "\n",
    "ax.set_title('Skills as Percentage of Total Job Description', size = 15)\n",
    "ax.set_yticklabels(x['skill'], size = 12)\n",
    "ax.set_xticklabels(['{:.0%}'.format(x) for x in ax.get_xticks()])\n",
    "\n",
    "plt.show()\n"
   ]
  }
 ],
 "metadata": {
  "kernelspec": {
   "display_name": "Python 3 (ipykernel)",
   "language": "python",
   "name": "python3"
  },
  "language_info": {
   "codemirror_mode": {
    "name": "ipython",
    "version": 3
   },
   "file_extension": ".py",
   "mimetype": "text/x-python",
   "name": "python",
   "nbconvert_exporter": "python",
   "pygments_lexer": "ipython3",
   "version": "3.9.7"
  }
 },
 "nbformat": 4,
 "nbformat_minor": 4
}
