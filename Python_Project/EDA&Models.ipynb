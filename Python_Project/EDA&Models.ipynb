{
 "cells": [
  {
   "cell_type": "markdown",
   "id": "b021070a",
   "metadata": {
    "cell_id": "e01ba017-6a3a-4f28-8e18-0ee890e66684",
    "deepnote_cell_height": 491.171875,
    "deepnote_cell_type": "markdown"
   },
   "source": [
    "# Student Performance\n",
    "### Linear and Ensemble learning methods\n",
    "\n",
    "Problem Overview:\n",
    "The Portuguese Education Department (PED) checks regulary the data of different schools for quality control. They have noticed that the Gabriel Pereira school and the Mousinho da Silveira school have been underperforming.\n",
    "\n",
    "Main goals:\n",
    "- identify the main factors affecting the students’ final math grades\n",
    "- build a model to predict a given student’s final math grade\n",
    "- come up with suggestions on how they could help those schools produce better educational outcomes\n",
    "- include easy to understand data visualizations\n",
    "- comunicate how we will approach their problem, how our solution will look like and how it will benefit the PED\n"
   ]
  },
  {
   "cell_type": "markdown",
   "id": "dad96014",
   "metadata": {
    "cell_id": "00001-c9e7cf56-55ff-4370-bcad-48f621b22618",
    "deepnote_cell_height": 70,
    "deepnote_cell_type": "markdown"
   },
   "source": [
    "## Data, libraries and plot settings"
   ]
  },
  {
   "cell_type": "code",
   "execution_count": 52,
   "id": "589f53d4",
   "metadata": {
    "cell_id": "00002-0e5ccea9-c4ff-4f53-a80d-77c7420b8282",
    "deepnote_cell_height": 1021,
    "deepnote_cell_type": "code",
    "deepnote_to_be_reexecuted": false,
    "execution_millis": 4440,
    "execution_start": 1653340967280,
    "owner_user_id": "5588f705-4338-4b54-9d5d-fffd8b76c6c4",
    "source_hash": "b02f6c5e"
   },
   "outputs": [
    {
     "data": {
      "text/html": [
       "<div>\n",
       "<style scoped>\n",
       "    .dataframe tbody tr th:only-of-type {\n",
       "        vertical-align: middle;\n",
       "    }\n",
       "\n",
       "    .dataframe tbody tr th {\n",
       "        vertical-align: top;\n",
       "    }\n",
       "\n",
       "    .dataframe thead th {\n",
       "        text-align: right;\n",
       "    }\n",
       "</style>\n",
       "<table border=\"1\" class=\"dataframe\">\n",
       "  <thead>\n",
       "    <tr style=\"text-align: right;\">\n",
       "      <th></th>\n",
       "      <th>age</th>\n",
       "      <th>Medu</th>\n",
       "      <th>Fedu</th>\n",
       "      <th>traveltime</th>\n",
       "      <th>studytime</th>\n",
       "      <th>failures</th>\n",
       "      <th>famrel</th>\n",
       "      <th>freetime</th>\n",
       "      <th>goout</th>\n",
       "      <th>Dalc</th>\n",
       "      <th>Walc</th>\n",
       "      <th>health</th>\n",
       "      <th>absences</th>\n",
       "      <th>G1</th>\n",
       "      <th>G2</th>\n",
       "      <th>G3</th>\n",
       "    </tr>\n",
       "  </thead>\n",
       "  <tbody>\n",
       "    <tr>\n",
       "      <th>count</th>\n",
       "      <td>395.000000</td>\n",
       "      <td>395.000000</td>\n",
       "      <td>395.000000</td>\n",
       "      <td>395.000000</td>\n",
       "      <td>395.000000</td>\n",
       "      <td>395.000000</td>\n",
       "      <td>395.000000</td>\n",
       "      <td>395.000000</td>\n",
       "      <td>395.000000</td>\n",
       "      <td>395.000000</td>\n",
       "      <td>395.000000</td>\n",
       "      <td>395.000000</td>\n",
       "      <td>395.000000</td>\n",
       "      <td>395.000000</td>\n",
       "      <td>395.000000</td>\n",
       "      <td>395.000000</td>\n",
       "    </tr>\n",
       "    <tr>\n",
       "      <th>mean</th>\n",
       "      <td>17.513924</td>\n",
       "      <td>2.749367</td>\n",
       "      <td>2.521519</td>\n",
       "      <td>1.448101</td>\n",
       "      <td>2.035443</td>\n",
       "      <td>0.334177</td>\n",
       "      <td>3.944304</td>\n",
       "      <td>3.235443</td>\n",
       "      <td>3.108861</td>\n",
       "      <td>1.481013</td>\n",
       "      <td>2.291139</td>\n",
       "      <td>3.554430</td>\n",
       "      <td>5.708861</td>\n",
       "      <td>10.908861</td>\n",
       "      <td>10.713924</td>\n",
       "      <td>10.415190</td>\n",
       "    </tr>\n",
       "    <tr>\n",
       "      <th>std</th>\n",
       "      <td>11.622518</td>\n",
       "      <td>1.094735</td>\n",
       "      <td>1.088201</td>\n",
       "      <td>0.697505</td>\n",
       "      <td>0.839240</td>\n",
       "      <td>0.743651</td>\n",
       "      <td>0.896659</td>\n",
       "      <td>0.998862</td>\n",
       "      <td>1.113278</td>\n",
       "      <td>0.890741</td>\n",
       "      <td>1.287897</td>\n",
       "      <td>1.390303</td>\n",
       "      <td>8.003096</td>\n",
       "      <td>3.319195</td>\n",
       "      <td>3.761505</td>\n",
       "      <td>4.581443</td>\n",
       "    </tr>\n",
       "    <tr>\n",
       "      <th>min</th>\n",
       "      <td>15.000000</td>\n",
       "      <td>0.000000</td>\n",
       "      <td>0.000000</td>\n",
       "      <td>1.000000</td>\n",
       "      <td>1.000000</td>\n",
       "      <td>0.000000</td>\n",
       "      <td>1.000000</td>\n",
       "      <td>1.000000</td>\n",
       "      <td>1.000000</td>\n",
       "      <td>1.000000</td>\n",
       "      <td>1.000000</td>\n",
       "      <td>1.000000</td>\n",
       "      <td>0.000000</td>\n",
       "      <td>3.000000</td>\n",
       "      <td>0.000000</td>\n",
       "      <td>0.000000</td>\n",
       "    </tr>\n",
       "    <tr>\n",
       "      <th>25%</th>\n",
       "      <td>16.000000</td>\n",
       "      <td>2.000000</td>\n",
       "      <td>2.000000</td>\n",
       "      <td>1.000000</td>\n",
       "      <td>1.000000</td>\n",
       "      <td>0.000000</td>\n",
       "      <td>4.000000</td>\n",
       "      <td>3.000000</td>\n",
       "      <td>2.000000</td>\n",
       "      <td>1.000000</td>\n",
       "      <td>1.000000</td>\n",
       "      <td>3.000000</td>\n",
       "      <td>0.000000</td>\n",
       "      <td>8.000000</td>\n",
       "      <td>9.000000</td>\n",
       "      <td>8.000000</td>\n",
       "    </tr>\n",
       "    <tr>\n",
       "      <th>50%</th>\n",
       "      <td>17.000000</td>\n",
       "      <td>3.000000</td>\n",
       "      <td>2.000000</td>\n",
       "      <td>1.000000</td>\n",
       "      <td>2.000000</td>\n",
       "      <td>0.000000</td>\n",
       "      <td>4.000000</td>\n",
       "      <td>3.000000</td>\n",
       "      <td>3.000000</td>\n",
       "      <td>1.000000</td>\n",
       "      <td>2.000000</td>\n",
       "      <td>4.000000</td>\n",
       "      <td>4.000000</td>\n",
       "      <td>11.000000</td>\n",
       "      <td>11.000000</td>\n",
       "      <td>11.000000</td>\n",
       "    </tr>\n",
       "    <tr>\n",
       "      <th>75%</th>\n",
       "      <td>18.000000</td>\n",
       "      <td>4.000000</td>\n",
       "      <td>3.000000</td>\n",
       "      <td>2.000000</td>\n",
       "      <td>2.000000</td>\n",
       "      <td>0.000000</td>\n",
       "      <td>5.000000</td>\n",
       "      <td>4.000000</td>\n",
       "      <td>4.000000</td>\n",
       "      <td>2.000000</td>\n",
       "      <td>3.000000</td>\n",
       "      <td>5.000000</td>\n",
       "      <td>8.000000</td>\n",
       "      <td>13.000000</td>\n",
       "      <td>13.000000</td>\n",
       "      <td>14.000000</td>\n",
       "    </tr>\n",
       "    <tr>\n",
       "      <th>max</th>\n",
       "      <td>188.000000</td>\n",
       "      <td>4.000000</td>\n",
       "      <td>4.000000</td>\n",
       "      <td>4.000000</td>\n",
       "      <td>4.000000</td>\n",
       "      <td>3.000000</td>\n",
       "      <td>5.000000</td>\n",
       "      <td>5.000000</td>\n",
       "      <td>5.000000</td>\n",
       "      <td>5.000000</td>\n",
       "      <td>5.000000</td>\n",
       "      <td>5.000000</td>\n",
       "      <td>75.000000</td>\n",
       "      <td>19.000000</td>\n",
       "      <td>19.000000</td>\n",
       "      <td>20.000000</td>\n",
       "    </tr>\n",
       "  </tbody>\n",
       "</table>\n",
       "</div>"
      ],
      "text/plain": [
       "              age        Medu        Fedu  traveltime   studytime    failures  \\\n",
       "count  395.000000  395.000000  395.000000  395.000000  395.000000  395.000000   \n",
       "mean    17.513924    2.749367    2.521519    1.448101    2.035443    0.334177   \n",
       "std     11.622518    1.094735    1.088201    0.697505    0.839240    0.743651   \n",
       "min     15.000000    0.000000    0.000000    1.000000    1.000000    0.000000   \n",
       "25%     16.000000    2.000000    2.000000    1.000000    1.000000    0.000000   \n",
       "50%     17.000000    3.000000    2.000000    1.000000    2.000000    0.000000   \n",
       "75%     18.000000    4.000000    3.000000    2.000000    2.000000    0.000000   \n",
       "max    188.000000    4.000000    4.000000    4.000000    4.000000    3.000000   \n",
       "\n",
       "           famrel    freetime       goout        Dalc        Walc      health  \\\n",
       "count  395.000000  395.000000  395.000000  395.000000  395.000000  395.000000   \n",
       "mean     3.944304    3.235443    3.108861    1.481013    2.291139    3.554430   \n",
       "std      0.896659    0.998862    1.113278    0.890741    1.287897    1.390303   \n",
       "min      1.000000    1.000000    1.000000    1.000000    1.000000    1.000000   \n",
       "25%      4.000000    3.000000    2.000000    1.000000    1.000000    3.000000   \n",
       "50%      4.000000    3.000000    3.000000    1.000000    2.000000    4.000000   \n",
       "75%      5.000000    4.000000    4.000000    2.000000    3.000000    5.000000   \n",
       "max      5.000000    5.000000    5.000000    5.000000    5.000000    5.000000   \n",
       "\n",
       "         absences          G1          G2          G3  \n",
       "count  395.000000  395.000000  395.000000  395.000000  \n",
       "mean     5.708861   10.908861   10.713924   10.415190  \n",
       "std      8.003096    3.319195    3.761505    4.581443  \n",
       "min      0.000000    3.000000    0.000000    0.000000  \n",
       "25%      0.000000    8.000000    9.000000    8.000000  \n",
       "50%      4.000000   11.000000   11.000000   11.000000  \n",
       "75%      8.000000   13.000000   13.000000   14.000000  \n",
       "max     75.000000   19.000000   19.000000   20.000000  "
      ]
     },
     "execution_count": 52,
     "metadata": {},
     "output_type": "execute_result"
    }
   ],
   "source": [
    "# import libraries\n",
    "import pandas as pd\n",
    "import numpy as np\n",
    "import seaborn as sns\n",
    "import matplotlib.pyplot as plt\n",
    "import matplotlib.pyplot as plt\n",
    "import plotly.graph_objects as go\n",
    "\n",
    "#set the size of the plots and the dark background (optional)\n",
    "sns.set(rc = {'figure.figsize':(15,8)})\n",
    "#plt.style.use('dark_background')\n",
    "\n",
    "# pretty colors\n",
    "colors = [\"#AE3A54\", \"#DE6D83\", \"#F5BBC4\", \"#D8D8D8\" , \"#A6A6A6\"]\n",
    "colors2 = [\"#7286B7\", \"#9BADE6\", \"#D9E2FD\", \"#7DBAEF\", \"#344F6A\"]\n",
    "\n",
    "#create one pretty color array\n",
    "my_colors = [\"#AE3A54\", \"#DE6D83\", \"#F5BBC4\", \"#D8D8D8\" , \"#A6A6A6\"\n",
    "            ,\"#7286B7\", \"#9BADE6\", \"#D9E2FD\", \"#7DBAEF\", \"#344F6A\"]\n",
    "  \n",
    "# add color array to set_palette\n",
    "# function of seaborn\n",
    "sns.set_palette( my_colors )\n",
    "                \n",
    "#read in the data\n",
    "data=pd.read_csv('math_class.csv', sep =\";\")\n",
    "\n",
    "data.describe()"
   ]
  },
  {
   "cell_type": "code",
   "execution_count": 53,
   "id": "6a97f77f",
   "metadata": {
    "cell_id": "00003-6640864a-0bf2-462e-8292-e0bad3d6ded3",
    "deepnote_cell_height": 737,
    "deepnote_cell_type": "code",
    "deepnote_to_be_reexecuted": false,
    "execution_millis": 97,
    "execution_start": 1653340971728,
    "scrolled": false,
    "source_hash": "98faabc0"
   },
   "outputs": [
    {
     "name": "stdout",
     "output_type": "stream",
     "text": [
      "school - ['GP' 'MS']\n",
      "sex - ['F' 'M' 'Man' 'fem' 'f']\n",
      "age - [ 18  17  15  16  19  22 188  20 170  21]\n",
      "address - ['U' 'R']\n",
      "famsize - ['GT3' 'LE3']\n",
      "Pstatus - ['A' 'T']\n",
      "Medu - [4 1 3 2 0]\n",
      "Fedu - [4 1 2 3 0]\n",
      "Mjob - ['at_home' 'health' 'other' 'services' 'teacher']\n",
      "Fjob - ['teacher' 'other' 'services' 'health' 'at_home']\n",
      "reason - ['course' 'other' 'home' 'reputation']\n",
      "guardian - ['mother' 'father' 'other']\n",
      "traveltime - [2 1 3 4]\n",
      "studytime - [2 3 1 4]\n",
      "failures - [0 3 2 1]\n",
      "schoolsup - ['yes' 'no']\n",
      "famsup - ['no' 'yes']\n",
      "paid - ['no' 'yes']\n",
      "activities - ['no' 'yes']\n",
      "nursery - ['yes' 'no']\n",
      "higher - ['yes' 'no']\n",
      "internet - ['no' 'yes']\n",
      "romantic - ['no' 'yes' nan]\n",
      "famrel - [4 5 3 1 2]\n",
      "freetime - [3 2 4 1 5]\n",
      "goout - [4 3 2 1 5]\n",
      "Dalc - [1 2 5 3 4]\n",
      "Walc - [1 3 2 4 5]\n",
      "health - [3 5 1 2 4]\n",
      "absences - [ 6  4 10  2  0 16 14  7  8 25 12 54 18 26 20 56 24 28  5 13 15 22  3 21\n",
      "  1 75 30 19  9 11 38 40 23 17]\n",
      "G1 - [ 5  7 15  6 12 16 14 10 13  8 11  9 17 19 18  4  3]\n",
      "G2 - [ 6  5  8 14 10 15 12 18 16 13  9 11  7 19 17  4  0]\n",
      "G3 - [ 6 10 15 11 19  9 12 14 16  5  8 17 18 13 20  7  0  4]\n"
     ]
    }
   ],
   "source": [
    "# print out the unique values of each column\n",
    "for col in data.columns:\n",
    "    print(f\"{col} - {data[col].unique()}\")"
   ]
  },
  {
   "cell_type": "markdown",
   "id": "c0a3c86b",
   "metadata": {
    "cell_id": "00004-18f15035-dcfa-4836-8a5b-c3301190a702",
    "deepnote_cell_height": 70,
    "deepnote_cell_type": "markdown"
   },
   "source": [
    "## Data pre-processing and encoding\n"
   ]
  },
  {
   "cell_type": "code",
   "execution_count": 54,
   "id": "d44c4424",
   "metadata": {
    "cell_id": "00005-8af7d62f-c339-40f8-96fe-dd666b600834",
    "deepnote_cell_height": 207,
    "deepnote_cell_type": "code",
    "deepnote_to_be_reexecuted": false,
    "execution_millis": 86,
    "execution_start": 1653340971839,
    "source_hash": "1edb4fd6"
   },
   "outputs": [],
   "source": [
    "# replace impossible ages (170, 188):\n",
    "data=data.replace([170,188],[17,18])\n",
    "\n",
    "# replace variation of m, f: \n",
    "data=data.replace(['Man','fem','f'],['M','F','F'])\n",
    "\n",
    "# fill NAs in romantic\n",
    "data['romantic'].fillna('no',inplace=True)"
   ]
  },
  {
   "cell_type": "code",
   "execution_count": 55,
   "id": "1d997625",
   "metadata": {
    "cell_id": "00006-d6b6d129-2a60-429e-9e1c-84c31379022a",
    "deepnote_cell_height": 535,
    "deepnote_cell_type": "code",
    "deepnote_to_be_reexecuted": false,
    "execution_millis": 280,
    "execution_start": 1653340971942,
    "source_hash": "d786443f"
   },
   "outputs": [
    {
     "data": {
      "text/html": [
       "<div>\n",
       "<style scoped>\n",
       "    .dataframe tbody tr th:only-of-type {\n",
       "        vertical-align: middle;\n",
       "    }\n",
       "\n",
       "    .dataframe tbody tr th {\n",
       "        vertical-align: top;\n",
       "    }\n",
       "\n",
       "    .dataframe thead th {\n",
       "        text-align: right;\n",
       "    }\n",
       "</style>\n",
       "<table border=\"1\" class=\"dataframe\">\n",
       "  <thead>\n",
       "    <tr style=\"text-align: right;\">\n",
       "      <th></th>\n",
       "      <th>age</th>\n",
       "      <th>Medu</th>\n",
       "      <th>Fedu</th>\n",
       "      <th>traveltime</th>\n",
       "      <th>studytime</th>\n",
       "      <th>failures</th>\n",
       "      <th>famrel</th>\n",
       "      <th>freetime</th>\n",
       "      <th>goout</th>\n",
       "      <th>Dalc</th>\n",
       "      <th>Walc</th>\n",
       "      <th>health</th>\n",
       "      <th>absences</th>\n",
       "      <th>G1</th>\n",
       "      <th>G2</th>\n",
       "      <th>G3</th>\n",
       "    </tr>\n",
       "  </thead>\n",
       "  <tbody>\n",
       "    <tr>\n",
       "      <th>count</th>\n",
       "      <td>395.000000</td>\n",
       "      <td>395.000000</td>\n",
       "      <td>395.000000</td>\n",
       "      <td>395.000000</td>\n",
       "      <td>395.000000</td>\n",
       "      <td>395.000000</td>\n",
       "      <td>395.000000</td>\n",
       "      <td>395.000000</td>\n",
       "      <td>395.000000</td>\n",
       "      <td>395.000000</td>\n",
       "      <td>395.000000</td>\n",
       "      <td>395.000000</td>\n",
       "      <td>395.000000</td>\n",
       "      <td>395.000000</td>\n",
       "      <td>395.000000</td>\n",
       "      <td>395.000000</td>\n",
       "    </tr>\n",
       "    <tr>\n",
       "      <th>mean</th>\n",
       "      <td>16.696203</td>\n",
       "      <td>2.749367</td>\n",
       "      <td>2.521519</td>\n",
       "      <td>1.448101</td>\n",
       "      <td>2.035443</td>\n",
       "      <td>0.334177</td>\n",
       "      <td>3.944304</td>\n",
       "      <td>3.235443</td>\n",
       "      <td>3.108861</td>\n",
       "      <td>1.481013</td>\n",
       "      <td>2.291139</td>\n",
       "      <td>3.554430</td>\n",
       "      <td>5.708861</td>\n",
       "      <td>10.908861</td>\n",
       "      <td>10.713924</td>\n",
       "      <td>10.415190</td>\n",
       "    </tr>\n",
       "    <tr>\n",
       "      <th>std</th>\n",
       "      <td>1.276043</td>\n",
       "      <td>1.094735</td>\n",
       "      <td>1.088201</td>\n",
       "      <td>0.697505</td>\n",
       "      <td>0.839240</td>\n",
       "      <td>0.743651</td>\n",
       "      <td>0.896659</td>\n",
       "      <td>0.998862</td>\n",
       "      <td>1.113278</td>\n",
       "      <td>0.890741</td>\n",
       "      <td>1.287897</td>\n",
       "      <td>1.390303</td>\n",
       "      <td>8.003096</td>\n",
       "      <td>3.319195</td>\n",
       "      <td>3.761505</td>\n",
       "      <td>4.581443</td>\n",
       "    </tr>\n",
       "    <tr>\n",
       "      <th>min</th>\n",
       "      <td>15.000000</td>\n",
       "      <td>0.000000</td>\n",
       "      <td>0.000000</td>\n",
       "      <td>1.000000</td>\n",
       "      <td>1.000000</td>\n",
       "      <td>0.000000</td>\n",
       "      <td>1.000000</td>\n",
       "      <td>1.000000</td>\n",
       "      <td>1.000000</td>\n",
       "      <td>1.000000</td>\n",
       "      <td>1.000000</td>\n",
       "      <td>1.000000</td>\n",
       "      <td>0.000000</td>\n",
       "      <td>3.000000</td>\n",
       "      <td>0.000000</td>\n",
       "      <td>0.000000</td>\n",
       "    </tr>\n",
       "    <tr>\n",
       "      <th>25%</th>\n",
       "      <td>16.000000</td>\n",
       "      <td>2.000000</td>\n",
       "      <td>2.000000</td>\n",
       "      <td>1.000000</td>\n",
       "      <td>1.000000</td>\n",
       "      <td>0.000000</td>\n",
       "      <td>4.000000</td>\n",
       "      <td>3.000000</td>\n",
       "      <td>2.000000</td>\n",
       "      <td>1.000000</td>\n",
       "      <td>1.000000</td>\n",
       "      <td>3.000000</td>\n",
       "      <td>0.000000</td>\n",
       "      <td>8.000000</td>\n",
       "      <td>9.000000</td>\n",
       "      <td>8.000000</td>\n",
       "    </tr>\n",
       "    <tr>\n",
       "      <th>50%</th>\n",
       "      <td>17.000000</td>\n",
       "      <td>3.000000</td>\n",
       "      <td>2.000000</td>\n",
       "      <td>1.000000</td>\n",
       "      <td>2.000000</td>\n",
       "      <td>0.000000</td>\n",
       "      <td>4.000000</td>\n",
       "      <td>3.000000</td>\n",
       "      <td>3.000000</td>\n",
       "      <td>1.000000</td>\n",
       "      <td>2.000000</td>\n",
       "      <td>4.000000</td>\n",
       "      <td>4.000000</td>\n",
       "      <td>11.000000</td>\n",
       "      <td>11.000000</td>\n",
       "      <td>11.000000</td>\n",
       "    </tr>\n",
       "    <tr>\n",
       "      <th>75%</th>\n",
       "      <td>18.000000</td>\n",
       "      <td>4.000000</td>\n",
       "      <td>3.000000</td>\n",
       "      <td>2.000000</td>\n",
       "      <td>2.000000</td>\n",
       "      <td>0.000000</td>\n",
       "      <td>5.000000</td>\n",
       "      <td>4.000000</td>\n",
       "      <td>4.000000</td>\n",
       "      <td>2.000000</td>\n",
       "      <td>3.000000</td>\n",
       "      <td>5.000000</td>\n",
       "      <td>8.000000</td>\n",
       "      <td>13.000000</td>\n",
       "      <td>13.000000</td>\n",
       "      <td>14.000000</td>\n",
       "    </tr>\n",
       "    <tr>\n",
       "      <th>max</th>\n",
       "      <td>22.000000</td>\n",
       "      <td>4.000000</td>\n",
       "      <td>4.000000</td>\n",
       "      <td>4.000000</td>\n",
       "      <td>4.000000</td>\n",
       "      <td>3.000000</td>\n",
       "      <td>5.000000</td>\n",
       "      <td>5.000000</td>\n",
       "      <td>5.000000</td>\n",
       "      <td>5.000000</td>\n",
       "      <td>5.000000</td>\n",
       "      <td>5.000000</td>\n",
       "      <td>75.000000</td>\n",
       "      <td>19.000000</td>\n",
       "      <td>19.000000</td>\n",
       "      <td>20.000000</td>\n",
       "    </tr>\n",
       "  </tbody>\n",
       "</table>\n",
       "</div>"
      ],
      "text/plain": [
       "              age        Medu        Fedu  traveltime   studytime    failures  \\\n",
       "count  395.000000  395.000000  395.000000  395.000000  395.000000  395.000000   \n",
       "mean    16.696203    2.749367    2.521519    1.448101    2.035443    0.334177   \n",
       "std      1.276043    1.094735    1.088201    0.697505    0.839240    0.743651   \n",
       "min     15.000000    0.000000    0.000000    1.000000    1.000000    0.000000   \n",
       "25%     16.000000    2.000000    2.000000    1.000000    1.000000    0.000000   \n",
       "50%     17.000000    3.000000    2.000000    1.000000    2.000000    0.000000   \n",
       "75%     18.000000    4.000000    3.000000    2.000000    2.000000    0.000000   \n",
       "max     22.000000    4.000000    4.000000    4.000000    4.000000    3.000000   \n",
       "\n",
       "           famrel    freetime       goout        Dalc        Walc      health  \\\n",
       "count  395.000000  395.000000  395.000000  395.000000  395.000000  395.000000   \n",
       "mean     3.944304    3.235443    3.108861    1.481013    2.291139    3.554430   \n",
       "std      0.896659    0.998862    1.113278    0.890741    1.287897    1.390303   \n",
       "min      1.000000    1.000000    1.000000    1.000000    1.000000    1.000000   \n",
       "25%      4.000000    3.000000    2.000000    1.000000    1.000000    3.000000   \n",
       "50%      4.000000    3.000000    3.000000    1.000000    2.000000    4.000000   \n",
       "75%      5.000000    4.000000    4.000000    2.000000    3.000000    5.000000   \n",
       "max      5.000000    5.000000    5.000000    5.000000    5.000000    5.000000   \n",
       "\n",
       "         absences          G1          G2          G3  \n",
       "count  395.000000  395.000000  395.000000  395.000000  \n",
       "mean     5.708861   10.908861   10.713924   10.415190  \n",
       "std      8.003096    3.319195    3.761505    4.581443  \n",
       "min      0.000000    3.000000    0.000000    0.000000  \n",
       "25%      0.000000    8.000000    9.000000    8.000000  \n",
       "50%      4.000000   11.000000   11.000000   11.000000  \n",
       "75%      8.000000   13.000000   13.000000   14.000000  \n",
       "max     75.000000   19.000000   19.000000   20.000000  "
      ]
     },
     "execution_count": 55,
     "metadata": {},
     "output_type": "execute_result"
    }
   ],
   "source": [
    "data.describe()"
   ]
  },
  {
   "cell_type": "markdown",
   "id": "474ebe0a",
   "metadata": {
    "cell_id": "00007-98c52222-98fd-42d1-b01a-8dbfad1cb04c",
    "deepnote_cell_height": 54,
    "deepnote_cell_type": "markdown"
   },
   "source": [
    "#### looks good!"
   ]
  },
  {
   "cell_type": "code",
   "execution_count": 56,
   "id": "c2ec0d04",
   "metadata": {
    "cell_id": "00008-d2688d73-52c3-4fd2-82ee-3238c6d88a08",
    "deepnote_cell_height": 744,
    "deepnote_cell_type": "code",
    "deepnote_output_heights": [
     611
    ],
    "deepnote_to_be_reexecuted": false,
    "execution_millis": 8354,
    "execution_start": 1653340972230,
    "source_hash": "dc59deaf"
   },
   "outputs": [
    {
     "data": {
      "image/png": "[encoded data removed]",
      "text/plain": [
       "<Figure size 1440x1440 with 16 Axes>"
      ]
     },
     "metadata": {},
     "output_type": "display_data"
    }
   ],
   "source": [
    "#data's distribution\n",
    "data.hist(bins=50, figsize=(20,20), color='#AE3A54')\n",
    "plt.show()"
   ]
  },
  {
   "cell_type": "markdown",
   "id": "2c60245a",
   "metadata": {
    "cell_id": "00009-157ff32e-952e-437f-93d7-6691035a91c7",
    "deepnote_cell_height": 100.390625,
    "deepnote_cell_type": "markdown"
   },
   "source": [
    "### Exploratory data analysis\n",
    "\n",
    "Plot titles describe what we noted\n"
   ]
  },
  {
   "cell_type": "code",
   "execution_count": 57,
   "id": "4c926110",
   "metadata": {
    "cell_id": "00010-75284adb-023a-44a6-af8e-a44ff9ff4c95",
    "deepnote_cell_height": 755,
    "deepnote_cell_type": "code",
    "deepnote_output_heights": [
     424
    ],
    "deepnote_to_be_reexecuted": false,
    "execution_millis": 898,
    "execution_start": 1653340980678,
    "source_hash": "9c017184"
   },
   "outputs": [
    {
     "data": {
      "image/png": "[encoded data removed]",
      "text/plain": [
       "<Figure size 576x432 with 1 Axes>"
      ]
     },
     "metadata": {},
     "output_type": "display_data"
    }
   ],
   "source": [
    "# Looking at the grades through the 3 periods \n",
    "g1 = data[\"G1\"]\n",
    "g2 = data[\"G2\"]\n",
    "g3 = data[\"G3\"]\n",
    "\n",
    "#Stack the data\n",
    "plt.figure(figsize=(8,6)).suptitle(\"All three grades\",fontsize=25)\n",
    "plt.hist([g1,g2,g3],bins=21, stacked=True, density=False)\n",
    "plt.xlabel(\"Grade\",fontsize=15)\n",
    "plt.ylabel(\"Count\",fontsize=15)\n",
    "plt.legend(('G1','G2','G3'), loc='upper right',fontsize=12)\n",
    "ticks = np.arange(0, 20, 1)\n",
    "plt.xticks(ticks)\n",
    "plt.show()"
   ]
  },
  {
   "cell_type": "code",
   "execution_count": 58,
   "id": "63746008",
   "metadata": {
    "cell_id": "00011-57918663-434f-4def-bad3-a83f0d9e3f07",
    "deepnote_cell_height": 474,
    "deepnote_cell_type": "code",
    "deepnote_output_heights": [
     305
    ],
    "deepnote_to_be_reexecuted": false,
    "execution_millis": 409,
    "execution_start": 1653340981213,
    "source_hash": "775978bf"
   },
   "outputs": [
    {
     "data": {
      "image/png": "[encoded data removed]",
      "text/plain": [
       "<Figure size 1080x576 with 1 Axes>"
      ]
     },
     "metadata": {},
     "output_type": "display_data"
    }
   ],
   "source": [
    "b = sns.countplot(x= \"address\", data = data)\n",
    "b.axes.set_title('Urban and rural students', fontsize = 30)\n",
    "b.set_xlabel('Address', fontsize = 20)\n",
    "b.set_ylabel('Count', fontsize = 20)\n",
    "plt.show()"
   ]
  },
  {
   "cell_type": "code",
   "execution_count": 59,
   "id": "e1bd85b8",
   "metadata": {
    "cell_id": "00012-d00c722b-26e1-4f67-8e6c-634ee916e3f8",
    "deepnote_cell_height": 502,
    "deepnote_cell_type": "code",
    "deepnote_output_heights": [
     297
    ],
    "deepnote_to_be_reexecuted": false,
    "execution_millis": 254,
    "execution_start": 1653340981405,
    "source_hash": "40b0ad6c"
   },
   "outputs": [
    {
     "data": {
      "image/png": "[encoded data removed]",
      "text/plain": [
       "<Figure size 1080x576 with 1 Axes>"
      ]
     },
     "metadata": {},
     "output_type": "display_data"
    }
   ],
   "source": [
    "# Grade distribution by address\n",
    "sns.kdeplot(data.loc[data['address'] == 'U', 'G3'], label='Urban', shade = True)\n",
    "sns.kdeplot(data.loc[data['address'] == 'R', 'G3'], label='Rural', shade = True)\n",
    "plt.title('Do urban students score higher than rural students?', fontsize = 20)\n",
    "plt.xlabel('Grade', fontsize = 20);\n",
    "plt.ylabel('Density', fontsize = 20)\n",
    "plt.show()"
   ]
  },
  {
   "cell_type": "code",
   "execution_count": 60,
   "id": "ce2118b7",
   "metadata": {
    "cell_id": "00013-fe333da1-b770-4383-9d25-99fbc552ad3b",
    "deepnote_cell_height": 583.28125,
    "deepnote_cell_type": "code",
    "deepnote_output_heights": [
     null,
     305
    ],
    "deepnote_to_be_reexecuted": false,
    "execution_millis": 572,
    "execution_start": 1653340981661,
    "scrolled": true,
    "source_hash": "345975b5"
   },
   "outputs": [
    {
     "data": {
      "image/png": "[encoded data removed]",
      "text/plain": [
       "<Figure size 1080x576 with 1 Axes>"
      ]
     },
     "metadata": {},
     "output_type": "display_data"
    }
   ],
   "source": [
    "b = sns.swarmplot(x='reason', y='G3', data=data)\n",
    "b.axes.set_title('Reason vs Final grade', fontsize = 30)\n",
    "b.set_xlabel('Reason', fontsize = 20)\n",
    "b.set_ylabel('Final Grade', fontsize = 20)\n",
    "plt.show()"
   ]
  },
  {
   "cell_type": "code",
   "execution_count": 61,
   "id": "7f6b67ac",
   "metadata": {
    "cell_id": "00014-9ec16790-1b5c-40e2-a135-e4f6cba907bd",
    "deepnote_cell_height": 543.890625,
    "deepnote_cell_type": "code",
    "deepnote_output_heights": [
     null,
     305
    ],
    "deepnote_to_be_reexecuted": false,
    "execution_millis": 841,
    "execution_start": 1653340982241,
    "source_hash": "752ea649"
   },
   "outputs": [
    {
     "data": {
      "image/png": "[encoded data removed]",
      "text/plain": [
       "<Figure size 1080x576 with 1 Axes>"
      ]
     },
     "metadata": {},
     "output_type": "display_data"
    }
   ],
   "source": [
    "b = sns.swarmplot(x = \"failures\", y = \"G3\", data = data, size = 4.2)\n",
    "b.axes.set_title('Students with less failures score higher', fontsize = 30)\n",
    "b.set_xlabel('Number of failures', fontsize = 20)\n",
    "b.set_ylabel('Final Grade', fontsize = 20)\n",
    "plt.show()"
   ]
  },
  {
   "cell_type": "code",
   "execution_count": 62,
   "id": "3b81d000",
   "metadata": {
    "cell_id": "00015-b8bf45f7-3424-4a40-9c58-34f17c97edb0",
    "deepnote_cell_height": 474,
    "deepnote_cell_type": "code",
    "deepnote_output_heights": [
     305
    ],
    "deepnote_to_be_reexecuted": false,
    "execution_millis": 685,
    "execution_start": 1653340983113,
    "source_hash": "ee561887"
   },
   "outputs": [
    {
     "data": {
      "image/png": "[encoded data removed]",
      "text/plain": [
       "<Figure size 1080x576 with 1 Axes>"
      ]
     },
     "metadata": {},
     "output_type": "display_data"
    }
   ],
   "source": [
    "b = sns.boxplot(x = \"failures\", y = \"G3\", data = data)\n",
    "b.axes.set_title('Students with less failures score higher', fontsize = 30)\n",
    "b.set_xlabel('Number of failures', fontsize = 20)\n",
    "b.set_ylabel('Final Grade', fontsize = 20)\n",
    "plt.show()"
   ]
  },
  {
   "cell_type": "code",
   "execution_count": 63,
   "id": "c192e2dd",
   "metadata": {
    "cell_id": "00016-b5d6ee8f-d5a7-40b6-95c4-0ad0ca6fbc56",
    "deepnote_cell_height": 492,
    "deepnote_cell_type": "code",
    "deepnote_output_heights": [
     305
    ],
    "deepnote_to_be_reexecuted": false,
    "execution_millis": 715,
    "execution_start": 1653340983649,
    "source_hash": "5e6a49a8"
   },
   "outputs": [
    {
     "data": {
      "image/png": "[encoded data removed]",
      "text/plain": [
       "<Figure size 1080x576 with 1 Axes>"
      ]
     },
     "metadata": {},
     "output_type": "display_data"
    }
   ],
   "source": [
    "family_ed = data['Fedu'] + data['Medu'] \n",
    "b = sns.boxplot(x=family_ed, y= 'G3', data = data)\n",
    "b.axes.set_title('Educated families result in higher grades', fontsize = 30)\n",
    "b.set_xlabel('Family education (Mother + Father)', fontsize = 20)\n",
    "b.set_ylabel('Final Grade', fontsize = 20)\n",
    "plt.show()"
   ]
  },
  {
   "cell_type": "code",
   "execution_count": 64,
   "id": "aaa9282d",
   "metadata": {
    "cell_id": "00017-86b49e73-cf5f-41cb-8784-593b61f185a6",
    "deepnote_cell_height": 719.453125,
    "deepnote_cell_type": "code",
    "deepnote_output_heights": [
     null,
     305
    ],
    "deepnote_to_be_reexecuted": false,
    "execution_millis": 537,
    "execution_start": 1653340984169,
    "source_hash": "63aeca99"
   },
   "outputs": [
    {
     "data": {
      "image/png": "[encoded data removed]",
      "text/plain": [
       "<Figure size 1080x576 with 1 Axes>"
      ]
     },
     "metadata": {},
     "output_type": "display_data"
    }
   ],
   "source": [
    "family_ed = data['Fedu'] + data['Medu'] \n",
    "b = sns.swarmplot(x=family_ed, y= 'G3', data = data)\n",
    "b.axes.set_title('Educated families result in higher grades', fontsize = 30)\n",
    "b.set_xlabel('Family education (Mother + Father)', fontsize = 20)\n",
    "b.set_ylabel('Final Grade', fontsize = 20)\n",
    "plt.show()"
   ]
  },
  {
   "cell_type": "code",
   "execution_count": 65,
   "id": "7ee70338",
   "metadata": {
    "cell_id": "00018-eff13b7c-4eb6-4d01-a044-c185a2fb9338",
    "deepnote_cell_height": 474,
    "deepnote_cell_type": "code",
    "deepnote_output_heights": [
     305
    ],
    "deepnote_to_be_reexecuted": false,
    "execution_millis": 387,
    "execution_start": 1653340984718,
    "source_hash": "3240a801"
   },
   "outputs": [
    {
     "data": {
      "image/png": "[encoded data removed]",
      "text/plain": [
       "<Figure size 1080x576 with 1 Axes>"
      ]
     },
     "metadata": {},
     "output_type": "display_data"
    }
   ],
   "source": [
    "b = sns.boxplot(x = data['higher'], y=data['G3'], palette = [\"#AE3A54\", \"#7286B7\"], color= \"#7286B7\")\n",
    "b.axes.set_title('Students who wish to go for higher studies score more', fontsize = 30)\n",
    "b.set_xlabel('Higher education (1 = Yes)', fontsize = 20)\n",
    "b.set_ylabel('Final Grade', fontsize = 20)\n",
    "plt.show()"
   ]
  },
  {
   "cell_type": "code",
   "execution_count": 66,
   "id": "c8d144d5",
   "metadata": {
    "cell_id": "00019-f428b8ff-bfa9-4cb8-af61-c6a81bf9a3aa",
    "deepnote_cell_height": 474,
    "deepnote_cell_type": "code",
    "deepnote_output_heights": [
     305
    ],
    "deepnote_to_be_reexecuted": false,
    "execution_millis": 981,
    "execution_start": 1653340985140,
    "source_hash": "f0692891"
   },
   "outputs": [
    {
     "data": {
      "image/png": "[encoded data removed]",
      "text/plain": [
       "<Figure size 1080x576 with 1 Axes>"
      ]
     },
     "metadata": {},
     "output_type": "display_data"
    }
   ],
   "source": [
    "b = sns.boxplot(x=data['goout'],y=data['G3'], palette=[\"#7286B7\", \"#9BADE6\", \"#D9E2FD\", \"#7DBAEF\", \"#F5BBC4\"])\n",
    "b.axes.set_title('Students who go out a lot score less', fontsize = 30)\n",
    "b.set_xlabel('Going out', fontsize = 20)\n",
    "b.set_ylabel('Final Grade', fontsize = 20)\n",
    "plt.show()"
   ]
  },
  {
   "cell_type": "code",
   "execution_count": 67,
   "id": "f3056020",
   "metadata": {
    "cell_id": "00020-11cf6242-40cd-41fe-bdd2-c774ed9ba80a",
    "deepnote_cell_height": 474,
    "deepnote_cell_type": "code",
    "deepnote_output_heights": [
     305
    ],
    "deepnote_to_be_reexecuted": false,
    "execution_millis": 837,
    "execution_start": 1653340986154,
    "source_hash": "4f05678b"
   },
   "outputs": [
    {
     "data": {
      "image/png": "[encoded data removed]",
      "text/plain": [
       "<Figure size 1080x576 with 1 Axes>"
      ]
     },
     "metadata": {},
     "output_type": "display_data"
    }
   ],
   "source": [
    "b = sns.boxplot(x=data['romantic'],y=data['G3'], palette=[\"#AE3A54\", \"#A6A6A6\"])\n",
    "b.axes.set_title('Students with no romantic relationship score higher', fontsize = 30)\n",
    "b.set_xlabel('Romantic relationship (1 = None)', fontsize = 20)\n",
    "b.set_ylabel('Final Grade', fontsize = 20)\n",
    "plt.show()"
   ]
  },
  {
   "cell_type": "code",
   "execution_count": 68,
   "id": "f8e45c1e",
   "metadata": {},
   "outputs": [
    {
     "data": {
      "image/png": "[encoded data removed]",
      "text/plain": [
       "<Figure size 1080x576 with 1 Axes>"
      ]
     },
     "metadata": {},
     "output_type": "display_data"
    }
   ],
   "source": [
    "b = sns.scatterplot(x=data['absences'],y=data['G3'], palette=[\"#AE3A54\", \"#A6A6A6\"])\n",
    "b.axes.set_title('Students with no romantic relationship score higher', fontsize = 30)\n",
    "b.set_xlabel('Romantic relationship (1 = None)', fontsize = 20)\n",
    "b.set_ylabel('Final Grade', fontsize = 20)\n",
    "plt.show()"
   ]
  },
  {
   "cell_type": "markdown",
   "id": "9a8586fd",
   "metadata": {
    "cell_id": "00021-28894908-3265-4b02-8270-d99afa825122",
    "deepnote_cell_height": 62,
    "deepnote_cell_type": "markdown"
   },
   "source": [
    "### Encoding of the data"
   ]
  },
  {
   "cell_type": "code",
   "execution_count": 69,
   "id": "f59cb57d",
   "metadata": {
    "cell_id": "00022-7bf7c6e1-9cb3-468a-b936-a6b5feb60254",
    "deepnote_cell_height": 117,
    "deepnote_cell_type": "code",
    "deepnote_to_be_reexecuted": false,
    "execution_millis": 18,
    "execution_start": 1653340986651,
    "source_hash": "1778c2dc"
   },
   "outputs": [],
   "source": [
    "# making a copy for preprocessing\n",
    "data_dum=data\n"
   ]
  },
  {
   "cell_type": "code",
   "execution_count": 70,
   "id": "2aa593f4",
   "metadata": {
    "cell_id": "00023-7fb201fd-3574-4827-9271-882b7f9c6fe6",
    "deepnote_cell_height": 535,
    "deepnote_cell_type": "code",
    "deepnote_to_be_reexecuted": false,
    "execution_millis": 322,
    "execution_start": 1653340986680,
    "source_hash": "e70b02d9"
   },
   "outputs": [
    {
     "data": {
      "text/html": [
       "<div>\n",
       "<style scoped>\n",
       "    .dataframe tbody tr th:only-of-type {\n",
       "        vertical-align: middle;\n",
       "    }\n",
       "\n",
       "    .dataframe tbody tr th {\n",
       "        vertical-align: top;\n",
       "    }\n",
       "\n",
       "    .dataframe thead th {\n",
       "        text-align: right;\n",
       "    }\n",
       "</style>\n",
       "<table border=\"1\" class=\"dataframe\">\n",
       "  <thead>\n",
       "    <tr style=\"text-align: right;\">\n",
       "      <th></th>\n",
       "      <th>age</th>\n",
       "      <th>Medu</th>\n",
       "      <th>Fedu</th>\n",
       "      <th>traveltime</th>\n",
       "      <th>studytime</th>\n",
       "      <th>failures</th>\n",
       "      <th>famrel</th>\n",
       "      <th>freetime</th>\n",
       "      <th>goout</th>\n",
       "      <th>Dalc</th>\n",
       "      <th>Walc</th>\n",
       "      <th>health</th>\n",
       "      <th>absences</th>\n",
       "      <th>G1</th>\n",
       "      <th>G2</th>\n",
       "      <th>G3</th>\n",
       "    </tr>\n",
       "  </thead>\n",
       "  <tbody>\n",
       "    <tr>\n",
       "      <th>count</th>\n",
       "      <td>395.000000</td>\n",
       "      <td>395.000000</td>\n",
       "      <td>395.000000</td>\n",
       "      <td>395.000000</td>\n",
       "      <td>395.000000</td>\n",
       "      <td>395.000000</td>\n",
       "      <td>395.000000</td>\n",
       "      <td>395.000000</td>\n",
       "      <td>395.000000</td>\n",
       "      <td>395.000000</td>\n",
       "      <td>395.000000</td>\n",
       "      <td>395.000000</td>\n",
       "      <td>395.000000</td>\n",
       "      <td>395.000000</td>\n",
       "      <td>395.000000</td>\n",
       "      <td>395.000000</td>\n",
       "    </tr>\n",
       "    <tr>\n",
       "      <th>mean</th>\n",
       "      <td>16.696203</td>\n",
       "      <td>2.749367</td>\n",
       "      <td>2.521519</td>\n",
       "      <td>1.448101</td>\n",
       "      <td>2.035443</td>\n",
       "      <td>0.334177</td>\n",
       "      <td>3.944304</td>\n",
       "      <td>3.235443</td>\n",
       "      <td>3.108861</td>\n",
       "      <td>1.481013</td>\n",
       "      <td>2.291139</td>\n",
       "      <td>3.554430</td>\n",
       "      <td>5.708861</td>\n",
       "      <td>10.908861</td>\n",
       "      <td>10.713924</td>\n",
       "      <td>10.415190</td>\n",
       "    </tr>\n",
       "    <tr>\n",
       "      <th>std</th>\n",
       "      <td>1.276043</td>\n",
       "      <td>1.094735</td>\n",
       "      <td>1.088201</td>\n",
       "      <td>0.697505</td>\n",
       "      <td>0.839240</td>\n",
       "      <td>0.743651</td>\n",
       "      <td>0.896659</td>\n",
       "      <td>0.998862</td>\n",
       "      <td>1.113278</td>\n",
       "      <td>0.890741</td>\n",
       "      <td>1.287897</td>\n",
       "      <td>1.390303</td>\n",
       "      <td>8.003096</td>\n",
       "      <td>3.319195</td>\n",
       "      <td>3.761505</td>\n",
       "      <td>4.581443</td>\n",
       "    </tr>\n",
       "    <tr>\n",
       "      <th>min</th>\n",
       "      <td>15.000000</td>\n",
       "      <td>0.000000</td>\n",
       "      <td>0.000000</td>\n",
       "      <td>1.000000</td>\n",
       "      <td>1.000000</td>\n",
       "      <td>0.000000</td>\n",
       "      <td>1.000000</td>\n",
       "      <td>1.000000</td>\n",
       "      <td>1.000000</td>\n",
       "      <td>1.000000</td>\n",
       "      <td>1.000000</td>\n",
       "      <td>1.000000</td>\n",
       "      <td>0.000000</td>\n",
       "      <td>3.000000</td>\n",
       "      <td>0.000000</td>\n",
       "      <td>0.000000</td>\n",
       "    </tr>\n",
       "    <tr>\n",
       "      <th>25%</th>\n",
       "      <td>16.000000</td>\n",
       "      <td>2.000000</td>\n",
       "      <td>2.000000</td>\n",
       "      <td>1.000000</td>\n",
       "      <td>1.000000</td>\n",
       "      <td>0.000000</td>\n",
       "      <td>4.000000</td>\n",
       "      <td>3.000000</td>\n",
       "      <td>2.000000</td>\n",
       "      <td>1.000000</td>\n",
       "      <td>1.000000</td>\n",
       "      <td>3.000000</td>\n",
       "      <td>0.000000</td>\n",
       "      <td>8.000000</td>\n",
       "      <td>9.000000</td>\n",
       "      <td>8.000000</td>\n",
       "    </tr>\n",
       "    <tr>\n",
       "      <th>50%</th>\n",
       "      <td>17.000000</td>\n",
       "      <td>3.000000</td>\n",
       "      <td>2.000000</td>\n",
       "      <td>1.000000</td>\n",
       "      <td>2.000000</td>\n",
       "      <td>0.000000</td>\n",
       "      <td>4.000000</td>\n",
       "      <td>3.000000</td>\n",
       "      <td>3.000000</td>\n",
       "      <td>1.000000</td>\n",
       "      <td>2.000000</td>\n",
       "      <td>4.000000</td>\n",
       "      <td>4.000000</td>\n",
       "      <td>11.000000</td>\n",
       "      <td>11.000000</td>\n",
       "      <td>11.000000</td>\n",
       "    </tr>\n",
       "    <tr>\n",
       "      <th>75%</th>\n",
       "      <td>18.000000</td>\n",
       "      <td>4.000000</td>\n",
       "      <td>3.000000</td>\n",
       "      <td>2.000000</td>\n",
       "      <td>2.000000</td>\n",
       "      <td>0.000000</td>\n",
       "      <td>5.000000</td>\n",
       "      <td>4.000000</td>\n",
       "      <td>4.000000</td>\n",
       "      <td>2.000000</td>\n",
       "      <td>3.000000</td>\n",
       "      <td>5.000000</td>\n",
       "      <td>8.000000</td>\n",
       "      <td>13.000000</td>\n",
       "      <td>13.000000</td>\n",
       "      <td>14.000000</td>\n",
       "    </tr>\n",
       "    <tr>\n",
       "      <th>max</th>\n",
       "      <td>22.000000</td>\n",
       "      <td>4.000000</td>\n",
       "      <td>4.000000</td>\n",
       "      <td>4.000000</td>\n",
       "      <td>4.000000</td>\n",
       "      <td>3.000000</td>\n",
       "      <td>5.000000</td>\n",
       "      <td>5.000000</td>\n",
       "      <td>5.000000</td>\n",
       "      <td>5.000000</td>\n",
       "      <td>5.000000</td>\n",
       "      <td>5.000000</td>\n",
       "      <td>75.000000</td>\n",
       "      <td>19.000000</td>\n",
       "      <td>19.000000</td>\n",
       "      <td>20.000000</td>\n",
       "    </tr>\n",
       "  </tbody>\n",
       "</table>\n",
       "</div>"
      ],
      "text/plain": [
       "              age        Medu        Fedu  traveltime   studytime    failures  \\\n",
       "count  395.000000  395.000000  395.000000  395.000000  395.000000  395.000000   \n",
       "mean    16.696203    2.749367    2.521519    1.448101    2.035443    0.334177   \n",
       "std      1.276043    1.094735    1.088201    0.697505    0.839240    0.743651   \n",
       "min     15.000000    0.000000    0.000000    1.000000    1.000000    0.000000   \n",
       "25%     16.000000    2.000000    2.000000    1.000000    1.000000    0.000000   \n",
       "50%     17.000000    3.000000    2.000000    1.000000    2.000000    0.000000   \n",
       "75%     18.000000    4.000000    3.000000    2.000000    2.000000    0.000000   \n",
       "max     22.000000    4.000000    4.000000    4.000000    4.000000    3.000000   \n",
       "\n",
       "           famrel    freetime       goout        Dalc        Walc      health  \\\n",
       "count  395.000000  395.000000  395.000000  395.000000  395.000000  395.000000   \n",
       "mean     3.944304    3.235443    3.108861    1.481013    2.291139    3.554430   \n",
       "std      0.896659    0.998862    1.113278    0.890741    1.287897    1.390303   \n",
       "min      1.000000    1.000000    1.000000    1.000000    1.000000    1.000000   \n",
       "25%      4.000000    3.000000    2.000000    1.000000    1.000000    3.000000   \n",
       "50%      4.000000    3.000000    3.000000    1.000000    2.000000    4.000000   \n",
       "75%      5.000000    4.000000    4.000000    2.000000    3.000000    5.000000   \n",
       "max      5.000000    5.000000    5.000000    5.000000    5.000000    5.000000   \n",
       "\n",
       "         absences          G1          G2          G3  \n",
       "count  395.000000  395.000000  395.000000  395.000000  \n",
       "mean     5.708861   10.908861   10.713924   10.415190  \n",
       "std      8.003096    3.319195    3.761505    4.581443  \n",
       "min      0.000000    3.000000    0.000000    0.000000  \n",
       "25%      0.000000    8.000000    9.000000    8.000000  \n",
       "50%      4.000000   11.000000   11.000000   11.000000  \n",
       "75%      8.000000   13.000000   13.000000   14.000000  \n",
       "max     75.000000   19.000000   19.000000   20.000000  "
      ]
     },
     "execution_count": 70,
     "metadata": {},
     "output_type": "execute_result"
    }
   ],
   "source": [
    "data_dum.describe()"
   ]
  },
  {
   "cell_type": "code",
   "execution_count": 71,
   "id": "401d1a55",
   "metadata": {
    "cell_id": "00024-61150f48-e903-43e1-955e-2e229f3be53f",
    "deepnote_cell_height": 1079,
    "deepnote_cell_type": "code",
    "deepnote_to_be_reexecuted": false,
    "execution_millis": 151,
    "execution_start": 1653340986875,
    "source_hash": "67ae53d7"
   },
   "outputs": [
    {
     "name": "stdout",
     "output_type": "stream",
     "text": [
      "school - [0 1]\n",
      "sex - [1 0]\n",
      "age - [18 17 15 16 19 22 20 21]\n",
      "address - ['U' 'R']\n",
      "famsize - ['GT3' 'LE3']\n",
      "Pstatus - ['A' 'T']\n",
      "Medu - [4 1 3 2 0]\n",
      "Fedu - [4 1 2 3 0]\n",
      "Mjob - ['at_home' 'health' 'other' 'services' 'teacher']\n",
      "Fjob - ['teacher' 'other' 'services' 'health' 'at_home']\n",
      "reason - ['course' 'other' 'home' 'reputation']\n",
      "guardian - ['mother' 'father' 'other']\n",
      "traveltime - [2 1 3 4]\n",
      "studytime - [2 3 1 4]\n",
      "failures - [0 3 2 1]\n",
      "schoolsup - [1 0]\n",
      "famsup - [0 1]\n",
      "paid - [0 1]\n",
      "activities - [0 1]\n",
      "nursery - [1 0]\n",
      "higher - [1 0]\n",
      "internet - [0 1]\n",
      "romantic - [0 1]\n",
      "famrel - [4 5 3 1 2]\n",
      "freetime - [3 2 4 1 5]\n",
      "goout - [4 3 2 1 5]\n",
      "Dalc - [1 2 5 3 4]\n",
      "Walc - [1 3 2 4 5]\n",
      "health - [3 5 1 2 4]\n",
      "absences - [ 6  4 10  2  0 16 14  7  8 25 12 54 18 26 20 56 24 28  5 13 15 22  3 21\n",
      "  1 75 30 19  9 11 38 40 23 17]\n",
      "G1 - [ 5  7 15  6 12 16 14 10 13  8 11  9 17 19 18  4  3]\n",
      "G2 - [ 6  5  8 14 10 15 12 18 16 13  9 11  7 19 17  4  0]\n",
      "G3 - [ 6 10 15 11 19  9 12 14 16  5  8 17 18 13 20  7  0  4]\n"
     ]
    }
   ],
   "source": [
    "#Converting to a binary value\n",
    "categorical_b = {'yes': 1, 'no': 0}\n",
    "\n",
    "categorica_school = {'MS':1,'GP':0}\n",
    "\n",
    "data_dum['school'] = data_dum['school'].map(categorica_school)\n",
    "data_dum['schoolsup'] = data_dum['schoolsup'].map(categorical_b)\n",
    "data_dum['famsup'] = data_dum['famsup'].map(categorical_b)\n",
    "data_dum['paid'] = data_dum['paid'].map(categorical_b)\n",
    "data_dum['activities'] = data_dum['activities'].map(categorical_b)\n",
    "data_dum['nursery'] = data_dum['nursery'].map(categorical_b)\n",
    "data_dum['higher'] = data_dum['higher'].map(categorical_b)\n",
    "data_dum['internet'] = data_dum['internet'].map(categorical_b)\n",
    "data_dum['romantic'] = data_dum['romantic'].map(categorical_b)\n",
    "\n",
    "categorical_sex = {'F': 1, 'M': 0}\n",
    "\n",
    "data_dum['sex'] = data_dum['sex'].map(categorical_sex)\n",
    "\n",
    "# print out the unique values of each column\n",
    "for col in data_dum.columns:\n",
    "    print(f\"{col} - {data_dum[col].unique()}\")"
   ]
  },
  {
   "cell_type": "code",
   "execution_count": 72,
   "id": "dffabb1a",
   "metadata": {
    "cell_id": "00025-26ddeeb3-e4dc-466b-93db-8410238bd734",
    "deepnote_cell_height": 1253.125,
    "deepnote_cell_type": "code",
    "deepnote_to_be_reexecuted": false,
    "execution_millis": 45,
    "execution_start": 1653340987025,
    "source_hash": "6f092978"
   },
   "outputs": [
    {
     "name": "stdout",
     "output_type": "stream",
     "text": [
      "G2 - [ 6  5  8 14 10 15 12 18 16 13  9 11  7 19 17  4  0]\n",
      "G1 - [ 5  7 15  6 12 16 14 10 13  8 11  9 17 19 18  4  3]\n",
      "absences - [ 6  4 10  2  0 16 14  7  8 25 12 54 18 26 20 56 24 28  5 13 15 22  3 21\n",
      "  1 75 30 19  9 11 38 40 23 17]\n",
      "failures - [0 3 2 1]\n",
      "schoolsup - [1 0]\n",
      "higher - [1 0]\n",
      "age - [18 17 15 16 19 22 20 21]\n",
      "Medu - [5 2 4 3 1]\n",
      "guardian.2 - [0 1]\n",
      "G3 - [ 6 10 15 11 19  9 12 14 16  5  8 17 18 13 20  7  0  4]\n",
      "romantic - [0 1]\n",
      "Walc - [1 3 2 4 5]\n",
      "Dalc - [1 2 5 3 4]\n",
      "goout - [4 3 2 1 5]\n",
      "Fedu - [4 1 2 3 0]\n"
     ]
    }
   ],
   "source": [
    "## map the address data\n",
    "categorical_b = {'U': 0, 'R': 1}\n",
    "data_dum['address'] = data_dum['address'].map(categorical_b)\n",
    "\n",
    "# map the family size data\n",
    "categorical_b = {'LE3': 0, 'GT3': 1}\n",
    "data_dum['famsize'] = data_dum['famsize'].map(categorical_b)\n",
    "\n",
    "# map the parent's status\n",
    "categorical_b= {'T': 0, 'A': 1}\n",
    "data_dum['Pstatus'] = data_dum['Pstatus'].map(categorical_b)\n",
    "\n",
    "# map the parent's job\n",
    "categorical_m = {'teacher': 1, 'health': 2, 'services': 3,'at_home': 4,'other': 5}\n",
    "data_dum['Mjob'] = data_dum['Mjob'].map(categorical_m)\n",
    "data_dum['Fjob'] = data_dum['Fjob'].map(categorical_m)\n",
    "\n",
    "# map the reason data\n",
    "categorical_m= {'home': 1, 'reputation': 2, 'course': 3,'other': 4}\n",
    "data_dum['reason'] = data_dum['reason'].map(categorical_m)\n",
    "\n",
    "# map the guardian data\n",
    "categorical_m = {'mother': 1, 'father': 2, 'other': 3}\n",
    "data_dum['guardian'] = data_dum['guardian'].map(categorical_m)\n",
    "\n",
    "\n",
    "# map the Mother's education data\n",
    "categorical_m = {0: 1, 1: 2, 2: 3, 3: 4, 4: 5}\n",
    "data_dum['Medu'] = data_dum['Medu'].map(categorical_m)\n",
    "\n",
    "\n",
    "# Dummy code 5 factor categorical variables \n",
    "df_dummies = pd.get_dummies(data_dum, prefix=['Mjob', 'Fjob', 'reason', 'guardian'], prefix_sep='.', \n",
    "                            columns=['Mjob', 'Fjob', 'reason', 'guardian'])\n",
    "# assign back to original dataframe\n",
    "data_dum=df_dummies\n",
    "\n",
    "########################################################\n",
    "# Feature selection process for notebook with G1 and G2# \n",
    "########################################################\n",
    "\n",
    "# Check the other files to see how we did feature selection (feature_selection, R_Boruta)\n",
    "# We mainly used the Boruta algorithm in R and multiple classic feature selection methods to choose the following variables\n",
    "data_dum=data_dum[[\"G2\",\"G1\",\"absences\",\"failures\",\"schoolsup\",\"higher\",\"age\",\"Medu\",\"guardian.2\",\"G3\",\"romantic\",\"Walc\",\"Dalc\",\"goout\",\"Fedu\"]]\n",
    "\n",
    "# print out the unique values of each column\n",
    "for col in data_dum.columns:\n",
    "    print(f\"{col} - {data_dum[col].unique()}\")"
   ]
  },
  {
   "cell_type": "markdown",
   "id": "337dcb9c",
   "metadata": {
    "cell_id": "00026-b90b34ec-62a2-45d4-910c-c8ea3c7ad650",
    "deepnote_cell_height": 70,
    "deepnote_cell_type": "markdown"
   },
   "source": [
    "## An Interactive correlation plot"
   ]
  },
  {
   "cell_type": "code",
   "execution_count": 73,
   "id": "94c2f72d",
   "metadata": {
    "cell_id": "00027-12d55348-332c-4474-a4c9-2f404af15227",
    "deepnote_cell_height": 1542.8125,
    "deepnote_cell_type": "code",
    "deepnote_output_heights": [
     527
    ],
    "deepnote_to_be_reexecuted": false,
    "execution_millis": 603,
    "execution_start": 1653340987070,
    "scrolled": true,
    "source_hash": "9ba82572"
   },
   "outputs": [
    {
     "data": {
      "application/vnd.plotly.v1+json": {
       "config": {
        "displayModeBar": false,
        "plotlyServerURL": "https://plot.ly"
       },
       "data": [
        {
         "colorscale": [
          [
           0,
           "rgb(165,0,38)"
          ],
          [
           0.1,
           "rgb(215,48,39)"
          ],
          [
           0.2,
           "rgb(244,109,67)"
          ],
          [
           0.3,
           "rgb(253,174,97)"
          ],
          [
           0.4,
           "rgb(254,224,139)"
          ],
          [
           0.5,
           "rgb(255,255,191)"
          ],
          [
           0.6,
           "rgb(217,239,139)"
          ],
          [
           0.7,
           "rgb(166,217,106)"
          ],
          [
           0.8,
           "rgb(102,189,99)"
          ],
          [
           0.9,
           "rgb(26,152,80)"
          ],
          [
           1,
           "rgb(0,104,55)"
          ]
         ],
         "type": "heatmap",
         "x": [
          "G2",
          "G1",
          "absences",
          "failures",
          "schoolsup",
          "higher",
          "age",
          "Medu",
          "guardian.2",
          "G3",
          "romantic",
          "Walc",
          "Dalc",
          "goout",
          "Fedu"
         ],
         "y": [
          "G2",
          "G1",
          "absences",
          "failures",
          "schoolsup",
          "higher",
          "age",
          "Medu",
          "guardian.2",
          "G3",
          "romantic",
          "Walc",
          "Dalc",
          "goout",
          "Fedu"
         ],
         "z": [
          [
           1,
           0.852118066364806,
           -0.031776703626707106,
           -0.35589563455257417,
           -0.117385017987391,
           0.17912921584266817,
           -0.1434740490354591,
           0.21552716763090254,
           0.06385872087764308,
           0.9048679892693002,
           -0.10585470587490683,
           -0.08492735257291,
           -0.06412018316253443,
           -0.16225003415973233,
           0.16489339339923353
          ],
          [
           0.852118066364806,
           1,
           -0.03100290094902834,
           -0.3547176130156349,
           -0.21260651009778345,
           0.17826403421417428,
           -0.06408149744707395,
           0.20534099673858736,
           0.03314197097558908,
           0.8014679320174145,
           -0.029501572074135445,
           -0.12617920803813457,
           -0.09415879189027287,
           -0.149103966787707,
           0.19026993555786864
          ],
          [
           -0.031776703626707106,
           -0.03100290094902834,
           1,
           0.06372583253905977,
           0.02252588825015057,
           -0.05608522679996929,
           0.1752300790460307,
           0.1002848176878228,
           -0.1176472145984132,
           0.03424731615006925,
           0.14279808725488682,
           0.13629110147995063,
           0.11190802615038611,
           0.04430222043248773,
           0.02447288701596906
          ],
          [
           -0.35589563455257417,
           -0.3547176130156349,
           0.06372583253905977,
           1,
           -0.0004374906768835413,
           -0.30031574127595917,
           0.2436653766417195,
           -0.23667996261654226,
           -0.041250326746326144,
           -0.3604149404616496,
           0.09109011571551694,
           0.14196202998571514,
           0.13604693121654635,
           0.12456092193402658,
           -0.2504084444567766
          ],
          [
           -0.117385017987391,
           -0.21260651009778345,
           0.02252588825015057,
           -0.0004374906768835413,
           1,
           0.05448601885061874,
           -0.25181089252439787,
           -0.03602947753014111,
           0.04283436863013822,
           -0.08278821499316352,
           -0.07687814253275659,
           -0.08715173838620668,
           -0.021485100042565954,
           -0.037698491200771456,
           0.037529649429853734
          ],
          [
           0.17912921584266817,
           0.17826403421417428,
           -0.05608522679996929,
           -0.30031574127595917,
           0.05448601885061874,
           1,
           -0.20908080658894854,
           0.16884453374475863,
           0.015332778955686615,
           0.1824646178581577,
           -0.0839863144563752,
           -0.10033961339145733,
           -0.06982806255250017,
           -0.03970049869222052,
           0.1745655202116473
          ],
          [
           -0.1434740490354591,
           -0.06408149744707395,
           0.1752300790460307,
           0.2436653766417195,
           -0.25181089252439787,
           -0.20908080658894854,
           1,
           -0.1636584189328153,
           -0.11204597416750113,
           -0.1615794381383403,
           0.15005190936367901,
           0.11727605242651365,
           0.13112460471754972,
           0.12696387964294487,
           -0.16343806892527832
          ],
          [
           0.21552716763090254,
           0.20534099673858736,
           0.1002848176878228,
           -0.23667996261654226,
           -0.03602947753014111,
           0.16884453374475863,
           -0.1636584189328153,
           1,
           -0.046608909914007936,
           0.21714749613860565,
           0.04229113755349683,
           -0.04712345969485113,
           0.019834098565639127,
           0.06409443819310276,
           0.6234551120806472
          ],
          [
           0.06385872087764308,
           0.03314197097558908,
           -0.1176472145984132,
           -0.041250326746326144,
           0.04283436863013822,
           0.015332778955686615,
           -0.11204597416750113,
           -0.046608909914007936,
           1,
           0.032493220399946676,
           -0.033656934865721654,
           0.022511808569193593,
           0.03194798408534275,
           -0.08032726636327343,
           0.11142239732848792
          ],
          [
           0.9048679892693002,
           0.8014679320174145,
           0.03424731615006925,
           -0.3604149404616496,
           -0.08278821499316352,
           0.1824646178581577,
           -0.1615794381383403,
           0.21714749613860565,
           0.032493220399946676,
           1,
           -0.12713804027608264,
           -0.05193932374224616,
           -0.05466004056673589,
           -0.13279147350332884,
           0.1524569389042589
          ],
          [
           -0.10585470587490683,
           -0.029501572074135445,
           0.14279808725488682,
           0.09109011571551694,
           -0.07687814253275659,
           -0.0839863144563752,
           0.15005190936367901,
           0.04229113755349683,
           -0.033656934865721654,
           -0.12713804027608264,
           1,
           -0.007741062860941335,
           0.021005239787181273,
           0.018646555637249543,
           0.020833290839241327
          ],
          [
           -0.08492735257291,
           -0.12617920803813457,
           0.13629110147995063,
           0.14196202998571514,
           -0.08715173838620668,
           -0.10033961339145733,
           0.11727605242651365,
           -0.04712345969485113,
           0.022511808569193593,
           -0.05193932374224616,
           -0.007741062860941335,
           1,
           0.6475442300180093,
           0.42038574547178853,
           -0.012631017946474313
          ],
          [
           -0.06412018316253443,
           -0.09415879189027287,
           0.11190802615038611,
           0.13604693121654635,
           -0.021485100042565954,
           -0.06982806255250017,
           0.13112460471754972,
           0.019834098565639127,
           0.03194798408534275,
           -0.05466004056673589,
           0.021005239787181273,
           0.6475442300180093,
           1,
           0.2669938480100155,
           0.002386429408145764
          ],
          [
           -0.16225003415973233,
           -0.149103966787707,
           0.04430222043248773,
           0.12456092193402658,
           -0.037698491200771456,
           -0.03970049869222052,
           0.12696387964294487,
           0.06409443819310276,
           -0.08032726636327343,
           -0.13279147350332884,
           0.018646555637249543,
           0.42038574547178853,
           0.2669938480100155,
           1,
           0.043104668369493546
          ],
          [
           0.16489339339923353,
           0.19026993555786864,
           0.02447288701596906,
           -0.2504084444567766,
           0.037529649429853734,
           0.1745655202116473,
           -0.16343806892527832,
           0.6234551120806472,
           0.11142239732848792,
           0.1524569389042589,
           0.020833290839241327,
           -0.012631017946474313,
           0.002386429408145764,
           0.043104668369493546,
           1
          ]
         ],
         "zmax": 1,
         "zmin": -1
        }
       ],
       "layout": {
        "font": {
         "color": "RebeccaPurple",
         "family": "sans-serif, sans-serif",
         "size": 18
        },
        "legend": {
         "title": {
          "text": "Legend Title"
         }
        },
        "margin": {
         "b": 0,
         "l": 0,
         "r": 0
        },
        "template": {
         "data": {
          "bar": [
           {
            "error_x": {
             "color": "#2a3f5f"
            },
            "error_y": {
             "color": "#2a3f5f"
            },
            "marker": {
             "line": {
              "color": "#E5ECF6",
              "width": 0.5
             },
             "pattern": {
              "fillmode": "overlay",
              "size": 10,
              "solidity": 0.2
             }
            },
            "type": "bar"
           }
          ],
          "barpolar": [
           {
            "marker": {
             "line": {
              "color": "#E5ECF6",
              "width": 0.5
             },
             "pattern": {
              "fillmode": "overlay",
              "size": 10,
              "solidity": 0.2
             }
            },
            "type": "barpolar"
           }
          ],
          "carpet": [
           {
            "aaxis": {
             "endlinecolor": "#2a3f5f",
             "gridcolor": "white",
             "linecolor": "white",
             "minorgridcolor": "white",
             "startlinecolor": "#2a3f5f"
            },
            "baxis": {
             "endlinecolor": "#2a3f5f",
             "gridcolor": "white",
             "linecolor": "white",
             "minorgridcolor": "white",
             "startlinecolor": "#2a3f5f"
            },
            "type": "carpet"
           }
          ],
          "choropleth": [
           {
            "colorbar": {
             "outlinewidth": 0,
             "ticks": ""
            },
            "type": "choropleth"
           }
          ],
          "contour": [
           {
            "colorbar": {
             "outlinewidth": 0,
             "ticks": ""
            },
            "colorscale": [
             [
              0,
              "#0d0887"
             ],
             [
              0.1111111111111111,
              "#46039f"
             ],
             [
              0.2222222222222222,
              "#7201a8"
             ],
             [
              0.3333333333333333,
              "#9c179e"
             ],
             [
              0.4444444444444444,
              "#bd3786"
             ],
             [
              0.5555555555555556,
              "#d8576b"
             ],
             [
              0.6666666666666666,
              "#ed7953"
             ],
             [
              0.7777777777777778,
              "#fb9f3a"
             ],
             [
              0.8888888888888888,
              "#fdca26"
             ],
             [
              1,
              "#f0f921"
             ]
            ],
            "type": "contour"
           }
          ],
          "contourcarpet": [
           {
            "colorbar": {
             "outlinewidth": 0,
             "ticks": ""
            },
            "type": "contourcarpet"
           }
          ],
          "heatmap": [
           {
            "colorbar": {
             "outlinewidth": 0,
             "ticks": ""
            },
            "colorscale": [
             [
              0,
              "#0d0887"
             ],
             [
              0.1111111111111111,
              "#46039f"
             ],
             [
              0.2222222222222222,
              "#7201a8"
             ],
             [
              0.3333333333333333,
              "#9c179e"
             ],
             [
              0.4444444444444444,
              "#bd3786"
             ],
             [
              0.5555555555555556,
              "#d8576b"
             ],
             [
              0.6666666666666666,
              "#ed7953"
             ],
             [
              0.7777777777777778,
              "#fb9f3a"
             ],
             [
              0.8888888888888888,
              "#fdca26"
             ],
             [
              1,
              "#f0f921"
             ]
            ],
            "type": "heatmap"
           }
          ],
          "heatmapgl": [
           {
            "colorbar": {
             "outlinewidth": 0,
             "ticks": ""
            },
            "colorscale": [
             [
              0,
              "#0d0887"
             ],
             [
              0.1111111111111111,
              "#46039f"
             ],
             [
              0.2222222222222222,
              "#7201a8"
             ],
             [
              0.3333333333333333,
              "#9c179e"
             ],
             [
              0.4444444444444444,
              "#bd3786"
             ],
             [
              0.5555555555555556,
              "#d8576b"
             ],
             [
              0.6666666666666666,
              "#ed7953"
             ],
             [
              0.7777777777777778,
              "#fb9f3a"
             ],
             [
              0.8888888888888888,
              "#fdca26"
             ],
             [
              1,
              "#f0f921"
             ]
            ],
            "type": "heatmapgl"
           }
          ],
          "histogram": [
           {
            "marker": {
             "pattern": {
              "fillmode": "overlay",
              "size": 10,
              "solidity": 0.2
             }
            },
            "type": "histogram"
           }
          ],
          "histogram2d": [
           {
            "colorbar": {
             "outlinewidth": 0,
             "ticks": ""
            },
            "colorscale": [
             [
              0,
              "#0d0887"
             ],
             [
              0.1111111111111111,
              "#46039f"
             ],
             [
              0.2222222222222222,
              "#7201a8"
             ],
             [
              0.3333333333333333,
              "#9c179e"
             ],
             [
              0.4444444444444444,
              "#bd3786"
             ],
             [
              0.5555555555555556,
              "#d8576b"
             ],
             [
              0.6666666666666666,
              "#ed7953"
             ],
             [
              0.7777777777777778,
              "#fb9f3a"
             ],
             [
              0.8888888888888888,
              "#fdca26"
             ],
             [
              1,
              "#f0f921"
             ]
            ],
            "type": "histogram2d"
           }
          ],
          "histogram2dcontour": [
           {
            "colorbar": {
             "outlinewidth": 0,
             "ticks": ""
            },
            "colorscale": [
             [
              0,
              "#0d0887"
             ],
             [
              0.1111111111111111,
              "#46039f"
             ],
             [
              0.2222222222222222,
              "#7201a8"
             ],
             [
              0.3333333333333333,
              "#9c179e"
             ],
             [
              0.4444444444444444,
              "#bd3786"
             ],
             [
              0.5555555555555556,
              "#d8576b"
             ],
             [
              0.6666666666666666,
              "#ed7953"
             ],
             [
              0.7777777777777778,
              "#fb9f3a"
             ],
             [
              0.8888888888888888,
              "#fdca26"
             ],
             [
              1,
              "#f0f921"
             ]
            ],
            "type": "histogram2dcontour"
           }
          ],
          "mesh3d": [
           {
            "colorbar": {
             "outlinewidth": 0,
             "ticks": ""
            },
            "type": "mesh3d"
           }
          ],
          "parcoords": [
           {
            "line": {
             "colorbar": {
              "outlinewidth": 0,
              "ticks": ""
             }
            },
            "type": "parcoords"
           }
          ],
          "pie": [
           {
            "automargin": true,
            "type": "pie"
           }
          ],
          "scatter": [
           {
            "fillpattern": {
             "fillmode": "overlay",
             "size": 10,
             "solidity": 0.2
            },
            "type": "scatter"
           }
          ],
          "scatter3d": [
           {
            "line": {
             "colorbar": {
              "outlinewidth": 0,
              "ticks": ""
             }
            },
            "marker": {
             "colorbar": {
              "outlinewidth": 0,
              "ticks": ""
             }
            },
            "type": "scatter3d"
           }
          ],
          "scattercarpet": [
           {
            "marker": {
             "colorbar": {
              "outlinewidth": 0,
              "ticks": ""
             }
            },
            "type": "scattercarpet"
           }
          ],
          "scattergeo": [
           {
            "marker": {
             "colorbar": {
              "outlinewidth": 0,
              "ticks": ""
             }
            },
            "type": "scattergeo"
           }
          ],
          "scattergl": [
           {
            "marker": {
             "colorbar": {
              "outlinewidth": 0,
              "ticks": ""
             }
            },
            "type": "scattergl"
           }
          ],
          "scattermapbox": [
           {
            "marker": {
             "colorbar": {
              "outlinewidth": 0,
              "ticks": ""
             }
            },
            "type": "scattermapbox"
           }
          ],
          "scatterpolar": [
           {
            "marker": {
             "colorbar": {
              "outlinewidth": 0,
              "ticks": ""
             }
            },
            "type": "scatterpolar"
           }
          ],
          "scatterpolargl": [
           {
            "marker": {
             "colorbar": {
              "outlinewidth": 0,
              "ticks": ""
             }
            },
            "type": "scatterpolargl"
           }
          ],
          "scatterternary": [
           {
            "marker": {
             "colorbar": {
              "outlinewidth": 0,
              "ticks": ""
             }
            },
            "type": "scatterternary"
           }
          ],
          "surface": [
           {
            "colorbar": {
             "outlinewidth": 0,
             "ticks": ""
            },
            "colorscale": [
             [
              0,
              "#0d0887"
             ],
             [
              0.1111111111111111,
              "#46039f"
             ],
             [
              0.2222222222222222,
              "#7201a8"
             ],
             [
              0.3333333333333333,
              "#9c179e"
             ],
             [
              0.4444444444444444,
              "#bd3786"
             ],
             [
              0.5555555555555556,
              "#d8576b"
             ],
             [
              0.6666666666666666,
              "#ed7953"
             ],
             [
              0.7777777777777778,
              "#fb9f3a"
             ],
             [
              0.8888888888888888,
              "#fdca26"
             ],
             [
              1,
              "#f0f921"
             ]
            ],
            "type": "surface"
           }
          ],
          "table": [
           {
            "cells": {
             "fill": {
              "color": "#EBF0F8"
             },
             "line": {
              "color": "white"
             }
            },
            "header": {
             "fill": {
              "color": "#C8D4E3"
             },
             "line": {
              "color": "white"
             }
            },
            "type": "table"
           }
          ]
         },
         "layout": {
          "annotationdefaults": {
           "arrowcolor": "#2a3f5f",
           "arrowhead": 0,
           "arrowwidth": 1
          },
          "autotypenumbers": "strict",
          "coloraxis": {
           "colorbar": {
            "outlinewidth": 0,
            "ticks": ""
           }
          },
          "colorscale": {
           "diverging": [
            [
             0,
             "#8e0152"
            ],
            [
             0.1,
             "#c51b7d"
            ],
            [
             0.2,
             "#de77ae"
            ],
            [
             0.3,
             "#f1b6da"
            ],
            [
             0.4,
             "#fde0ef"
            ],
            [
             0.5,
             "#f7f7f7"
            ],
            [
             0.6,
             "#e6f5d0"
            ],
            [
             0.7,
             "#b8e186"
            ],
            [
             0.8,
             "#7fbc41"
            ],
            [
             0.9,
             "#4d9221"
            ],
            [
             1,
             "#276419"
            ]
           ],
           "sequential": [
            [
             0,
             "#0d0887"
            ],
            [
             0.1111111111111111,
             "#46039f"
            ],
            [
             0.2222222222222222,
             "#7201a8"
            ],
            [
             0.3333333333333333,
             "#9c179e"
            ],
            [
             0.4444444444444444,
             "#bd3786"
            ],
            [
             0.5555555555555556,
             "#d8576b"
            ],
            [
             0.6666666666666666,
             "#ed7953"
            ],
            [
             0.7777777777777778,
             "#fb9f3a"
            ],
            [
             0.8888888888888888,
             "#fdca26"
            ],
            [
             1,
             "#f0f921"
            ]
           ],
           "sequentialminus": [
            [
             0,
             "#0d0887"
            ],
            [
             0.1111111111111111,
             "#46039f"
            ],
            [
             0.2222222222222222,
             "#7201a8"
            ],
            [
             0.3333333333333333,
             "#9c179e"
            ],
            [
             0.4444444444444444,
             "#bd3786"
            ],
            [
             0.5555555555555556,
             "#d8576b"
            ],
            [
             0.6666666666666666,
             "#ed7953"
            ],
            [
             0.7777777777777778,
             "#fb9f3a"
            ],
            [
             0.8888888888888888,
             "#fdca26"
            ],
            [
             1,
             "#f0f921"
            ]
           ]
          },
          "colorway": [
           "#636efa",
           "#EF553B",
           "#00cc96",
           "#ab63fa",
           "#FFA15A",
           "#19d3f3",
           "#FF6692",
           "#B6E880",
           "#FF97FF",
           "#FECB52"
          ],
          "font": {
           "color": "#2a3f5f"
          },
          "geo": {
           "bgcolor": "white",
           "lakecolor": "white",
           "landcolor": "#E5ECF6",
           "showlakes": true,
           "showland": true,
           "subunitcolor": "white"
          },
          "hoverlabel": {
           "align": "left"
          },
          "hovermode": "closest",
          "mapbox": {
           "style": "light"
          },
          "paper_bgcolor": "white",
          "plot_bgcolor": "#E5ECF6",
          "polar": {
           "angularaxis": {
            "gridcolor": "white",
            "linecolor": "white",
            "ticks": ""
           },
           "bgcolor": "#E5ECF6",
           "radialaxis": {
            "gridcolor": "white",
            "linecolor": "white",
            "ticks": ""
           }
          },
          "scene": {
           "xaxis": {
            "backgroundcolor": "#E5ECF6",
            "gridcolor": "white",
            "gridwidth": 2,
            "linecolor": "white",
            "showbackground": true,
            "ticks": "",
            "zerolinecolor": "white"
           },
           "yaxis": {
            "backgroundcolor": "#E5ECF6",
            "gridcolor": "white",
            "gridwidth": 2,
            "linecolor": "white",
            "showbackground": true,
            "ticks": "",
            "zerolinecolor": "white"
           },
           "zaxis": {
            "backgroundcolor": "#E5ECF6",
            "gridcolor": "white",
            "gridwidth": 2,
            "linecolor": "white",
            "showbackground": true,
            "ticks": "",
            "zerolinecolor": "white"
           }
          },
          "shapedefaults": {
           "line": {
            "color": "#2a3f5f"
           }
          },
          "ternary": {
           "aaxis": {
            "gridcolor": "white",
            "linecolor": "white",
            "ticks": ""
           },
           "baxis": {
            "gridcolor": "white",
            "linecolor": "white",
            "ticks": ""
           },
           "bgcolor": "#E5ECF6",
           "caxis": {
            "gridcolor": "white",
            "linecolor": "white",
            "ticks": ""
           }
          },
          "title": {
           "x": 0.05
          },
          "xaxis": {
           "automargin": true,
           "gridcolor": "white",
           "linecolor": "white",
           "ticks": "",
           "title": {
            "standoff": 15
           },
           "zerolinecolor": "white",
           "zerolinewidth": 2
          },
          "yaxis": {
           "automargin": true,
           "gridcolor": "white",
           "linecolor": "white",
           "ticks": "",
           "title": {
            "standoff": 15
           },
           "zerolinecolor": "white",
           "zerolinewidth": 2
          }
         }
        },
        "title": {
         "text": "Interactive Correlation Plot"
        }
       }
      },
      "text/html": [
       "<div>                            <div id=\"5fb1e64e-b6ff-4010-a1cb-8e90bdf4c216\" class=\"plotly-graph-div\" style=\"height:525px; width:100%;\"></div>            <script type=\"text/javascript\">                require([\"plotly\"], function(Plotly) {                    window.PLOTLYENV=window.PLOTLYENV || {};                                    if (document.getElementById(\"5fb1e64e-b6ff-4010-a1cb-8e90bdf4c216\")) {                    Plotly.newPlot(                        \"5fb1e64e-b6ff-4010-a1cb-8e90bdf4c216\",                        [{\"colorscale\":[[0.0,\"rgb(165,0,38)\"],[0.1,\"rgb(215,48,39)\"],[0.2,\"rgb(244,109,67)\"],[0.3,\"rgb(253,174,97)\"],[0.4,\"rgb(254,224,139)\"],[0.5,\"rgb(255,255,191)\"],[0.6,\"rgb(217,239,139)\"],[0.7,\"rgb(166,217,106)\"],[0.8,\"rgb(102,189,99)\"],[0.9,\"rgb(26,152,80)\"],[1.0,\"rgb(0,104,55)\"]],\"x\":[\"G2\",\"G1\",\"absences\",\"failures\",\"schoolsup\",\"higher\",\"age\",\"Medu\",\"guardian.2\",\"G3\",\"romantic\",\"Walc\",\"Dalc\",\"goout\",\"Fedu\"],\"y\":[\"G2\",\"G1\",\"absences\",\"failures\",\"schoolsup\",\"higher\",\"age\",\"Medu\",\"guardian.2\",\"G3\",\"romantic\",\"Walc\",\"Dalc\",\"goout\",\"Fedu\"],\"z\":[[1.0,0.852118066364806,-0.031776703626707106,-0.35589563455257417,-0.117385017987391,0.17912921584266817,-0.1434740490354591,0.21552716763090254,0.06385872087764308,0.9048679892693002,-0.10585470587490683,-0.08492735257291,-0.06412018316253443,-0.16225003415973233,0.16489339339923353],[0.852118066364806,1.0,-0.03100290094902834,-0.3547176130156349,-0.21260651009778345,0.17826403421417428,-0.06408149744707395,0.20534099673858736,0.03314197097558908,0.8014679320174145,-0.029501572074135445,-0.12617920803813457,-0.09415879189027287,-0.149103966787707,0.19026993555786864],[-0.031776703626707106,-0.03100290094902834,1.0,0.06372583253905977,0.02252588825015057,-0.05608522679996929,0.1752300790460307,0.1002848176878228,-0.1176472145984132,0.03424731615006925,0.14279808725488682,0.13629110147995063,0.11190802615038611,0.04430222043248773,0.02447288701596906],[-0.35589563455257417,-0.3547176130156349,0.06372583253905977,1.0,-0.0004374906768835413,-0.30031574127595917,0.2436653766417195,-0.23667996261654226,-0.041250326746326144,-0.3604149404616496,0.09109011571551694,0.14196202998571514,0.13604693121654635,0.12456092193402658,-0.2504084444567766],[-0.117385017987391,-0.21260651009778345,0.02252588825015057,-0.0004374906768835413,1.0,0.05448601885061874,-0.25181089252439787,-0.03602947753014111,0.04283436863013822,-0.08278821499316352,-0.07687814253275659,-0.08715173838620668,-0.021485100042565954,-0.037698491200771456,0.037529649429853734],[0.17912921584266817,0.17826403421417428,-0.05608522679996929,-0.30031574127595917,0.05448601885061874,1.0,-0.20908080658894854,0.16884453374475863,0.015332778955686615,0.1824646178581577,-0.0839863144563752,-0.10033961339145733,-0.06982806255250017,-0.03970049869222052,0.1745655202116473],[-0.1434740490354591,-0.06408149744707395,0.1752300790460307,0.2436653766417195,-0.25181089252439787,-0.20908080658894854,1.0,-0.1636584189328153,-0.11204597416750113,-0.1615794381383403,0.15005190936367901,0.11727605242651365,0.13112460471754972,0.12696387964294487,-0.16343806892527832],[0.21552716763090254,0.20534099673858736,0.1002848176878228,-0.23667996261654226,-0.03602947753014111,0.16884453374475863,-0.1636584189328153,1.0,-0.046608909914007936,0.21714749613860565,0.04229113755349683,-0.04712345969485113,0.019834098565639127,0.06409443819310276,0.6234551120806472],[0.06385872087764308,0.03314197097558908,-0.1176472145984132,-0.041250326746326144,0.04283436863013822,0.015332778955686615,-0.11204597416750113,-0.046608909914007936,1.0,0.032493220399946676,-0.033656934865721654,0.022511808569193593,0.03194798408534275,-0.08032726636327343,0.11142239732848792],[0.9048679892693002,0.8014679320174145,0.03424731615006925,-0.3604149404616496,-0.08278821499316352,0.1824646178581577,-0.1615794381383403,0.21714749613860565,0.032493220399946676,1.0,-0.12713804027608264,-0.05193932374224616,-0.05466004056673589,-0.13279147350332884,0.1524569389042589],[-0.10585470587490683,-0.029501572074135445,0.14279808725488682,0.09109011571551694,-0.07687814253275659,-0.0839863144563752,0.15005190936367901,0.04229113755349683,-0.033656934865721654,-0.12713804027608264,1.0,-0.007741062860941335,0.021005239787181273,0.018646555637249543,0.020833290839241327],[-0.08492735257291,-0.12617920803813457,0.13629110147995063,0.14196202998571514,-0.08715173838620668,-0.10033961339145733,0.11727605242651365,-0.04712345969485113,0.022511808569193593,-0.05193932374224616,-0.007741062860941335,1.0,0.6475442300180093,0.42038574547178853,-0.012631017946474313],[-0.06412018316253443,-0.09415879189027287,0.11190802615038611,0.13604693121654635,-0.021485100042565954,-0.06982806255250017,0.13112460471754972,0.019834098565639127,0.03194798408534275,-0.05466004056673589,0.021005239787181273,0.6475442300180093,1.0,0.2669938480100155,0.002386429408145764],[-0.16225003415973233,-0.149103966787707,0.04430222043248773,0.12456092193402658,-0.037698491200771456,-0.03970049869222052,0.12696387964294487,0.06409443819310276,-0.08032726636327343,-0.13279147350332884,0.018646555637249543,0.42038574547178853,0.2669938480100155,1.0,0.043104668369493546],[0.16489339339923353,0.19026993555786864,0.02447288701596906,-0.2504084444567766,0.037529649429853734,0.1745655202116473,-0.16343806892527832,0.6234551120806472,0.11142239732848792,0.1524569389042589,0.020833290839241327,-0.012631017946474313,0.002386429408145764,0.043104668369493546,1.0]],\"zmax\":1,\"zmin\":-1,\"type\":\"heatmap\"}],                        {\"template\":{\"data\":{\"histogram2dcontour\":[{\"type\":\"histogram2dcontour\",\"colorbar\":{\"outlinewidth\":0,\"ticks\":\"\"},\"colorscale\":[[0.0,\"#0d0887\"],[0.1111111111111111,\"#46039f\"],[0.2222222222222222,\"#7201a8\"],[0.3333333333333333,\"#9c179e\"],[0.4444444444444444,\"#bd3786\"],[0.5555555555555556,\"#d8576b\"],[0.6666666666666666,\"#ed7953\"],[0.7777777777777778,\"#fb9f3a\"],[0.8888888888888888,\"#fdca26\"],[1.0,\"#f0f921\"]]}],\"choropleth\":[{\"type\":\"choropleth\",\"colorbar\":{\"outlinewidth\":0,\"ticks\":\"\"}}],\"histogram2d\":[{\"type\":\"histogram2d\",\"colorbar\":{\"outlinewidth\":0,\"ticks\":\"\"},\"colorscale\":[[0.0,\"#0d0887\"],[0.1111111111111111,\"#46039f\"],[0.2222222222222222,\"#7201a8\"],[0.3333333333333333,\"#9c179e\"],[0.4444444444444444,\"#bd3786\"],[0.5555555555555556,\"#d8576b\"],[0.6666666666666666,\"#ed7953\"],[0.7777777777777778,\"#fb9f3a\"],[0.8888888888888888,\"#fdca26\"],[1.0,\"#f0f921\"]]}],\"heatmap\":[{\"type\":\"heatmap\",\"colorbar\":{\"outlinewidth\":0,\"ticks\":\"\"},\"colorscale\":[[0.0,\"#0d0887\"],[0.1111111111111111,\"#46039f\"],[0.2222222222222222,\"#7201a8\"],[0.3333333333333333,\"#9c179e\"],[0.4444444444444444,\"#bd3786\"],[0.5555555555555556,\"#d8576b\"],[0.6666666666666666,\"#ed7953\"],[0.7777777777777778,\"#fb9f3a\"],[0.8888888888888888,\"#fdca26\"],[1.0,\"#f0f921\"]]}],\"heatmapgl\":[{\"type\":\"heatmapgl\",\"colorbar\":{\"outlinewidth\":0,\"ticks\":\"\"},\"colorscale\":[[0.0,\"#0d0887\"],[0.1111111111111111,\"#46039f\"],[0.2222222222222222,\"#7201a8\"],[0.3333333333333333,\"#9c179e\"],[0.4444444444444444,\"#bd3786\"],[0.5555555555555556,\"#d8576b\"],[0.6666666666666666,\"#ed7953\"],[0.7777777777777778,\"#fb9f3a\"],[0.8888888888888888,\"#fdca26\"],[1.0,\"#f0f921\"]]}],\"contourcarpet\":[{\"type\":\"contourcarpet\",\"colorbar\":{\"outlinewidth\":0,\"ticks\":\"\"}}],\"contour\":[{\"type\":\"contour\",\"colorbar\":{\"outlinewidth\":0,\"ticks\":\"\"},\"colorscale\":[[0.0,\"#0d0887\"],[0.1111111111111111,\"#46039f\"],[0.2222222222222222,\"#7201a8\"],[0.3333333333333333,\"#9c179e\"],[0.4444444444444444,\"#bd3786\"],[0.5555555555555556,\"#d8576b\"],[0.6666666666666666,\"#ed7953\"],[0.7777777777777778,\"#fb9f3a\"],[0.8888888888888888,\"#fdca26\"],[1.0,\"#f0f921\"]]}],\"surface\":[{\"type\":\"surface\",\"colorbar\":{\"outlinewidth\":0,\"ticks\":\"\"},\"colorscale\":[[0.0,\"#0d0887\"],[0.1111111111111111,\"#46039f\"],[0.2222222222222222,\"#7201a8\"],[0.3333333333333333,\"#9c179e\"],[0.4444444444444444,\"#bd3786\"],[0.5555555555555556,\"#d8576b\"],[0.6666666666666666,\"#ed7953\"],[0.7777777777777778,\"#fb9f3a\"],[0.8888888888888888,\"#fdca26\"],[1.0,\"#f0f921\"]]}],\"mesh3d\":[{\"type\":\"mesh3d\",\"colorbar\":{\"outlinewidth\":0,\"ticks\":\"\"}}],\"scatter\":[{\"fillpattern\":{\"fillmode\":\"overlay\",\"size\":10,\"solidity\":0.2},\"type\":\"scatter\"}],\"parcoords\":[{\"type\":\"parcoords\",\"line\":{\"colorbar\":{\"outlinewidth\":0,\"ticks\":\"\"}}}],\"scatterpolargl\":[{\"type\":\"scatterpolargl\",\"marker\":{\"colorbar\":{\"outlinewidth\":0,\"ticks\":\"\"}}}],\"bar\":[{\"error_x\":{\"color\":\"#2a3f5f\"},\"error_y\":{\"color\":\"#2a3f5f\"},\"marker\":{\"line\":{\"color\":\"#E5ECF6\",\"width\":0.5},\"pattern\":{\"fillmode\":\"overlay\",\"size\":10,\"solidity\":0.2}},\"type\":\"bar\"}],\"scattergeo\":[{\"type\":\"scattergeo\",\"marker\":{\"colorbar\":{\"outlinewidth\":0,\"ticks\":\"\"}}}],\"scatterpolar\":[{\"type\":\"scatterpolar\",\"marker\":{\"colorbar\":{\"outlinewidth\":0,\"ticks\":\"\"}}}],\"histogram\":[{\"marker\":{\"pattern\":{\"fillmode\":\"overlay\",\"size\":10,\"solidity\":0.2}},\"type\":\"histogram\"}],\"scattergl\":[{\"type\":\"scattergl\",\"marker\":{\"colorbar\":{\"outlinewidth\":0,\"ticks\":\"\"}}}],\"scatter3d\":[{\"type\":\"scatter3d\",\"line\":{\"colorbar\":{\"outlinewidth\":0,\"ticks\":\"\"}},\"marker\":{\"colorbar\":{\"outlinewidth\":0,\"ticks\":\"\"}}}],\"scattermapbox\":[{\"type\":\"scattermapbox\",\"marker\":{\"colorbar\":{\"outlinewidth\":0,\"ticks\":\"\"}}}],\"scatterternary\":[{\"type\":\"scatterternary\",\"marker\":{\"colorbar\":{\"outlinewidth\":0,\"ticks\":\"\"}}}],\"scattercarpet\":[{\"type\":\"scattercarpet\",\"marker\":{\"colorbar\":{\"outlinewidth\":0,\"ticks\":\"\"}}}],\"carpet\":[{\"aaxis\":{\"endlinecolor\":\"#2a3f5f\",\"gridcolor\":\"white\",\"linecolor\":\"white\",\"minorgridcolor\":\"white\",\"startlinecolor\":\"#2a3f5f\"},\"baxis\":{\"endlinecolor\":\"#2a3f5f\",\"gridcolor\":\"white\",\"linecolor\":\"white\",\"minorgridcolor\":\"white\",\"startlinecolor\":\"#2a3f5f\"},\"type\":\"carpet\"}],\"table\":[{\"cells\":{\"fill\":{\"color\":\"#EBF0F8\"},\"line\":{\"color\":\"white\"}},\"header\":{\"fill\":{\"color\":\"#C8D4E3\"},\"line\":{\"color\":\"white\"}},\"type\":\"table\"}],\"barpolar\":[{\"marker\":{\"line\":{\"color\":\"#E5ECF6\",\"width\":0.5},\"pattern\":{\"fillmode\":\"overlay\",\"size\":10,\"solidity\":0.2}},\"type\":\"barpolar\"}],\"pie\":[{\"automargin\":true,\"type\":\"pie\"}]},\"layout\":{\"autotypenumbers\":\"strict\",\"colorway\":[\"#636efa\",\"#EF553B\",\"#00cc96\",\"#ab63fa\",\"#FFA15A\",\"#19d3f3\",\"#FF6692\",\"#B6E880\",\"#FF97FF\",\"#FECB52\"],\"font\":{\"color\":\"#2a3f5f\"},\"hovermode\":\"closest\",\"hoverlabel\":{\"align\":\"left\"},\"paper_bgcolor\":\"white\",\"plot_bgcolor\":\"#E5ECF6\",\"polar\":{\"bgcolor\":\"#E5ECF6\",\"angularaxis\":{\"gridcolor\":\"white\",\"linecolor\":\"white\",\"ticks\":\"\"},\"radialaxis\":{\"gridcolor\":\"white\",\"linecolor\":\"white\",\"ticks\":\"\"}},\"ternary\":{\"bgcolor\":\"#E5ECF6\",\"aaxis\":{\"gridcolor\":\"white\",\"linecolor\":\"white\",\"ticks\":\"\"},\"baxis\":{\"gridcolor\":\"white\",\"linecolor\":\"white\",\"ticks\":\"\"},\"caxis\":{\"gridcolor\":\"white\",\"linecolor\":\"white\",\"ticks\":\"\"}},\"coloraxis\":{\"colorbar\":{\"outlinewidth\":0,\"ticks\":\"\"}},\"colorscale\":{\"sequential\":[[0.0,\"#0d0887\"],[0.1111111111111111,\"#46039f\"],[0.2222222222222222,\"#7201a8\"],[0.3333333333333333,\"#9c179e\"],[0.4444444444444444,\"#bd3786\"],[0.5555555555555556,\"#d8576b\"],[0.6666666666666666,\"#ed7953\"],[0.7777777777777778,\"#fb9f3a\"],[0.8888888888888888,\"#fdca26\"],[1.0,\"#f0f921\"]],\"sequentialminus\":[[0.0,\"#0d0887\"],[0.1111111111111111,\"#46039f\"],[0.2222222222222222,\"#7201a8\"],[0.3333333333333333,\"#9c179e\"],[0.4444444444444444,\"#bd3786\"],[0.5555555555555556,\"#d8576b\"],[0.6666666666666666,\"#ed7953\"],[0.7777777777777778,\"#fb9f3a\"],[0.8888888888888888,\"#fdca26\"],[1.0,\"#f0f921\"]],\"diverging\":[[0,\"#8e0152\"],[0.1,\"#c51b7d\"],[0.2,\"#de77ae\"],[0.3,\"#f1b6da\"],[0.4,\"#fde0ef\"],[0.5,\"#f7f7f7\"],[0.6,\"#e6f5d0\"],[0.7,\"#b8e186\"],[0.8,\"#7fbc41\"],[0.9,\"#4d9221\"],[1,\"#276419\"]]},\"xaxis\":{\"gridcolor\":\"white\",\"linecolor\":\"white\",\"ticks\":\"\",\"title\":{\"standoff\":15},\"zerolinecolor\":\"white\",\"automargin\":true,\"zerolinewidth\":2},\"yaxis\":{\"gridcolor\":\"white\",\"linecolor\":\"white\",\"ticks\":\"\",\"title\":{\"standoff\":15},\"zerolinecolor\":\"white\",\"automargin\":true,\"zerolinewidth\":2},\"scene\":{\"xaxis\":{\"backgroundcolor\":\"#E5ECF6\",\"gridcolor\":\"white\",\"linecolor\":\"white\",\"showbackground\":true,\"ticks\":\"\",\"zerolinecolor\":\"white\",\"gridwidth\":2},\"yaxis\":{\"backgroundcolor\":\"#E5ECF6\",\"gridcolor\":\"white\",\"linecolor\":\"white\",\"showbackground\":true,\"ticks\":\"\",\"zerolinecolor\":\"white\",\"gridwidth\":2},\"zaxis\":{\"backgroundcolor\":\"#E5ECF6\",\"gridcolor\":\"white\",\"linecolor\":\"white\",\"showbackground\":true,\"ticks\":\"\",\"zerolinecolor\":\"white\",\"gridwidth\":2}},\"shapedefaults\":{\"line\":{\"color\":\"#2a3f5f\"}},\"annotationdefaults\":{\"arrowcolor\":\"#2a3f5f\",\"arrowhead\":0,\"arrowwidth\":1},\"geo\":{\"bgcolor\":\"white\",\"landcolor\":\"#E5ECF6\",\"subunitcolor\":\"white\",\"showland\":true,\"showlakes\":true,\"lakecolor\":\"white\"},\"title\":{\"x\":0.05},\"mapbox\":{\"style\":\"light\"}}},\"font\":{\"family\":\"sans-serif, sans-serif\",\"size\":18,\"color\":\"RebeccaPurple\"},\"margin\":{\"l\":0,\"r\":0,\"b\":0},\"title\":{\"text\":\"Interactive Correlation Plot\"},\"legend\":{\"title\":{\"text\":\"Legend Title\"}}},                        {\"displayModeBar\": false, \"responsive\": true}                    ).then(function(){\n",
       "                            \n",
       "var gd = document.getElementById('5fb1e64e-b6ff-4010-a1cb-8e90bdf4c216');\n",
       "var x = new MutationObserver(function (mutations, observer) {{\n",
       "        var display = window.getComputedStyle(gd).display;\n",
       "        if (!display || display === 'none') {{\n",
       "            console.log([gd, 'removed!']);\n",
       "            Plotly.purge(gd);\n",
       "            observer.disconnect();\n",
       "        }}\n",
       "}});\n",
       "\n",
       "// Listen for the removal of the full notebook cells\n",
       "var notebookContainer = gd.closest('#notebook-container');\n",
       "if (notebookContainer) {{\n",
       "    x.observe(notebookContainer, {childList: true});\n",
       "}}\n",
       "\n",
       "// Listen for the clearing of the current output cell\n",
       "var outputEl = gd.closest('.output');\n",
       "if (outputEl) {{\n",
       "    x.observe(outputEl, {childList: true});\n",
       "}}\n",
       "\n",
       "                        })                };                });            </script>        </div>"
      ]
     },
     "metadata": {},
     "output_type": "display_data"
    },
    {
     "name": "stdout",
     "output_type": "stream",
     "text": [
      "G3            1.000000\n",
      "G2            0.904868\n",
      "G1            0.801468\n",
      "Medu          0.217147\n",
      "higher        0.182465\n",
      "Fedu          0.152457\n",
      "absences      0.034247\n",
      "guardian.2    0.032493\n",
      "Walc         -0.051939\n",
      "Dalc         -0.054660\n",
      "schoolsup    -0.082788\n",
      "romantic     -0.127138\n",
      "goout        -0.132791\n",
      "age          -0.161579\n",
      "failures     -0.360415\n",
      "Name: G3, dtype: float64\n",
      "(395, 15)\n"
     ]
    }
   ],
   "source": [
    "# Visualize correlation with a heatmap\n",
    "df_corr = data_dum.corr(method='pearson')             # Choose correlation method\n",
    "\n",
    "fig = go.Figure(\n",
    "    go.Heatmap(\n",
    "        z = df_corr.values.tolist(),            # Set z values (list of numbers)\n",
    "        x = df_corr.columns,                    # Set x values (list of strings)\n",
    "        y = df_corr.columns,                    # Set y values (list of strings)\n",
    "        colorscale = 'rdylgn',                  # Set the color scale\n",
    "        zmin = -1,                              # Set min value\n",
    "        zmax = 1                                # Set max value\n",
    "    ),\n",
    ")\n",
    "\n",
    "fig.update_layout(\n",
    "    title = \"Interactive Correlation Plot\",     # Set title of plot\n",
    "     #xaxis_title = \"X Axis Title\",             # Set title of x axis \n",
    "     #yaxis_title = \"Y Axis Title\",             # Set title of y axis\n",
    "    legend_title = \"Legend Title\",              # Set title of legend\n",
    "    font = dict(\n",
    "        family = \"sans-serif, sans-serif\",      # Set font and default font\n",
    "        size = 18,                              # Set font size\n",
    "        color = \"RebeccaPurple\"                 # Set font color\n",
    "    ),\n",
    "    margin = dict(l=0, r=0, b=0)\n",
    ")\n",
    "\n",
    "fig.show(config = {\"displayModeBar\": False})\n",
    "\n",
    "new_corr = data_dum.corr()\n",
    "print(new_corr['G3'].sort_values(ascending=False))\n",
    "print(data_dum.shape)"
   ]
  },
  {
   "cell_type": "code",
   "execution_count": 74,
   "id": "3d64666f",
   "metadata": {},
   "outputs": [],
   "source": [
    "import warnings\n",
    "warnings.filterwarnings(\"ignore\")"
   ]
  },
  {
   "cell_type": "markdown",
   "id": "b6efc808",
   "metadata": {
    "cell_id": "00028-4dab0e63-d5d7-4ad1-9d15-06355e959f64",
    "deepnote_cell_height": 88.390625,
    "deepnote_cell_type": "markdown"
   },
   "source": [
    "#### We note the strong linear relationship between G1, G2, G3 and additionally between Walc and Dalc\n",
    "\n",
    "*Note: We do not deal with the problem of multicollinearity because we have observed no extra benefits when trying to do so"
   ]
  },
  {
   "cell_type": "markdown",
   "id": "086d64d6",
   "metadata": {
    "cell_id": "00029-342ffcc5-11dc-44bb-9ed7-c896dcb4db6a",
    "deepnote_cell_height": 70,
    "deepnote_cell_type": "markdown"
   },
   "source": [
    "## Building Models"
   ]
  },
  {
   "cell_type": "code",
   "execution_count": 75,
   "id": "8f9ab2ba",
   "metadata": {
    "cell_id": "00030-7e76b082-f64d-460c-87c4-d5445dddc7af",
    "deepnote_cell_height": 189,
    "deepnote_cell_type": "code",
    "deepnote_to_be_reexecuted": false,
    "execution_millis": 1,
    "execution_start": 1653340987719,
    "source_hash": "e6042b8f"
   },
   "outputs": [],
   "source": [
    "# making a copy of the clean dataframe\n",
    "newdf=data_dum\n",
    "\n",
    "#splitting the target variable\n",
    "x=data_dum.drop(\"G3\",axis=1)\n",
    "y=data_dum['G3']\n"
   ]
  },
  {
   "cell_type": "markdown",
   "id": "bca4266f",
   "metadata": {
    "cell_id": "00031-65c09d6d-4a19-44f6-a03b-2445e3c122c4",
    "deepnote_cell_height": 62,
    "deepnote_cell_type": "markdown"
   },
   "source": [
    "### Linear Regression"
   ]
  },
  {
   "cell_type": "code",
   "execution_count": 76,
   "id": "ce3fb846",
   "metadata": {
    "cell_id": "00032-51abb7d5-cf87-44db-a963-e32aba17a7bf",
    "deepnote_cell_height": 1205,
    "deepnote_cell_type": "code",
    "deepnote_to_be_reexecuted": false,
    "execution_millis": 8748,
    "execution_start": 1653340987745,
    "source_hash": "97166a8c"
   },
   "outputs": [
    {
     "name": "stdout",
     "output_type": "stream",
     "text": [
      "                            OLS Regression Results                            \n",
      "==============================================================================\n",
      "Dep. Variable:                     G3   R-squared:                       0.773\n",
      "Model:                            OLS   Adj. R-squared:                  0.763\n",
      "Method:                 Least Squares   F-statistic:                     73.28\n",
      "Date:                Fri, 03 Jun 2022   Prob (F-statistic):           4.34e-88\n",
      "Time:                        14:51:35   Log-Likelihood:                -691.81\n",
      "No. Observations:                 316   AIC:                             1414.\n",
      "Df Residuals:                     301   BIC:                             1470.\n",
      "Df Model:                          14                                         \n",
      "Covariance Type:            nonrobust                                         \n",
      "==============================================================================\n",
      "                 coef    std err          t      P>|t|      [0.025      0.975]\n",
      "------------------------------------------------------------------------------\n",
      "const         10.3576      0.125     83.174      0.000      10.113      10.603\n",
      "G2             1.8376      0.177     10.398      0.000       1.490       2.185\n",
      "G1             2.3104      0.180     12.821      0.000       1.956       2.665\n",
      "absences       0.6070      0.134      4.541      0.000       0.344       0.870\n",
      "failures      -0.0458      0.148     -0.309      0.757      -0.337       0.245\n",
      "schoolsup     -0.0367      0.136     -0.270      0.788      -0.305       0.231\n",
      "higher        -0.0158      0.135     -0.117      0.907      -0.282       0.250\n",
      "age           -0.5002      0.140     -3.569      0.000      -0.776      -0.224\n",
      "Medu           0.1789      0.169      1.056      0.292      -0.154       0.512\n",
      "guardian.2    -0.0703      0.130     -0.540      0.590      -0.327       0.186\n",
      "romantic      -0.2452      0.130     -1.883      0.061      -0.501       0.011\n",
      "Walc           0.0387      0.176      0.220      0.826      -0.308       0.385\n",
      "Dalc          -0.1751      0.168     -1.043      0.298      -0.506       0.155\n",
      "goout          0.1614      0.137      1.176      0.240      -0.109       0.431\n",
      "Fedu          -0.1220      0.165     -0.739      0.461      -0.447       0.203\n",
      "==============================================================================\n",
      "Omnibus:                       85.835   Durbin-Watson:                   1.924\n",
      "Prob(Omnibus):                  0.000   Jarque-Bera (JB):              247.306\n",
      "Skew:                          -1.227   Prob(JB):                     1.99e-54\n",
      "Kurtosis:                       6.572   Cond. No.                         3.12\n",
      "==============================================================================\n",
      "\n",
      "Notes:\n",
      "[1] Standard Errors assume that the covariance matrix of the errors is correctly specified.\n"
     ]
    }
   ],
   "source": [
    "#!pip install statsmodels\n",
    "from sklearn.preprocessing import StandardScaler\n",
    "from sklearn.model_selection import train_test_split\n",
    "import statsmodels.api as sm\n",
    "\n",
    "# Log Transform (+1 to take care of when x is 0)\n",
    "x = np.log(x+1)\n",
    "\n",
    "#our train test split\n",
    "X_train, X_test, y_train, y_test = train_test_split(x,y, test_size = 0.20, random_state=44)\n",
    "\n",
    "# than we scale the data using StandardScaler()\n",
    "sc = StandardScaler()\n",
    "X_train = sc.fit_transform(X_train)\n",
    "X_test = sc.transform(X_test)\n",
    "\n",
    "# with statsmodels\n",
    "\n",
    "X_train = sm.add_constant(X_train) # adding a constant\n",
    "X_test = sm.add_constant(X_test) # adding a constant\n",
    "\n",
    "model = sm.OLS(y_train,X_train).fit()\n",
    "predictions = model.predict(X_test)\n",
    "\n",
    "x = sm.add_constant(x)\n",
    "print_model = model.summary(xname=list(x.columns.values.tolist()))\n",
    "print(print_model)\n",
    "x.drop('const', inplace=True, axis=1)\n"
   ]
  },
  {
   "cell_type": "markdown",
   "id": "31f006b1",
   "metadata": {
    "cell_id": "00033-35dbfc89-b964-4cc8-9706-61322a654c79",
    "deepnote_cell_height": 78,
    "deepnote_cell_type": "markdown"
   },
   "source": [
    "#### We got an adjusted R^2 of 0.729 and we note that the significant variables are G1, G2, absences, age and romatic comes close (assuming alpha values of 0.05 )."
   ]
  },
  {
   "cell_type": "markdown",
   "id": "ec0b7d08",
   "metadata": {
    "cell_id": "00034-8ae0cb4e-3ee9-4a14-801e-7d0848d4d846",
    "deepnote_cell_height": 102,
    "deepnote_cell_type": "markdown"
   },
   "source": [
    "### Lasso Regression \n",
    "#### Lets try out another linear model "
   ]
  },
  {
   "cell_type": "code",
   "execution_count": 77,
   "id": "2bfc3d4c",
   "metadata": {
    "cell_id": "00035-bd4d7b19-3e60-433e-9c74-b9b348d6310e",
    "deepnote_cell_height": 479.46875,
    "deepnote_cell_type": "code",
    "deepnote_output_heights": [
     null,
     21.1875
    ],
    "deepnote_to_be_reexecuted": false,
    "execution_millis": 445,
    "execution_start": 1653340996511,
    "source_hash": "e6db3456"
   },
   "outputs": [
    {
     "data": {
      "text/html": [
       "<style>#sk-container-id-2 {color: black;background-color: white;}#sk-container-id-2 pre{padding: 0;}#sk-container-id-2 div.sk-toggleable {background-color: white;}#sk-container-id-2 label.sk-toggleable__label {cursor: pointer;display: block;width: 100%;margin-bottom: 0;padding: 0.3em;box-sizing: border-box;text-align: center;}#sk-container-id-2 label.sk-toggleable__label-arrow:before {content: \"▸\";float: left;margin-right: 0.25em;color: #696969;}#sk-container-id-2 label.sk-toggleable__label-arrow:hover:before {color: black;}#sk-container-id-2 div.sk-estimator:hover label.sk-toggleable__label-arrow:before {color: black;}#sk-container-id-2 div.sk-toggleable__content {max-height: 0;max-width: 0;overflow: hidden;text-align: left;background-color: #f0f8ff;}#sk-container-id-2 div.sk-toggleable__content pre {margin: 0.2em;color: black;border-radius: 0.25em;background-color: #f0f8ff;}#sk-container-id-2 input.sk-toggleable__control:checked~div.sk-toggleable__content {max-height: 200px;max-width: 100%;overflow: auto;}#sk-container-id-2 input.sk-toggleable__control:checked~label.sk-toggleable__label-arrow:before {content: \"▾\";}#sk-container-id-2 div.sk-estimator input.sk-toggleable__control:checked~label.sk-toggleable__label {background-color: #d4ebff;}#sk-container-id-2 div.sk-label input.sk-toggleable__control:checked~label.sk-toggleable__label {background-color: #d4ebff;}#sk-container-id-2 input.sk-hidden--visually {border: 0;clip: rect(1px 1px 1px 1px);clip: rect(1px, 1px, 1px, 1px);height: 1px;margin: -1px;overflow: hidden;padding: 0;position: absolute;width: 1px;}#sk-container-id-2 div.sk-estimator {font-family: monospace;background-color: #f0f8ff;border: 1px dotted black;border-radius: 0.25em;box-sizing: border-box;margin-bottom: 0.5em;}#sk-container-id-2 div.sk-estimator:hover {background-color: #d4ebff;}#sk-container-id-2 div.sk-parallel-item::after {content: \"\";width: 100%;border-bottom: 1px solid gray;flex-grow: 1;}#sk-container-id-2 div.sk-label:hover label.sk-toggleable__label {background-color: #d4ebff;}#sk-container-id-2 div.sk-serial::before {content: \"\";position: absolute;border-left: 1px solid gray;box-sizing: border-box;top: 0;bottom: 0;left: 50%;z-index: 0;}#sk-container-id-2 div.sk-serial {display: flex;flex-direction: column;align-items: center;background-color: white;padding-right: 0.2em;padding-left: 0.2em;position: relative;}#sk-container-id-2 div.sk-item {position: relative;z-index: 1;}#sk-container-id-2 div.sk-parallel {display: flex;align-items: stretch;justify-content: center;background-color: white;position: relative;}#sk-container-id-2 div.sk-item::before, #sk-container-id-2 div.sk-parallel-item::before {content: \"\";position: absolute;border-left: 1px solid gray;box-sizing: border-box;top: 0;bottom: 0;left: 50%;z-index: -1;}#sk-container-id-2 div.sk-parallel-item {display: flex;flex-direction: column;z-index: 1;position: relative;background-color: white;}#sk-container-id-2 div.sk-parallel-item:first-child::after {align-self: flex-end;width: 50%;}#sk-container-id-2 div.sk-parallel-item:last-child::after {align-self: flex-start;width: 50%;}#sk-container-id-2 div.sk-parallel-item:only-child::after {width: 0;}#sk-container-id-2 div.sk-dashed-wrapped {border: 1px dashed gray;margin: 0 0.4em 0.5em 0.4em;box-sizing: border-box;padding-bottom: 0.4em;background-color: white;}#sk-container-id-2 div.sk-label label {font-family: monospace;font-weight: bold;display: inline-block;line-height: 1.2em;}#sk-container-id-2 div.sk-label-container {text-align: center;}#sk-container-id-2 div.sk-container {/* jupyter's `normalize.less` sets `[hidden] { display: none; }` but bootstrap.min.css set `[hidden] { display: none !important; }` so we also need the `!important` here to be able to override the default hidden behavior on the sphinx rendered scikit-learn.org. See: https://github.com/scikit-learn/scikit-learn/issues/21755 */display: inline-block !important;position: relative;}#sk-container-id-2 div.sk-text-repr-fallback {display: none;}</style><div id=\"sk-container-id-2\" class=\"sk-top-container\"><div class=\"sk-text-repr-fallback\"><pre>LassoCV(cv=10, max_iter=5000, verbose=0)</pre><b>In a Jupyter environment, please rerun this cell to show the HTML representation or trust the notebook. <br />On GitHub, the HTML representation is unable to render, please try loading this page with nbviewer.org.</b></div><div class=\"sk-container\" hidden><div class=\"sk-item\"><div class=\"sk-estimator sk-toggleable\"><input class=\"sk-toggleable__control sk-hidden--visually\" id=\"sk-estimator-id-2\" type=\"checkbox\" checked><label for=\"sk-estimator-id-2\" class=\"sk-toggleable__label sk-toggleable__label-arrow\">LassoCV</label><div class=\"sk-toggleable__content\"><pre>LassoCV(cv=10, max_iter=5000, verbose=0)</pre></div></div></div></div></div>"
      ],
      "text/plain": [
       "LassoCV(cv=10, max_iter=5000, verbose=0)"
      ]
     },
     "execution_count": 77,
     "metadata": {},
     "output_type": "execute_result"
    }
   ],
   "source": [
    "from sklearn.linear_model import LassoCV\n",
    "\n",
    "X_train, X_test, y_train, y_test = train_test_split(x,y, test_size = 0.20, random_state=44)\n",
    "\n",
    "# Log Transform (+1 to take care of when x is 0)\n",
    "x = np.log(x+1)\n",
    "\n",
    "# than we scale the data using StandardScaler()\n",
    "sc = StandardScaler()\n",
    "X_train = sc.fit_transform(X_train)\n",
    "X_test = sc.transform(X_test)\n",
    "\n",
    "# using LassoCV to cross validate it at the same time\n",
    "model1 = LassoCV(cv=10,verbose=0,eps=0.001,n_alphas=100, tol=0.0001,max_iter=5000)\n",
    "model1.fit(X_train, y_train) # fitting the model"
   ]
  },
  {
   "cell_type": "code",
   "execution_count": 78,
   "id": "4dda775f",
   "metadata": {
    "cell_id": "00036-cddddd44-eae8-447a-abb6-9c9d86f5cc72",
    "deepnote_cell_height": 636,
    "deepnote_cell_type": "code",
    "deepnote_to_be_reexecuted": false,
    "execution_millis": 13,
    "execution_start": 1653340997000,
    "source_hash": "e7391b37"
   },
   "outputs": [
    {
     "data": {
      "text/html": [
       "<div>\n",
       "<style scoped>\n",
       "    .dataframe tbody tr th:only-of-type {\n",
       "        vertical-align: middle;\n",
       "    }\n",
       "\n",
       "    .dataframe tbody tr th {\n",
       "        vertical-align: top;\n",
       "    }\n",
       "\n",
       "    .dataframe thead th {\n",
       "        text-align: right;\n",
       "    }\n",
       "</style>\n",
       "<table border=\"1\" class=\"dataframe\">\n",
       "  <thead>\n",
       "    <tr style=\"text-align: right;\">\n",
       "      <th></th>\n",
       "      <th>Coefficients Metamodel</th>\n",
       "    </tr>\n",
       "  </thead>\n",
       "  <tbody>\n",
       "    <tr>\n",
       "      <th>G2</th>\n",
       "      <td>1.823480</td>\n",
       "    </tr>\n",
       "    <tr>\n",
       "      <th>G1</th>\n",
       "      <td>2.270991</td>\n",
       "    </tr>\n",
       "    <tr>\n",
       "      <th>absences</th>\n",
       "      <td>0.552299</td>\n",
       "    </tr>\n",
       "    <tr>\n",
       "      <th>failures</th>\n",
       "      <td>-0.029778</td>\n",
       "    </tr>\n",
       "    <tr>\n",
       "      <th>schoolsup</th>\n",
       "      <td>-0.000000</td>\n",
       "    </tr>\n",
       "    <tr>\n",
       "      <th>higher</th>\n",
       "      <td>0.000000</td>\n",
       "    </tr>\n",
       "    <tr>\n",
       "      <th>age</th>\n",
       "      <td>-0.425756</td>\n",
       "    </tr>\n",
       "    <tr>\n",
       "      <th>Medu</th>\n",
       "      <td>0.068858</td>\n",
       "    </tr>\n",
       "    <tr>\n",
       "      <th>guardian.2</th>\n",
       "      <td>-0.032726</td>\n",
       "    </tr>\n",
       "    <tr>\n",
       "      <th>romantic</th>\n",
       "      <td>-0.194890</td>\n",
       "    </tr>\n",
       "    <tr>\n",
       "      <th>Walc</th>\n",
       "      <td>-0.000000</td>\n",
       "    </tr>\n",
       "    <tr>\n",
       "      <th>Dalc</th>\n",
       "      <td>-0.073131</td>\n",
       "    </tr>\n",
       "    <tr>\n",
       "      <th>goout</th>\n",
       "      <td>0.082571</td>\n",
       "    </tr>\n",
       "    <tr>\n",
       "      <th>Fedu</th>\n",
       "      <td>-0.000000</td>\n",
       "    </tr>\n",
       "  </tbody>\n",
       "</table>\n",
       "</div>"
      ],
      "text/plain": [
       "            Coefficients Metamodel\n",
       "G2                        1.823480\n",
       "G1                        2.270991\n",
       "absences                  0.552299\n",
       "failures                 -0.029778\n",
       "schoolsup                -0.000000\n",
       "higher                    0.000000\n",
       "age                      -0.425756\n",
       "Medu                      0.068858\n",
       "guardian.2               -0.032726\n",
       "romantic                 -0.194890\n",
       "Walc                     -0.000000\n",
       "Dalc                     -0.073131\n",
       "goout                     0.082571\n",
       "Fedu                     -0.000000"
      ]
     },
     "execution_count": 78,
     "metadata": {},
     "output_type": "execute_result"
    }
   ],
   "source": [
    "# lets take a look at the Coefficients\n",
    "coeff1 = pd.DataFrame(model1.coef_,index=data_dum.drop('G3',axis=1).columns, columns=['Coefficients Metamodel'])\n",
    "coeff1"
   ]
  },
  {
   "cell_type": "code",
   "execution_count": 79,
   "id": "547fd851",
   "metadata": {
    "cell_id": "00037-80bb58ab-f954-4088-ab37-2fc5d56ec212",
    "deepnote_cell_height": 136.1875,
    "deepnote_cell_type": "code",
    "deepnote_output_heights": [
     21.1875
    ],
    "deepnote_to_be_reexecuted": false,
    "execution_millis": 169,
    "execution_start": 1653340997027,
    "source_hash": "b119ef0f"
   },
   "outputs": [
    {
     "data": {
      "text/plain": [
       "0.8136126310571096"
      ]
     },
     "execution_count": 79,
     "metadata": {},
     "output_type": "execute_result"
    }
   ],
   "source": [
    "# Look at the R^2\n",
    "model1.score(X_test,y_test)"
   ]
  },
  {
   "cell_type": "code",
   "execution_count": 80,
   "id": "ef138dc0",
   "metadata": {
    "cell_id": "00038-1801185f-5723-40fe-86f6-ba413ddcedd9",
    "deepnote_cell_height": 208.1875,
    "deepnote_cell_type": "code",
    "deepnote_output_heights": [
     21.1875
    ],
    "deepnote_to_be_reexecuted": false,
    "execution_millis": 160,
    "execution_start": 1653340997048,
    "source_hash": "d8d0780"
   },
   "outputs": [
    {
     "data": {
      "text/plain": [
       "1.6320124849112398"
      ]
     },
     "execution_count": 80,
     "metadata": {},
     "output_type": "execute_result"
    }
   ],
   "source": [
    "# Calculate the MAE\n",
    "predictions_ = model1.predict(X_test)\n",
    "true_ = y_test\n",
    "mae = np.mean(abs(predictions_ - true_))\n",
    "#\n",
    "mae"
   ]
  },
  {
   "cell_type": "markdown",
   "id": "5a8962c2",
   "metadata": {
    "cell_id": "9785c536e91f43b9abb077b3bd166e8f",
    "deepnote_cell_height": 54,
    "deepnote_cell_type": "markdown",
    "tags": []
   },
   "source": [
    "#### We get an MAE of 1.6 which means that on average we are 1.6 grades away from the correct one"
   ]
  },
  {
   "cell_type": "code",
   "execution_count": 81,
   "id": "a5b097bc",
   "metadata": {
    "cell_id": "00039-f9e5a56c-4cd0-4be8-a848-97973bcb4cf9",
    "deepnote_cell_height": 118.1875,
    "deepnote_cell_type": "code",
    "deepnote_output_heights": [
     21.1875
    ],
    "deepnote_to_be_reexecuted": false,
    "execution_millis": 150,
    "execution_start": 1653340997059,
    "source_hash": "8f0ad682"
   },
   "outputs": [
    {
     "data": {
      "text/plain": [
       "0.05865818463946507"
      ]
     },
     "execution_count": 81,
     "metadata": {},
     "output_type": "execute_result"
    }
   ],
   "source": [
    "model1.alpha_"
   ]
  },
  {
   "cell_type": "code",
   "execution_count": 82,
   "id": "defe9705",
   "metadata": {
    "cell_id": "00040-87755675-1153-471a-ab7c-1739272c82f9",
    "deepnote_cell_height": 618,
    "deepnote_cell_type": "code",
    "deepnote_to_be_reexecuted": false,
    "execution_millis": 127,
    "execution_start": 1653340997082,
    "source_hash": "2a948e54"
   },
   "outputs": [
    {
     "data": {
      "text/html": [
       "<div>\n",
       "<style scoped>\n",
       "    .dataframe tbody tr th:only-of-type {\n",
       "        vertical-align: middle;\n",
       "    }\n",
       "\n",
       "    .dataframe tbody tr th {\n",
       "        vertical-align: top;\n",
       "    }\n",
       "\n",
       "    .dataframe thead th {\n",
       "        text-align: right;\n",
       "    }\n",
       "</style>\n",
       "<table border=\"1\" class=\"dataframe\">\n",
       "  <thead>\n",
       "    <tr style=\"text-align: right;\">\n",
       "      <th></th>\n",
       "      <th>Coefficients Metamodel</th>\n",
       "    </tr>\n",
       "  </thead>\n",
       "  <tbody>\n",
       "    <tr>\n",
       "      <th>G2</th>\n",
       "      <td>1.823480</td>\n",
       "    </tr>\n",
       "    <tr>\n",
       "      <th>G1</th>\n",
       "      <td>2.270991</td>\n",
       "    </tr>\n",
       "    <tr>\n",
       "      <th>absences</th>\n",
       "      <td>0.552299</td>\n",
       "    </tr>\n",
       "    <tr>\n",
       "      <th>failures</th>\n",
       "      <td>-0.029778</td>\n",
       "    </tr>\n",
       "    <tr>\n",
       "      <th>age</th>\n",
       "      <td>-0.425756</td>\n",
       "    </tr>\n",
       "    <tr>\n",
       "      <th>Medu</th>\n",
       "      <td>0.068858</td>\n",
       "    </tr>\n",
       "    <tr>\n",
       "      <th>guardian.2</th>\n",
       "      <td>-0.032726</td>\n",
       "    </tr>\n",
       "    <tr>\n",
       "      <th>romantic</th>\n",
       "      <td>-0.194890</td>\n",
       "    </tr>\n",
       "    <tr>\n",
       "      <th>Dalc</th>\n",
       "      <td>-0.073131</td>\n",
       "    </tr>\n",
       "    <tr>\n",
       "      <th>goout</th>\n",
       "      <td>0.082571</td>\n",
       "    </tr>\n",
       "  </tbody>\n",
       "</table>\n",
       "</div>"
      ],
      "text/plain": [
       "            Coefficients Metamodel\n",
       "G2                        1.823480\n",
       "G1                        2.270991\n",
       "absences                  0.552299\n",
       "failures                 -0.029778\n",
       "age                      -0.425756\n",
       "Medu                      0.068858\n",
       "guardian.2               -0.032726\n",
       "romantic                 -0.194890\n",
       "Dalc                     -0.073131\n",
       "goout                     0.082571"
      ]
     },
     "execution_count": 82,
     "metadata": {},
     "output_type": "execute_result"
    }
   ],
   "source": [
    "# We are interested in coefficients that are not eliminated by the penalty term\n",
    "coeff1[coeff1['Coefficients Metamodel']!=0]"
   ]
  },
  {
   "cell_type": "code",
   "execution_count": 83,
   "id": "43d09047",
   "metadata": {
    "cell_id": "00041-45591d5f-e182-4733-a43d-6e14caf2ff6f",
    "deepnote_cell_height": 770.1875,
    "deepnote_cell_type": "code",
    "deepnote_output_heights": [
     21.1875,
     495
    ],
    "deepnote_to_be_reexecuted": false,
    "execution_millis": 631,
    "execution_start": 1653340997164,
    "source_hash": "a7f82ec2"
   },
   "outputs": [
    {
     "data": {
      "text/plain": [
       "[<matplotlib.lines.Line2D at 0x1b54b756790>]"
      ]
     },
     "execution_count": 83,
     "metadata": {},
     "output_type": "execute_result"
    },
    {
     "data": {
      "image/png": "[encoded data removed]",
      "text/plain": [
       "<Figure size 864x576 with 1 Axes>"
      ]
     },
     "metadata": {},
     "output_type": "display_data"
    }
   ],
   "source": [
    "# Lets plot the results\n",
    "y_pred1 = np.array(model1.predict(X_test))\n",
    "plt.figure(figsize=(12,8))\n",
    "plt.xlabel(\"Predicted value with Metamodel\",fontsize=20)\n",
    "plt.ylabel(\"Actual y-values\",fontsize=20)\n",
    "plt.grid(1)\n",
    "plt.scatter(y_pred1,y_test,edgecolors=(0,0,0),lw=2,s=80)\n",
    "plt.plot(y_pred1,y_pred1, 'k--', lw=2)"
   ]
  },
  {
   "cell_type": "markdown",
   "id": "db9ebb9b",
   "metadata": {
    "cell_id": "00042-1e03d8e0-62b2-42e7-bc96-2fc014ab162d",
    "deepnote_cell_height": 62,
    "deepnote_cell_type": "markdown"
   },
   "source": [
    "### Building a pipeline of linear models and try to optimize it"
   ]
  },
  {
   "cell_type": "code",
   "execution_count": 84,
   "id": "6df08e6b",
   "metadata": {
    "cell_id": "00043-5fcdd99f-d82b-4c26-8d59-644e3957b0df",
    "deepnote_cell_height": 729,
    "deepnote_cell_type": "code",
    "deepnote_to_be_reexecuted": false,
    "execution_millis": 30,
    "execution_start": 1653340997783,
    "source_hash": "26d25e84"
   },
   "outputs": [],
   "source": [
    "from sklearn import metrics\n",
    "from sklearn import linear_model\n",
    "from sklearn.pipeline import Pipeline\n",
    "from sklearn.preprocessing import PolynomialFeatures\n",
    "from sklearn.model_selection import GridSearchCV, cross_val_score\n",
    "from sklearn.metrics import mean_absolute_error as mae\n",
    "\n",
    "x=data_dum.drop(\"G3\",axis=1)\n",
    "y=data_dum['G3']\n",
    "# Log Transform (+1 to take care of when x is 0)\n",
    "x = np.log(x+1)\n",
    "\n",
    "X_train, X_test, y_train, y_test = train_test_split(x,y, test_size = 0.20, random_state=44)#, stratify=x['school'])\n",
    "\n",
    "  \n",
    "# list of integers of actual and calculated\n",
    "def test(models, data, iterations = 100):\n",
    "    results = {}\n",
    "    for i in models:\n",
    "        r2_train = []\n",
    "        r2_test = []\n",
    "        MAE = []\n",
    "        for j in range(iterations):\n",
    "            X_train, X_test, y_train, y_test = train_test_split(x, \n",
    "                                                                y, \n",
    "                                                                test_size= 0.2)\n",
    "            r2_test.append(metrics.r2_score(y_test,\n",
    "                                            models[i].fit(X_train, \n",
    "                                                         y_train).predict(X_test)))\n",
    "            r2_train.append(metrics.r2_score(y_train, \n",
    "                                             models[i].fit(X_train, \n",
    "                                                          y_train).predict(X_train)))\n",
    "            MAE.append(mae(y_test, models[i].fit(X_train, y_train).predict(X_test)))\n",
    "            \n",
    "        results[i] = [np.mean(r2_train), np.mean(r2_test),np.mean(MAE)]\n",
    "    return pd.DataFrame(results,index=['TRAIN', 'TEST', 'MAE']),models\n"
   ]
  },
  {
   "cell_type": "code",
   "execution_count": 85,
   "id": "ac9f0fc9",
   "metadata": {
    "cell_id": "00044-4f581617-60f4-4319-a1de-d3518d0a833d",
    "deepnote_cell_height": 135,
    "deepnote_cell_type": "code",
    "deepnote_to_be_reexecuted": false,
    "execution_millis": 15,
    "execution_start": 1653340997819,
    "source_hash": "284c4409"
   },
   "outputs": [],
   "source": [
    "# the models that we are going to feature\n",
    "models = {'OLS': linear_model.LinearRegression(),\n",
    "         'Lasso': linear_model.Lasso(),\n",
    "         'Ridge': linear_model.Ridge(),}"
   ]
  },
  {
   "cell_type": "code",
   "execution_count": 86,
   "id": "b3b82134",
   "metadata": {
    "cell_id": "00045-9d0cca00-7c38-4b75-9855-187a9fbdbbe8",
    "deepnote_cell_height": 194.96875,
    "deepnote_cell_type": "code",
    "deepnote_output_heights": [
     97.96875
    ],
    "deepnote_to_be_reexecuted": false,
    "execution_millis": 8513,
    "execution_start": 1653340997838,
    "source_hash": "4d5b8b01"
   },
   "outputs": [
    {
     "data": {
      "text/plain": [
       "(            OLS     Lasso     Ridge\n",
       " TRAIN  0.785855  0.435605  0.783960\n",
       " TEST   0.760132  0.425002  0.759270\n",
       " MAE    1.580621  2.484972  1.561747,\n",
       " {'OLS': LinearRegression(), 'Lasso': Lasso(), 'Ridge': Ridge()})"
      ]
     },
     "execution_count": 86,
     "metadata": {},
     "output_type": "execute_result"
    }
   ],
   "source": [
    "test(models, data_dum)"
   ]
  },
  {
   "cell_type": "markdown",
   "id": "450819b3",
   "metadata": {
    "cell_id": "a5882a0d76ec48c78af75b17e9c3d5aa",
    "deepnote_cell_height": 62,
    "deepnote_cell_type": "markdown",
    "tags": []
   },
   "source": [
    "### GridSearchCV"
   ]
  },
  {
   "cell_type": "markdown",
   "id": "76d7e212",
   "metadata": {
    "cell_id": "00046-db797bea-9a4e-4cba-b046-e3e54c141b55",
    "deepnote_cell_height": 54,
    "deepnote_cell_type": "markdown"
   },
   "source": [
    "#### Lasso is really lacking behind here, so let's do some GridSearchCV to tune it "
   ]
  },
  {
   "cell_type": "code",
   "execution_count": 87,
   "id": "9784af10",
   "metadata": {
    "cell_id": "00047-9e654d86-962b-48da-9353-8c4b6b10d8a2",
    "deepnote_cell_height": 207,
    "deepnote_cell_type": "code",
    "deepnote_to_be_reexecuted": false,
    "execution_millis": 3159,
    "execution_start": 1653341006294,
    "source_hash": "b6583b57"
   },
   "outputs": [],
   "source": [
    "lasso_params = {'alpha':list(np.logspace(-8, 8, 100))}\n",
    "ridge_params = {'alpha':[200, 230, 250,265, 270, 275, 290, 300, 500]}\n",
    "\n",
    "models2 = {'OLS': linear_model.LinearRegression(),\n",
    "           'Lasso': GridSearchCV(linear_model.Lasso(), \n",
    "                               param_grid=lasso_params).fit(x, y).best_estimator_,\n",
    "           'Ridge': GridSearchCV(linear_model.Ridge(), \n",
    "                               param_grid=ridge_params).fit(x, y).best_estimator_,}"
   ]
  },
  {
   "cell_type": "code",
   "execution_count": 88,
   "id": "033040a3",
   "metadata": {
    "cell_id": "00048-4afc7024-d07d-4dad-ab81-456dd431ad22",
    "deepnote_cell_height": 233.359375,
    "deepnote_cell_type": "code",
    "deepnote_output_heights": [
     136.359375
    ],
    "deepnote_to_be_reexecuted": false,
    "execution_millis": 5354,
    "execution_start": 1653341009456,
    "source_hash": "a6deaa95"
   },
   "outputs": [],
   "source": [
    "#test(models2, data_dum)"
   ]
  },
  {
   "cell_type": "markdown",
   "id": "7bc5a3ce",
   "metadata": {
    "cell_id": "00049-1473e552-b910-4053-acf5-bca04ce8bc19",
    "deepnote_cell_height": 54,
    "deepnote_cell_type": "markdown"
   },
   "source": [
    "#### That's better, we will focuse on lasso for now"
   ]
  },
  {
   "cell_type": "markdown",
   "id": "9e4e30ea",
   "metadata": {
    "cell_id": "0dcfa0a8d7f144dcb5ea369b8072547c",
    "deepnote_cell_height": 102,
    "deepnote_cell_type": "markdown",
    "tags": []
   },
   "source": [
    "### Polynomial featuring and scale afterwards\n",
    "#### Let's do some polynomial featuring and scale afterwards"
   ]
  },
  {
   "cell_type": "code",
   "execution_count": 89,
   "id": "875c03e4",
   "metadata": {
    "cell_id": "00050-eea10825-ef79-4266-a876-314167d27ff1",
    "deepnote_cell_height": 953,
    "deepnote_cell_type": "code",
    "deepnote_to_be_reexecuted": false,
    "execution_millis": 7717,
    "execution_start": 1653341014816,
    "source_hash": "94de0eee"
   },
   "outputs": [],
   "source": [
    "lasso_params = {'fit__alpha':list(np.linspace(0.0, 0.009, 20))} # params to try in Grid Search CV\n",
    "ridge_params = {'fit__alpha':[550, 580, 600, 620, 650]} # params to try in Grid Search CV\n",
    "\n",
    "pipe1 = Pipeline([('poly', PolynomialFeatures()),('scale', StandardScaler()),\n",
    "                 ('fit', linear_model.LinearRegression())])\n",
    "pipe2 = Pipeline([('poly', PolynomialFeatures()),('scale', StandardScaler()),\n",
    "                 ('fit', linear_model.Lasso())])\n",
    "pipe3 = Pipeline([('poly', PolynomialFeatures()),('scale', StandardScaler()),\n",
    "                 ('fit', linear_model.Ridge())])\n",
    "\n",
    "models3 = {'OLS': pipe1,\n",
    "           'Lasso': GridSearchCV(pipe2, \n",
    "                                 param_grid=lasso_params).fit(x, y).best_estimator_ ,\n",
    "           'Ridge': GridSearchCV(pipe3, \n",
    "                                 param_grid=ridge_params).fit(x, y).best_estimator_,}"
   ]
  },
  {
   "cell_type": "code",
   "execution_count": 90,
   "id": "b5fa18fc",
   "metadata": {
    "cell_id": "00051-fd8ef606-9278-4b80-a0ee-5bf1f3c1dd6a",
    "deepnote_cell_height": 925.953125,
    "deepnote_cell_type": "code",
    "deepnote_output_heights": [
     null,
     193.953125
    ],
    "deepnote_to_be_reexecuted": false,
    "execution_millis": 33743,
    "execution_start": 1653341022534,
    "scrolled": true,
    "source_hash": "20ddf0e8"
   },
   "outputs": [
    {
     "data": {
      "text/plain": [
       "(            OLS     Lasso     Ridge\n",
       " TRAIN  0.849198  0.901574  0.785518\n",
       " TEST   0.085620  0.854008  0.753770\n",
       " MAE    2.094560  1.139875  1.517530,\n",
       " {'OLS': Pipeline(steps=[('poly', PolynomialFeatures()), ('scale', StandardScaler()),\n",
       "                  ('fit', LinearRegression())]),\n",
       "  'Lasso': Pipeline(steps=[('poly', PolynomialFeatures()), ('scale', StandardScaler()),\n",
       "                  ('fit', Lasso(alpha=0.009))]),\n",
       "  'Ridge': Pipeline(steps=[('poly', PolynomialFeatures()), ('scale', StandardScaler()),\n",
       "                  ('fit', Ridge(alpha=550))])})"
      ]
     },
     "execution_count": 90,
     "metadata": {},
     "output_type": "execute_result"
    }
   ],
   "source": [
    "test(models3, data_dum)"
   ]
  },
  {
   "cell_type": "markdown",
   "id": "4dfbbd62",
   "metadata": {
    "cell_id": "00052-830daeff-c9da-47b3-b10d-8fd28608b642",
    "deepnote_cell_height": 88.390625,
    "deepnote_cell_type": "markdown",
    "owner_user_id": "961c9720-af28-47de-923b-9e3d2a2243a0"
   },
   "source": [
    "#### We managed to improve it a decent amount but at the cost of interpretability\n",
    "-> better model fit but worse to interpret"
   ]
  },
  {
   "cell_type": "code",
   "execution_count": 91,
   "id": "2a1653d7",
   "metadata": {
    "cell_id": "00053-58b6e4e1-9dc0-4f77-a50e-93d6b9c605ec",
    "deepnote_cell_height": 117,
    "deepnote_cell_type": "code",
    "deepnote_to_be_reexecuted": false,
    "execution_millis": 7,
    "execution_start": 1653341056279,
    "source_hash": "333384f6"
   },
   "outputs": [],
   "source": [
    "pipe=models3['Lasso'][0] # polynomial feature object \n",
    "\n",
    "lasso_model=models3['Lasso'][2]# lasso regression object"
   ]
  },
  {
   "cell_type": "code",
   "execution_count": 92,
   "id": "14b64e12",
   "metadata": {
    "cell_id": "00054-21aa9f2f-aaa0-4310-8afa-be9a98316a2b",
    "deepnote_cell_height": 175.28125,
    "deepnote_cell_type": "code",
    "deepnote_to_be_reexecuted": false,
    "execution_millis": 38,
    "execution_start": 1653341056291,
    "source_hash": "2cfe40c3"
   },
   "outputs": [],
   "source": [
    "names=pipe.get_feature_names_out(x.columns)# getting the names of the features"
   ]
  },
  {
   "cell_type": "code",
   "execution_count": 93,
   "id": "2eec88db",
   "metadata": {
    "cell_id": "00055-ed123e4c-921b-4efd-b4c2-5e79637f697c",
    "deepnote_cell_height": 618,
    "deepnote_cell_type": "code",
    "deepnote_to_be_reexecuted": false,
    "execution_millis": 53,
    "execution_start": 1653341056343,
    "source_hash": "bf78b326"
   },
   "outputs": [
    {
     "data": {
      "text/html": [
       "<div>\n",
       "<style scoped>\n",
       "    .dataframe tbody tr th:only-of-type {\n",
       "        vertical-align: middle;\n",
       "    }\n",
       "\n",
       "    .dataframe tbody tr th {\n",
       "        vertical-align: top;\n",
       "    }\n",
       "\n",
       "    .dataframe thead th {\n",
       "        text-align: right;\n",
       "    }\n",
       "</style>\n",
       "<table border=\"1\" class=\"dataframe\">\n",
       "  <thead>\n",
       "    <tr style=\"text-align: right;\">\n",
       "      <th></th>\n",
       "      <th>Coefficients Metamodel</th>\n",
       "    </tr>\n",
       "  </thead>\n",
       "  <tbody>\n",
       "    <tr>\n",
       "      <th>1</th>\n",
       "      <td>0.000000</td>\n",
       "    </tr>\n",
       "    <tr>\n",
       "      <th>G2</th>\n",
       "      <td>-0.917272</td>\n",
       "    </tr>\n",
       "    <tr>\n",
       "      <th>G1</th>\n",
       "      <td>0.000000</td>\n",
       "    </tr>\n",
       "    <tr>\n",
       "      <th>absences</th>\n",
       "      <td>0.000000</td>\n",
       "    </tr>\n",
       "    <tr>\n",
       "      <th>failures</th>\n",
       "      <td>0.000000</td>\n",
       "    </tr>\n",
       "    <tr>\n",
       "      <th>...</th>\n",
       "      <td>...</td>\n",
       "    </tr>\n",
       "    <tr>\n",
       "      <th>Dalc goout</th>\n",
       "      <td>-0.000000</td>\n",
       "    </tr>\n",
       "    <tr>\n",
       "      <th>Dalc Fedu</th>\n",
       "      <td>-0.268904</td>\n",
       "    </tr>\n",
       "    <tr>\n",
       "      <th>goout^2</th>\n",
       "      <td>-0.000000</td>\n",
       "    </tr>\n",
       "    <tr>\n",
       "      <th>goout Fedu</th>\n",
       "      <td>-0.412397</td>\n",
       "    </tr>\n",
       "    <tr>\n",
       "      <th>Fedu^2</th>\n",
       "      <td>0.086537</td>\n",
       "    </tr>\n",
       "  </tbody>\n",
       "</table>\n",
       "<p>120 rows × 1 columns</p>\n",
       "</div>"
      ],
      "text/plain": [
       "            Coefficients Metamodel\n",
       "1                         0.000000\n",
       "G2                       -0.917272\n",
       "G1                        0.000000\n",
       "absences                  0.000000\n",
       "failures                  0.000000\n",
       "...                            ...\n",
       "Dalc goout               -0.000000\n",
       "Dalc Fedu                -0.268904\n",
       "goout^2                  -0.000000\n",
       "goout Fedu               -0.412397\n",
       "Fedu^2                    0.086537\n",
       "\n",
       "[120 rows x 1 columns]"
      ]
     },
     "execution_count": 93,
     "metadata": {},
     "output_type": "execute_result"
    }
   ],
   "source": [
    "coeff1 = pd.DataFrame(lasso_model.coef_,index=names, columns=['Coefficients Metamodel'])\n",
    "coeff1 # we can see all the Coefficients that are used"
   ]
  },
  {
   "cell_type": "code",
   "execution_count": 94,
   "id": "b6c41be4",
   "metadata": {
    "cell_id": "00056-22941a99-c151-425d-abbe-5c7124ddb501",
    "deepnote_cell_height": 636,
    "deepnote_cell_type": "code",
    "deepnote_to_be_reexecuted": false,
    "execution_millis": 9,
    "execution_start": 1653341056399,
    "source_hash": "b6b48b15"
   },
   "outputs": [
    {
     "data": {
      "text/html": [
       "<div>\n",
       "<style scoped>\n",
       "    .dataframe tbody tr th:only-of-type {\n",
       "        vertical-align: middle;\n",
       "    }\n",
       "\n",
       "    .dataframe tbody tr th {\n",
       "        vertical-align: top;\n",
       "    }\n",
       "\n",
       "    .dataframe thead th {\n",
       "        text-align: right;\n",
       "    }\n",
       "</style>\n",
       "<table border=\"1\" class=\"dataframe\">\n",
       "  <thead>\n",
       "    <tr style=\"text-align: right;\">\n",
       "      <th></th>\n",
       "      <th>Coefficients Metamodel</th>\n",
       "    </tr>\n",
       "  </thead>\n",
       "  <tbody>\n",
       "    <tr>\n",
       "      <th>G2</th>\n",
       "      <td>-0.917272</td>\n",
       "    </tr>\n",
       "    <tr>\n",
       "      <th>romantic</th>\n",
       "      <td>-0.012764</td>\n",
       "    </tr>\n",
       "    <tr>\n",
       "      <th>G2^2</th>\n",
       "      <td>7.128511</td>\n",
       "    </tr>\n",
       "    <tr>\n",
       "      <th>G2 absences</th>\n",
       "      <td>-3.422998</td>\n",
       "    </tr>\n",
       "    <tr>\n",
       "      <th>G2 failures</th>\n",
       "      <td>-0.394921</td>\n",
       "    </tr>\n",
       "    <tr>\n",
       "      <th>G2 higher</th>\n",
       "      <td>-0.233785</td>\n",
       "    </tr>\n",
       "    <tr>\n",
       "      <th>G2 age</th>\n",
       "      <td>-2.462791</td>\n",
       "    </tr>\n",
       "    <tr>\n",
       "      <th>G2 guardian.2</th>\n",
       "      <td>-0.364447</td>\n",
       "    </tr>\n",
       "    <tr>\n",
       "      <th>G2 Fedu</th>\n",
       "      <td>-0.029044</td>\n",
       "    </tr>\n",
       "    <tr>\n",
       "      <th>G1^2</th>\n",
       "      <td>0.442098</td>\n",
       "    </tr>\n",
       "    <tr>\n",
       "      <th>G1 failures</th>\n",
       "      <td>0.339691</td>\n",
       "    </tr>\n",
       "    <tr>\n",
       "      <th>G1 schoolsup</th>\n",
       "      <td>0.238011</td>\n",
       "    </tr>\n",
       "    <tr>\n",
       "      <th>G1 Medu</th>\n",
       "      <td>0.047978</td>\n",
       "    </tr>\n",
       "    <tr>\n",
       "      <th>G1 goout</th>\n",
       "      <td>0.013685</td>\n",
       "    </tr>\n",
       "    <tr>\n",
       "      <th>absences^2</th>\n",
       "      <td>-1.119272</td>\n",
       "    </tr>\n",
       "    <tr>\n",
       "      <th>absences failures</th>\n",
       "      <td>0.510560</td>\n",
       "    </tr>\n",
       "    <tr>\n",
       "      <th>absences schoolsup</th>\n",
       "      <td>-0.394403</td>\n",
       "    </tr>\n",
       "    <tr>\n",
       "      <th>absences age</th>\n",
       "      <td>4.638285</td>\n",
       "    </tr>\n",
       "    <tr>\n",
       "      <th>absences Walc</th>\n",
       "      <td>-0.141971</td>\n",
       "    </tr>\n",
       "    <tr>\n",
       "      <th>absences Dalc</th>\n",
       "      <td>0.857652</td>\n",
       "    </tr>\n",
       "    <tr>\n",
       "      <th>failures^2</th>\n",
       "      <td>0.207909</td>\n",
       "    </tr>\n",
       "    <tr>\n",
       "      <th>failures schoolsup</th>\n",
       "      <td>0.133276</td>\n",
       "    </tr>\n",
       "    <tr>\n",
       "      <th>failures higher</th>\n",
       "      <td>-0.445901</td>\n",
       "    </tr>\n",
       "    <tr>\n",
       "      <th>failures age</th>\n",
       "      <td>0.224085</td>\n",
       "    </tr>\n",
       "    <tr>\n",
       "      <th>failures guardian.2</th>\n",
       "      <td>-0.191840</td>\n",
       "    </tr>\n",
       "    <tr>\n",
       "      <th>failures romantic</th>\n",
       "      <td>-0.086964</td>\n",
       "    </tr>\n",
       "    <tr>\n",
       "      <th>failures Dalc</th>\n",
       "      <td>-0.449447</td>\n",
       "    </tr>\n",
       "    <tr>\n",
       "      <th>schoolsup age</th>\n",
       "      <td>0.060462</td>\n",
       "    </tr>\n",
       "    <tr>\n",
       "      <th>schoolsup guardian.2</th>\n",
       "      <td>-0.046550</td>\n",
       "    </tr>\n",
       "    <tr>\n",
       "      <th>schoolsup Dalc</th>\n",
       "      <td>0.040042</td>\n",
       "    </tr>\n",
       "    <tr>\n",
       "      <th>higher Medu</th>\n",
       "      <td>0.166771</td>\n",
       "    </tr>\n",
       "    <tr>\n",
       "      <th>higher romantic</th>\n",
       "      <td>-0.276072</td>\n",
       "    </tr>\n",
       "    <tr>\n",
       "      <th>higher Dalc</th>\n",
       "      <td>0.388907</td>\n",
       "    </tr>\n",
       "    <tr>\n",
       "      <th>age^2</th>\n",
       "      <td>-0.049500</td>\n",
       "    </tr>\n",
       "    <tr>\n",
       "      <th>age romantic</th>\n",
       "      <td>-0.042866</td>\n",
       "    </tr>\n",
       "    <tr>\n",
       "      <th>Medu guardian.2</th>\n",
       "      <td>-0.335908</td>\n",
       "    </tr>\n",
       "    <tr>\n",
       "      <th>Medu Walc</th>\n",
       "      <td>-0.158174</td>\n",
       "    </tr>\n",
       "    <tr>\n",
       "      <th>Medu Dalc</th>\n",
       "      <td>-0.665675</td>\n",
       "    </tr>\n",
       "    <tr>\n",
       "      <th>Medu Fedu</th>\n",
       "      <td>0.493997</td>\n",
       "    </tr>\n",
       "    <tr>\n",
       "      <th>guardian.2 romantic</th>\n",
       "      <td>0.005725</td>\n",
       "    </tr>\n",
       "    <tr>\n",
       "      <th>guardian.2 Dalc</th>\n",
       "      <td>-0.144866</td>\n",
       "    </tr>\n",
       "    <tr>\n",
       "      <th>guardian.2 goout</th>\n",
       "      <td>0.940920</td>\n",
       "    </tr>\n",
       "    <tr>\n",
       "      <th>guardian.2 Fedu</th>\n",
       "      <td>-0.058187</td>\n",
       "    </tr>\n",
       "    <tr>\n",
       "      <th>romantic Dalc</th>\n",
       "      <td>-0.248524</td>\n",
       "    </tr>\n",
       "    <tr>\n",
       "      <th>romantic goout</th>\n",
       "      <td>0.514436</td>\n",
       "    </tr>\n",
       "    <tr>\n",
       "      <th>Walc^2</th>\n",
       "      <td>0.439729</td>\n",
       "    </tr>\n",
       "    <tr>\n",
       "      <th>Dalc Fedu</th>\n",
       "      <td>-0.268904</td>\n",
       "    </tr>\n",
       "    <tr>\n",
       "      <th>goout Fedu</th>\n",
       "      <td>-0.412397</td>\n",
       "    </tr>\n",
       "    <tr>\n",
       "      <th>Fedu^2</th>\n",
       "      <td>0.086537</td>\n",
       "    </tr>\n",
       "  </tbody>\n",
       "</table>\n",
       "</div>"
      ],
      "text/plain": [
       "                      Coefficients Metamodel\n",
       "G2                                 -0.917272\n",
       "romantic                           -0.012764\n",
       "G2^2                                7.128511\n",
       "G2 absences                        -3.422998\n",
       "G2 failures                        -0.394921\n",
       "G2 higher                          -0.233785\n",
       "G2 age                             -2.462791\n",
       "G2 guardian.2                      -0.364447\n",
       "G2 Fedu                            -0.029044\n",
       "G1^2                                0.442098\n",
       "G1 failures                         0.339691\n",
       "G1 schoolsup                        0.238011\n",
       "G1 Medu                             0.047978\n",
       "G1 goout                            0.013685\n",
       "absences^2                         -1.119272\n",
       "absences failures                   0.510560\n",
       "absences schoolsup                 -0.394403\n",
       "absences age                        4.638285\n",
       "absences Walc                      -0.141971\n",
       "absences Dalc                       0.857652\n",
       "failures^2                          0.207909\n",
       "failures schoolsup                  0.133276\n",
       "failures higher                    -0.445901\n",
       "failures age                        0.224085\n",
       "failures guardian.2                -0.191840\n",
       "failures romantic                  -0.086964\n",
       "failures Dalc                      -0.449447\n",
       "schoolsup age                       0.060462\n",
       "schoolsup guardian.2               -0.046550\n",
       "schoolsup Dalc                      0.040042\n",
       "higher Medu                         0.166771\n",
       "higher romantic                    -0.276072\n",
       "higher Dalc                         0.388907\n",
       "age^2                              -0.049500\n",
       "age romantic                       -0.042866\n",
       "Medu guardian.2                    -0.335908\n",
       "Medu Walc                          -0.158174\n",
       "Medu Dalc                          -0.665675\n",
       "Medu Fedu                           0.493997\n",
       "guardian.2 romantic                 0.005725\n",
       "guardian.2 Dalc                    -0.144866\n",
       "guardian.2 goout                    0.940920\n",
       "guardian.2 Fedu                    -0.058187\n",
       "romantic Dalc                      -0.248524\n",
       "romantic goout                      0.514436\n",
       "Walc^2                              0.439729\n",
       "Dalc Fedu                          -0.268904\n",
       "goout Fedu                         -0.412397\n",
       "Fedu^2                              0.086537"
      ]
     },
     "execution_count": 94,
     "metadata": {},
     "output_type": "execute_result"
    }
   ],
   "source": [
    "# We are interested in coefficients that are not eliminated by the penalty term\n",
    "coeff1[coeff1['Coefficients Metamodel']!=0]\n"
   ]
  },
  {
   "cell_type": "markdown",
   "id": "bc8ede63",
   "metadata": {
    "cell_id": "00057-51a553e7-8b40-4ec8-a6ed-dbf9d9ed8bf2",
    "deepnote_cell_height": 112.390625,
    "deepnote_cell_type": "markdown"
   },
   "source": [
    "#### Because we did polynomial featuring we cannnot derive anything of value from checking which features Lasso chose to keep \n",
    "The resulting features are not easy to interpret (e.g., G1^2)"
   ]
  },
  {
   "cell_type": "markdown",
   "id": "57ccbd52",
   "metadata": {
    "cell_id": "00058-0d9f186e-c12e-491d-bc7c-3d240f7f28be",
    "deepnote_cell_height": 62,
    "deepnote_cell_type": "markdown"
   },
   "source": [
    "### Let's do a variety of ML models featuring ensemble methods"
   ]
  },
  {
   "cell_type": "code",
   "execution_count": 95,
   "id": "7348b7c2",
   "metadata": {
    "cell_id": "00059-cfd660bd-68cc-4301-8b61-cb2a9e9f655b",
    "deepnote_cell_height": 189,
    "deepnote_cell_type": "code",
    "deepnote_to_be_reexecuted": false,
    "execution_millis": 5,
    "execution_start": 1653341056409,
    "source_hash": "4976ac6e"
   },
   "outputs": [],
   "source": [
    "# function that calculates  mae and rmse\n",
    "def evaluate_predictions(predictions, true):\n",
    "    mae = np.mean(abs(predictions - true))\n",
    "    rmse = np.sqrt(np.mean((predictions - true) ** 2))\n",
    "    \n",
    "    return mae, rmse\n"
   ]
  },
  {
   "cell_type": "code",
   "execution_count": 96,
   "id": "96eca863",
   "metadata": {
    "cell_id": "00060-8a1c8589-8062-4e3e-8c75-e91cb44da5b5",
    "deepnote_cell_height": 261,
    "deepnote_cell_type": "code",
    "deepnote_to_be_reexecuted": false,
    "execution_millis": 8,
    "execution_start": 1653341056415,
    "source_hash": "fe6be349"
   },
   "outputs": [],
   "source": [
    "x=newdf\n",
    "y=newdf['G3']\n",
    "X_train, X_test, y_train, y_test = train_test_split(x,y, test_size = 0.20, random_state=44)#, stratify=x['school'])\n",
    "# find the median\n",
    "median_pred = X_train['G3'].median()\n",
    "\n",
    "# create a list with all values as median\n",
    "median_preds = [median_pred for _ in range(len(X_test))]\n",
    "\n",
    "# store the true G3 values for passing into the function\n",
    "true = X_test['G3']#"
   ]
  },
  {
   "cell_type": "code",
   "execution_count": 97,
   "id": "59b1e280",
   "metadata": {
    "cell_id": "00061-7db97416-b8b8-403d-831b-8383d8537926",
    "deepnote_cell_height": 545.390625,
    "deepnote_cell_type": "code",
    "deepnote_to_be_reexecuted": false,
    "execution_millis": 548,
    "execution_start": 1653341059709,
    "source_hash": "bb03a5f2"
   },
   "outputs": [
    {
     "name": "stdout",
     "output_type": "stream",
     "text": [
      "Median Baseline  MAE: 3.4430\n",
      "Median Baseline RMSE: 4.7361\n"
     ]
    }
   ],
   "source": [
    "# Standard ML Models for comparison\n",
    "from sklearn.linear_model import LinearRegression\n",
    "from sklearn.linear_model import ElasticNet\n",
    "from sklearn.ensemble import RandomForestRegressor\n",
    "from sklearn.ensemble import ExtraTreesRegressor\n",
    "from sklearn.ensemble import GradientBoostingRegressor\n",
    "from sklearn.svm import SVR\n",
    "from xgboost import plot_importance\n",
    "from sklearn.inspection import permutation_importance\n",
    "\n",
    "\n",
    "# Splitting data into training/testing\n",
    "from sklearn.model_selection import train_test_split\n",
    "from sklearn.preprocessing import MinMaxScaler\n",
    "\n",
    "# Metrics\n",
    "from sklearn.metrics import mean_squared_error, mean_absolute_error, median_absolute_error\n",
    "\n",
    "# Distributions\n",
    "import scipy\n",
    "# Display the naive baseline metrics\n",
    "mb_mae, mb_rmse = evaluate_predictions(median_preds, true)\n",
    "print('Median Baseline  MAE: {:.4f}'.format(mb_mae))\n",
    "print('Median Baseline RMSE: {:.4f}'.format(mb_rmse))"
   ]
  },
  {
   "cell_type": "code",
   "execution_count": 98,
   "id": "13d1afe1",
   "metadata": {
    "cell_id": "00062-08a7cf7f-12f6-4ca8-88b6-304906f27bdf",
    "deepnote_cell_height": 837,
    "deepnote_cell_type": "code",
    "deepnote_to_be_reexecuted": false,
    "execution_millis": 4,
    "execution_start": 1653341060073,
    "source_hash": "5e4559e9"
   },
   "outputs": [],
   "source": [
    "# Evaluate several ml models by training on training set and testing on testing set\n",
    "def evaluate(X_train, X_test, y_train, y_test):\n",
    "    # Names of models\n",
    "    model_name_list = ['Linear Regression', 'ElasticNet Regression',\n",
    "                      'Random Forest', 'Extra Trees', 'SVM',\n",
    "                       'Gradient Boosted', 'Baseline']\n",
    "    X_train = X_train.drop('G3', axis='columns')\n",
    "    X_test = X_test.drop('G3', axis='columns')\n",
    "    \n",
    "    # Instantiate the models\n",
    "    model1 = LinearRegression()\n",
    "    model2 = ElasticNet(alpha=1.0, l1_ratio=0.5)\n",
    "    model3 = RandomForestRegressor(n_estimators=100)\n",
    "    model4 = ExtraTreesRegressor(n_estimators=100)\n",
    "    model5 = SVR(kernel='rbf', degree=3, C=1.0, gamma='auto')\n",
    "    model6 = GradientBoostingRegressor(n_estimators=50)\n",
    "    \n",
    "    # Dataframe for results\n",
    "    results = pd.DataFrame(columns=['mae', 'rmse'], index = model_name_list)\n",
    "    \n",
    "    # Train and predict with each model\n",
    "    for i, model in enumerate([model1, model2, model3, model4, model5, model6]):\n",
    "        model.fit(X_train, y_train)\n",
    "        predictions = model.predict(X_test)\n",
    "        \n",
    "        # Metrics\n",
    "        mae = np.mean(abs(predictions - y_test))\n",
    "        rmse = np.sqrt(np.mean((predictions - y_test) ** 2))\n",
    "        \n",
    "        # Insert results into the dataframe\n",
    "        model_name = model_name_list[i]\n",
    "        results.loc[model_name, :] = [mae, rmse]\n",
    "    \n",
    "    # Median Value Baseline Metrics\n",
    "    baseline = np.median(y_train)\n",
    "    baseline_mae = np.mean(abs(baseline - y_test))\n",
    "    baseline_rmse = np.sqrt(np.mean((baseline - y_test) ** 2))\n",
    "    \n",
    "    results.loc['Baseline', :] = [baseline_mae, baseline_rmse]\n",
    "    El_net_score=model2.score(X_test,y_test)\n",
    "    El_net_model=model2\n",
    "    RF_model=model3\n",
    "    return results, El_net_score, El_net_model, RF_model"
   ]
  },
  {
   "cell_type": "code",
   "execution_count": 99,
   "id": "84cade00",
   "metadata": {
    "cell_id": "00063-0bea33f0-ae58-42d7-bf43-aa9d050f0e07",
    "deepnote_cell_height": 438.1875,
    "deepnote_cell_type": "code",
    "deepnote_to_be_reexecuted": false,
    "execution_millis": 434,
    "execution_start": 1653341060088,
    "scrolled": true,
    "source_hash": "9c529c85"
   },
   "outputs": [
    {
     "data": {
      "text/html": [
       "<div>\n",
       "<style scoped>\n",
       "    .dataframe tbody tr th:only-of-type {\n",
       "        vertical-align: middle;\n",
       "    }\n",
       "\n",
       "    .dataframe tbody tr th {\n",
       "        vertical-align: top;\n",
       "    }\n",
       "\n",
       "    .dataframe thead th {\n",
       "        text-align: right;\n",
       "    }\n",
       "</style>\n",
       "<table border=\"1\" class=\"dataframe\">\n",
       "  <thead>\n",
       "    <tr style=\"text-align: right;\">\n",
       "      <th></th>\n",
       "      <th>mae</th>\n",
       "      <th>rmse</th>\n",
       "    </tr>\n",
       "  </thead>\n",
       "  <tbody>\n",
       "    <tr>\n",
       "      <th>Linear Regression</th>\n",
       "      <td>1.221659</td>\n",
       "      <td>1.728896</td>\n",
       "    </tr>\n",
       "    <tr>\n",
       "      <th>ElasticNet Regression</th>\n",
       "      <td>1.132701</td>\n",
       "      <td>1.701342</td>\n",
       "    </tr>\n",
       "    <tr>\n",
       "      <th>Random Forest</th>\n",
       "      <td>1.263291</td>\n",
       "      <td>2.047239</td>\n",
       "    </tr>\n",
       "    <tr>\n",
       "      <th>Extra Trees</th>\n",
       "      <td>1.247595</td>\n",
       "      <td>1.898566</td>\n",
       "    </tr>\n",
       "    <tr>\n",
       "      <th>SVM</th>\n",
       "      <td>2.126798</td>\n",
       "      <td>3.095668</td>\n",
       "    </tr>\n",
       "    <tr>\n",
       "      <th>Gradient Boosted</th>\n",
       "      <td>1.223848</td>\n",
       "      <td>1.91691</td>\n",
       "    </tr>\n",
       "    <tr>\n",
       "      <th>Baseline</th>\n",
       "      <td>3.443038</td>\n",
       "      <td>4.736072</td>\n",
       "    </tr>\n",
       "  </tbody>\n",
       "</table>\n",
       "</div>"
      ],
      "text/plain": [
       "                            mae      rmse\n",
       "Linear Regression      1.221659  1.728896\n",
       "ElasticNet Regression  1.132701  1.701342\n",
       "Random Forest          1.263291  2.047239\n",
       "Extra Trees            1.247595  1.898566\n",
       "SVM                    2.126798  3.095668\n",
       "Gradient Boosted       1.223848   1.91691\n",
       "Baseline               3.443038  4.736072"
      ]
     },
     "metadata": {},
     "output_type": "display_data"
    },
    {
     "data": {
      "text/plain": [
       "'Elastic net score -  0.8702266586738127'"
      ]
     },
     "metadata": {},
     "output_type": "display_data"
    }
   ],
   "source": [
    "results = evaluate(X_train, X_test, y_train, y_test)\n",
    "elastic_model=results[2]\n",
    "display(results[0])\n",
    "display(f\"Elastic net score -  {results[1]}\")"
   ]
  },
  {
   "cell_type": "code",
   "execution_count": 100,
   "id": "0b13e17f",
   "metadata": {
    "cell_id": "00064-3a8c0918-7582-467c-98f7-5c4666123981",
    "deepnote_cell_height": 978,
    "deepnote_cell_type": "code",
    "deepnote_output_heights": [
     611
    ],
    "deepnote_to_be_reexecuted": false,
    "execution_millis": 476,
    "execution_start": 1653341060529,
    "scrolled": true,
    "source_hash": "1352879d"
   },
   "outputs": [
    {
     "data": {
      "image/png": "[encoded data removed]",
      "text/plain": [
       "<Figure size 864x576 with 2 Axes>"
      ]
     },
     "metadata": {},
     "output_type": "display_data"
    }
   ],
   "source": [
    "# plot some metrics of the models\n",
    "plt.figure(figsize=(12, 8))\n",
    "\n",
    "# Root mean squared error\n",
    "ax =  plt.subplot(1, 2, 1)\n",
    "results[0].sort_values('mae', ascending = True).plot.bar(y = 'mae', color = '#AE3A54', ax = ax, fontsize=20)\n",
    "plt.title('Model Mean Absolute Error', fontsize=20) \n",
    "plt.ylabel('MAE', fontsize=20)\n",
    "\n",
    "# Median absolute percentage error\n",
    "ax = plt.subplot(1, 2, 2)\n",
    "results[0].sort_values('rmse', ascending = True).plot.bar(y = 'rmse', color = '#7286B7', ax = ax, fontsize=20)\n",
    "plt.title('Model Root Mean Squared Error', fontsize=20) \n",
    "plt.ylabel('RMSE',fontsize=20)\n",
    "\n",
    "plt.show()"
   ]
  },
  {
   "cell_type": "code",
   "execution_count": 101,
   "id": "6ed79a78",
   "metadata": {
    "cell_id": "00065-c0e4a274-b3d9-42c1-b36e-35b3476a6ab7",
    "deepnote_cell_height": 367,
    "deepnote_cell_type": "code",
    "deepnote_to_be_reexecuted": false,
    "execution_millis": 22,
    "execution_start": 1653341061004,
    "source_hash": "b69ffde8"
   },
   "outputs": [
    {
     "data": {
      "text/html": [
       "<div>\n",
       "<style scoped>\n",
       "    .dataframe tbody tr th:only-of-type {\n",
       "        vertical-align: middle;\n",
       "    }\n",
       "\n",
       "    .dataframe tbody tr th {\n",
       "        vertical-align: top;\n",
       "    }\n",
       "\n",
       "    .dataframe thead th {\n",
       "        text-align: right;\n",
       "    }\n",
       "</style>\n",
       "<table border=\"1\" class=\"dataframe\">\n",
       "  <thead>\n",
       "    <tr style=\"text-align: right;\">\n",
       "      <th></th>\n",
       "      <th>Coefficients Metamodel</th>\n",
       "    </tr>\n",
       "  </thead>\n",
       "  <tbody>\n",
       "    <tr>\n",
       "      <th>G2</th>\n",
       "      <td>0.891895</td>\n",
       "    </tr>\n",
       "    <tr>\n",
       "      <th>G1</th>\n",
       "      <td>0.204032</td>\n",
       "    </tr>\n",
       "    <tr>\n",
       "      <th>absences</th>\n",
       "      <td>0.032955</td>\n",
       "    </tr>\n",
       "  </tbody>\n",
       "</table>\n",
       "</div>"
      ],
      "text/plain": [
       "          Coefficients Metamodel\n",
       "G2                      0.891895\n",
       "G1                      0.204032\n",
       "absences                0.032955"
      ]
     },
     "execution_count": 101,
     "metadata": {},
     "output_type": "execute_result"
    }
   ],
   "source": [
    "\n",
    "coeff_elastic = pd.DataFrame(elastic_model.coef_,index=data_dum.drop('G3',axis=1).columns, columns=['Coefficients Metamodel'])\n",
    "coeff_elastic\n",
    "coeff_elastic[coeff_elastic['Coefficients Metamodel']!=0]"
   ]
  },
  {
   "cell_type": "code",
   "execution_count": 102,
   "id": "256a3887",
   "metadata": {},
   "outputs": [
    {
     "data": {
      "text/plain": [
       "[<matplotlib.lines.Line2D at 0x1b54b8c8970>]"
      ]
     },
     "execution_count": 102,
     "metadata": {},
     "output_type": "execute_result"
    },
    {
     "data": {
      "image/png": "[encoded data removed]",
      "text/plain": [
       "<Figure size 864x576 with 1 Axes>"
      ]
     },
     "metadata": {},
     "output_type": "display_data"
    }
   ],
   "source": [
    "X_train = X_train.drop('G3', axis='columns')\n",
    "X_test = X_test.drop('G3', axis='columns')\n",
    "El_net_model=results[2]\n",
    "# Lets plot the results\n",
    "y_pred1 = np.array(El_net_model.predict(X_test))\n",
    "plt.figure(figsize=(12,8))\n",
    "plt.xlabel(\"Predicted value with Metamodel\",fontsize=20)\n",
    "plt.ylabel(\"Actual y-values\",fontsize=20)\n",
    "plt.grid(1)\n",
    "plt.scatter(y_pred1,y_test,edgecolors=(0,0,0),lw=2,s=80)\n",
    "plt.plot(y_pred1,y_pred1, 'k--', lw=2)"
   ]
  },
  {
   "cell_type": "markdown",
   "id": "bc4d9ed0",
   "metadata": {
    "cell_id": "00066-fbbdb94f-9d60-474a-8efa-cec375235d21",
    "deepnote_cell_height": 54,
    "deepnote_cell_type": "markdown"
   },
   "source": [
    "#### Elastic net used G1, G2 and absences and build a model with MAE of 1.13"
   ]
  },
  {
   "cell_type": "markdown",
   "id": "5488c940",
   "metadata": {
    "cell_id": "00067-53ec82dd-181c-4b79-b380-cec5d20d1db4",
    "deepnote_cell_height": 62,
    "deepnote_cell_type": "markdown"
   },
   "source": [
    "### Finally, let's check the RF model and it's feature importances"
   ]
  },
  {
   "cell_type": "code",
   "execution_count": 103,
   "id": "6e5227e8",
   "metadata": {
    "cell_id": "00068-e2bb3618-3d85-4291-be93-495517ee365f",
    "deepnote_cell_height": 916,
    "deepnote_cell_type": "code",
    "deepnote_output_heights": [
     423
    ],
    "deepnote_to_be_reexecuted": false,
    "execution_millis": 3005,
    "execution_start": 1653341061041,
    "scrolled": true,
    "source_hash": "ff0e4383"
   },
   "outputs": [
    {
     "data": {
      "image/png": "[encoded data removed]",
      "text/plain": [
       "<Figure size 864x432 with 2 Axes>"
      ]
     },
     "metadata": {},
     "output_type": "display_data"
    }
   ],
   "source": [
    "#X_test = X_test.drop('G3', axis='columns')\n",
    "feature_importance = results[3].feature_importances_\n",
    "sorted_idx = np.argsort(feature_importance)\n",
    "pos = np.arange(sorted_idx.shape[0]) + 0.5\n",
    "fig = plt.figure(figsize=(12, 6))\n",
    "plt.subplot(1, 2, 1)\n",
    "plt.barh(pos, feature_importance[sorted_idx], align=\"center\")\n",
    "plt.yticks(pos, np.array(X_train.columns)[sorted_idx])\n",
    "plt.title(\"Feature Importance (MDI)\")\n",
    "\n",
    "result = permutation_importance(\n",
    "    results[2], X_test, y_test, n_repeats=10, random_state=42, n_jobs=2\n",
    ")\n",
    "sorted_idx = result.importances_mean.argsort()\n",
    "plt.subplot(1, 2, 2)\n",
    "plt.boxplot(\n",
    "    result.importances[sorted_idx].T,\n",
    "    vert=False,\n",
    "    labels=np.array(X_train.columns)[sorted_idx],\n",
    ")\n",
    "plt.title(\"Permutation Importance (test set)\")\n",
    "fig.tight_layout()\n",
    "plt.show()"
   ]
  },
  {
   "cell_type": "markdown",
   "id": "c85318bb",
   "metadata": {
    "cell_id": "00069-2f64b9d0-c165-4aa1-8d55-a10f315b54a1",
    "deepnote_cell_height": 54,
    "deepnote_cell_type": "markdown"
   },
   "source": [
    "#### After the permutation absences are no longer the second best predictor"
   ]
  }
 ],
 "metadata": {
  "deepnote": {},
  "deepnote_execution_queue": [],
  "deepnote_notebook_id": "6566ec88-dd05-41c5-80a5-fbf9f624b10c",
  "kernelspec": {
   "display_name": "Python 3 (ipykernel)",
   "language": "python",
   "name": "python3"
  },
  "language_info": {
   "codemirror_mode": {
    "name": "ipython",
    "version": 3
   },
   "file_extension": ".py",
   "mimetype": "text/x-python",
   "name": "python",
   "nbconvert_exporter": "python",
   "pygments_lexer": "ipython3",
   "version": "3.9.7"
  }
 },
 "nbformat": 4,
 "nbformat_minor": 5
}
